{
 "cells": [
  {
   "cell_type": "markdown",
   "id": "5ba31b99-de86-49a7-a723-725fb97f8ffb",
   "metadata": {},
   "source": [
    "# week_06"
   ]
  },
  {
   "cell_type": "markdown",
   "id": "c4fecb2b-9b1f-4401-9a91-385cf2e584ea",
   "metadata": {
    "tags": []
   },
   "source": [
    "## Ch.07 - NLTK Corpus"
   ]
  },
  {
   "cell_type": "code",
   "execution_count": 1,
   "id": "5854a31c-ae07-4082-953e-93849e4d2f2e",
   "metadata": {},
   "outputs": [
    {
     "name": "stdout",
     "output_type": "stream",
     "text": [
      "showing info https://raw.githubusercontent.com/nltk/nltk_data/gh-pages/index.xml\n"
     ]
    },
    {
     "data": {
      "text/plain": [
       "True"
      ]
     },
     "execution_count": 1,
     "metadata": {},
     "output_type": "execute_result"
    }
   ],
   "source": [
    "import nltk\n",
    "nltk.download() #괄호를 빈칸으로 두면 선택창을 통해 다운로드할 항목을 선택할 수 있음"
   ]
  },
  {
   "cell_type": "code",
   "execution_count": 2,
   "id": "4b31341e-0607-4927-b3b2-aff66dc225ac",
   "metadata": {},
   "outputs": [
    {
     "name": "stderr",
     "output_type": "stream",
     "text": [
      "[nltk_data] Downloading package inaugural to\n",
      "[nltk_data]     C:\\Users\\Bon\\AppData\\Roaming\\nltk_data...\n",
      "[nltk_data]   Package inaugural is already up-to-date!\n",
      "[nltk_data] Downloading package brown to\n",
      "[nltk_data]     C:\\Users\\Bon\\AppData\\Roaming\\nltk_data...\n",
      "[nltk_data]   Package brown is already up-to-date!\n"
     ]
    },
    {
     "data": {
      "text/plain": [
       "True"
      ]
     },
     "execution_count": 2,
     "metadata": {},
     "output_type": "execute_result"
    }
   ],
   "source": [
    "import nltk\n",
    "nltk.download(['inaugural', 'brown']) #Corpus 다운로드"
   ]
  },
  {
   "cell_type": "markdown",
   "id": "ca239e8e-c24f-4a3c-a088-2abe8ca1d992",
   "metadata": {
    "tags": []
   },
   "source": [
    "### Brown"
   ]
  },
  {
   "cell_type": "code",
   "execution_count": 3,
   "id": "65fdf5b0-0efe-4637-a9b2-40ad1f5d683b",
   "metadata": {},
   "outputs": [],
   "source": [
    "brown = nltk.corpus.brown"
   ]
  },
  {
   "cell_type": "code",
   "execution_count": 4,
   "id": "59fa9706-e633-472d-9df8-c6cf6bf03477",
   "metadata": {},
   "outputs": [
    {
     "name": "stdout",
     "output_type": "stream",
     "text": [
      "                 can could  will would   may might \n",
      "     adventure    46   151    50   191     5    58 \n",
      "belles_lettres   246   213   236   392   207   113 \n",
      "     editorial   121    56   233   180    74    39 \n",
      "       fiction    37   166    52   287     8    44 \n",
      "    government   117    38   244   120   153    13 \n"
     ]
    }
   ],
   "source": [
    "#장르에 따른 법조동사 사용 빈도\n",
    "cfd1 = nltk.ConditionalFreqDist(\n",
    "    (genre, word)\n",
    "    for genre in brown.categories()\n",
    "    for word in brown.words(categories=genre)\n",
    ")\n",
    "\n",
    "genres = brown.categories()[:5]#카테고리 앞에서 5개만\n",
    "modals = ['can', 'could', 'will', 'would', 'may', 'might']\n",
    "cfd1.tabulate(conditions=genres, samples=modals)"
   ]
  },
  {
   "cell_type": "code",
   "execution_count": 5,
   "id": "2a187923-c776-49dd-9ecf-dcffa5bc73a5",
   "metadata": {},
   "outputs": [
    {
     "name": "stdout",
     "output_type": "stream",
     "text": [
      "                 can could   may might  will would \n",
      "     adventure    48   154     7    59    51   194 \n",
      "belles_lettres   249   216   221   113   246   397 \n",
      "     editorial   124    57    79    39   235   185 \n",
      "       fiction    39   168    10    44    56   291 \n",
      "    government   119    38   179    13   244   120 \n"
     ]
    }
   ],
   "source": [
    "#위 코드에서 genres와 modals를 ConditionalFreqDist 내부에 포함시키는 법\n",
    "cfd2 = nltk.ConditionalFreqDist(\n",
    "    (genre, modals) #표의 x축과 y축을 변경하려면 genre와 modals의 위치를 바꿔주기\n",
    "    for genre in brown.categories()[:5] #모든 장르에 대해 조사하려면 [:5] 지우기\n",
    "    for modals in ['can', 'could', 'will', 'would', 'may', 'might']\n",
    "    \n",
    "    for word in brown.words(categories=genre)\n",
    "        if word.lower() == modals\n",
    ")\n",
    "\n",
    "cfd2.tabulate()"
   ]
  },
  {
   "cell_type": "code",
   "execution_count": 6,
   "id": "387e1bf0-9c06-47b9-bdb5-e05401aec853",
   "metadata": {},
   "outputs": [
    {
     "name": "stdout",
     "output_type": "stream",
     "text": [
      "                 can could   may might  will would \n",
      "     adventure     1     1     1     1     1     1 \n",
      "belles_lettres     1     1     1     1     1     1 \n",
      "     editorial     1     1     1     1     1     1 \n",
      "       fiction     1     1     1     1     1     1 \n",
      "    government     1     1     1     1     1     1 \n"
     ]
    }
   ],
   "source": [
    "'''\n",
    "for word in brown.words(categories=genre)\n",
    "    if word.lower() == modals\n",
    "부분이 필요한 이유?\n",
    "'''\n",
    "cfd_test1 = nltk.ConditionalFreqDist(\n",
    "    (genre, modals)\n",
    "    for genre in brown.categories()[:5]\n",
    "    for modals in ['can', 'could', 'will', 'would', 'may', 'might']\n",
    ")\n",
    "\n",
    "cfd_test1.tabulate()"
   ]
  },
  {
   "cell_type": "markdown",
   "id": "abcef341-45e1-4d3e-b383-b5a209a4802b",
   "metadata": {},
   "source": [
    "- 해당 부분을 제외하고 실행해보면 modal verb이 전부 1로만 출력됨\n",
    "- genre와 modals의 리스트만 순회하기 때문에 genre당 modal verb이 하나씩만 들어가게 됨(genre별로 사용된 modal verb의 횟수는 측정하지 못하게 됨)"
   ]
  },
  {
   "cell_type": "code",
   "execution_count": 7,
   "id": "dbcd0584-31de-4885-a076-9d461c2868d8",
   "metadata": {},
   "outputs": [
    {
     "name": "stdout",
     "output_type": "stream",
     "text": [
      "                 can could   may might  will would \n",
      "     adventure    48   154     7    59    51   194 \n",
      "belles_lettres   249   216   221   113   246   397 \n",
      "     editorial   124    57    79    39   235   185 \n",
      "       fiction    39   168    10    44    56   291 \n",
      "    government   119    38   179    13   244   120 \n"
     ]
    }
   ],
   "source": [
    "cfd_test2 = nltk.ConditionalFreqDist(\n",
    "    (genre, modals)\n",
    "    for genre in brown.categories()[:5]\n",
    "    for modals in ['can', 'could', 'will', 'would', 'may', 'might']\n",
    "    \n",
    "    for word in brown.words(categories=genre)\n",
    "        if word.lower() == modals #들여쓰기 필수 아님\n",
    "    #genre에 단어를 순회하면서 modal verb이 있을 때만 카운트 하는 역할을 수행\n",
    ")\n",
    "\n",
    "cfd_test2.tabulate()"
   ]
  },
  {
   "cell_type": "code",
   "execution_count": 8,
   "id": "dcc65ab5-8696-4269-97b2-76f7c7be8674",
   "metadata": {},
   "outputs": [
    {
     "data": {
      "image/png": "[encoded data removed]",
      "text/plain": [
       "<Figure size 864x360 with 1 Axes>"
      ]
     },
     "metadata": {
      "needs_background": "light"
     },
     "output_type": "display_data"
    },
    {
     "data": {
      "text/plain": [
       "<AxesSubplot:xlabel='Samples', ylabel='Counts'>"
      ]
     },
     "execution_count": 8,
     "metadata": {},
     "output_type": "execute_result"
    }
   ],
   "source": [
    "#표가 아닌 그래프로 표현하기\n",
    "#라이브러리를 import해야함\n",
    "import matplotlib.pyplot as plt #함수를 plt라는 이름으로 받기\n",
    "plt.figure(figsize=(12, 5)) #그래프의 가로, 세로 길이(단위: inch)\n",
    "cfd2.plot()"
   ]
  },
  {
   "cell_type": "markdown",
   "id": "49030acb-0832-41d2-9535-2e038d2c7942",
   "metadata": {},
   "source": [
    "### Inaugural\n",
    "- 미 대통령 연설문 데이터를 담은 corpus"
   ]
  },
  {
   "cell_type": "code",
   "execution_count": 9,
   "id": "91dd4948-69f5-4bd2-b893-c222c94bcaf9",
   "metadata": {},
   "outputs": [],
   "source": [
    "inaugural = nltk.corpus.inaugural"
   ]
  },
  {
   "cell_type": "code",
   "execution_count": 10,
   "id": "1432c736-71d5-4ea8-9539-4e46824fba31",
   "metadata": {},
   "outputs": [
    {
     "data": {
      "image/png": "[encoded data removed]",
      "text/plain": [
       "<Figure size 432x288 with 1 Axes>"
      ]
     },
     "metadata": {
      "needs_background": "light"
     },
     "output_type": "display_data"
    },
    {
     "data": {
      "text/plain": [
       "<AxesSubplot:xlabel='Samples', ylabel='Counts'>"
      ]
     },
     "execution_count": 10,
     "metadata": {},
     "output_type": "execute_result"
    }
   ],
   "source": [
    "#inaugural에서 america, citizen의 빈도수를 연도별로 측정\n",
    "#fileid에서 .txt제거\n",
    "cfd3 = nltk.ConditionalFreqDist(\n",
    "    (target_word, fileid[:-4]) #x, y축 바꾸려면 순서 바꾸기\n",
    "    for fileid in inaugural.fileids()\n",
    "    for target_word in ['america', 'citizen']\n",
    "    \n",
    "    for word in inaugural.words(fileids=fileid)\n",
    "        if word.lower().startswith(target_word) #target_word로 시작한 다른 단어도 유사한 뉘앙스로 사용되었을 가능성이 크기 때문에 측정에 포함하는 것이 논리적으로 타당함\n",
    ")\n",
    "\n",
    "cfd3.plot()"
   ]
  },
  {
   "cell_type": "markdown",
   "id": "3fa4e686-e22c-4761-86d0-11c86e99cf49",
   "metadata": {
    "tags": []
   },
   "source": [
    "## Ch.07 - List & Tuple"
   ]
  },
  {
   "cell_type": "markdown",
   "id": "2952f85d-9169-4df6-a289-f23028cf76c3",
   "metadata": {},
   "source": [
    "### list와 tuple 비교"
   ]
  },
  {
   "cell_type": "markdown",
   "id": "d3b39008-60b5-42a6-a91a-5343ea43d1b7",
   "metadata": {},
   "source": [
    "#### 1. 생성하기"
   ]
  },
  {
   "cell_type": "code",
   "execution_count": 11,
   "id": "f06454af-2418-4f73-b364-3edd0d63e4d0",
   "metadata": {},
   "outputs": [
    {
     "name": "stdout",
     "output_type": "stream",
     "text": [
      "[] [] () ()\n"
     ]
    }
   ],
   "source": [
    "#빈 list 생성하기\n",
    "list1 = []\n",
    "list2 = list()\n",
    "\n",
    "#빈 tuple 생성하기\n",
    "tuple1 = ()\n",
    "tuple2 = tuple()\n",
    "\n",
    "print(list1, list2, tuple1, tuple2)"
   ]
  },
  {
   "cell_type": "code",
   "execution_count": 12,
   "id": "572cdc8f-a975-4e3b-912b-ac9571944f89",
   "metadata": {},
   "outputs": [
    {
     "name": "stdout",
     "output_type": "stream",
     "text": [
      "['a', 'b'] ('a', 'b') ('a', 'b')\n"
     ]
    }
   ],
   "source": [
    "#요소가 존재할 때\n",
    "list1 = ['a', 'b']\n",
    "tuple1 = ('a', 'b')\n",
    "tuple2 = 'a', 'b' #괄호는 없어도 됨\n",
    "\n",
    "print(list1, tuple1, tuple2)"
   ]
  },
  {
   "cell_type": "code",
   "execution_count": 13,
   "id": "ee214a82-e28e-4dad-aaeb-d248b3a64746",
   "metadata": {},
   "outputs": [
    {
     "name": "stdout",
     "output_type": "stream",
     "text": [
      "('a',) ('a',)\n"
     ]
    }
   ],
   "source": [
    "#tuple의 경우 요소가 한 개 일 때는 ','를 붙여야 함\n",
    "\n",
    "tuple1 = ('a',)\n",
    "tuple2 = 'a',\n",
    "\n",
    "print(tuple1, tuple2)"
   ]
  },
  {
   "cell_type": "code",
   "execution_count": 14,
   "id": "fa661c10-9187-4692-bc37-a2229183c583",
   "metadata": {},
   "outputs": [
    {
     "data": {
      "text/plain": [
       "(str, int)"
      ]
     },
     "execution_count": 14,
     "metadata": {},
     "output_type": "execute_result"
    }
   ],
   "source": [
    "#','를 붙이지 않을 경우 문자열이나 숫자로 인식\n",
    "tuple1 = 'a'\n",
    "tuple2 = (2)\n",
    "\n",
    "type(tuple1), type(tuple2)"
   ]
  },
  {
   "cell_type": "markdown",
   "id": "6144e82a-fc76-425d-ac80-8586dc024578",
   "metadata": {},
   "source": [
    "#### 2. 여러 변수 할당하기\n",
    "- packing: 변수 하나에 하나 이상의 데이터를 할당하는 것\n",
    "  - 리스트, 튜플, 자체가 packing의 기능을 함\n",
    "  - ex) a = [1, 2, 3, 4]\n",
    "- unpacking: 하나의 변수에 존재하는 하나 이상의 데이터를 여러 변수에 나눠 할당하는 것\n",
    "  - ex) a, b, c = [1, 2, 3] => a = 1, b = 2, c = 3"
   ]
  },
  {
   "cell_type": "code",
   "execution_count": 15,
   "id": "53139d61-4ac6-4e27-b961-f2dfdfb916c4",
   "metadata": {},
   "outputs": [
    {
     "name": "stdout",
     "output_type": "stream",
     "text": [
      "a p p l e\n"
     ]
    }
   ],
   "source": [
    "#list, tuple과 같은 자료형 뿐 아니라 문자열도 unpacking할 수 있음\n",
    "word = 'apple'\n",
    "a, b, c, d, e = word\n",
    "print(a, b, c, d, e)"
   ]
  },
  {
   "cell_type": "code",
   "execution_count": 16,
   "id": "1284af28-d4a7-488b-94e6-4ef14a913113",
   "metadata": {},
   "outputs": [
    {
     "data": {
      "text/plain": [
       "('world', 'hello')"
      ]
     },
     "execution_count": 16,
     "metadata": {},
     "output_type": "execute_result"
    }
   ],
   "source": [
    "#두 변수의 값을 교환하는 방법\n",
    "#1. 다른 변수를 통해 교환\n",
    "a = 'hello'\n",
    "b = 'world'\n",
    "\n",
    "temp1 = a\n",
    "temp2 = b\n",
    "a = temp2\n",
    "b = temp1\n",
    "\n",
    "a, b"
   ]
  },
  {
   "cell_type": "code",
   "execution_count": 17,
   "id": "9327d599-cf24-4f13-b589-f16743581556",
   "metadata": {},
   "outputs": [
    {
     "data": {
      "text/plain": [
       "('world', 'hello')"
      ]
     },
     "execution_count": 17,
     "metadata": {},
     "output_type": "execute_result"
    }
   ],
   "source": [
    "#2. tuple과 unpacking을 이용해 값을 교환\n",
    "a = 'hello'\n",
    "b = 'world'\n",
    "\n",
    "a, b = b, a #우측의 b, a가 tuple이 되어 다시 좌측의 변수 a, b에 할당됨\n",
    "\n",
    "a, b"
   ]
  },
  {
   "cell_type": "markdown",
   "id": "cc3223fc-fbd2-46a6-b675-15f1b49055d4",
   "metadata": {},
   "source": [
    "#### 3. 연산\n",
    "- list와 tuple이 동일함"
   ]
  },
  {
   "cell_type": "code",
   "execution_count": 18,
   "id": "ba02a974-62c6-44bd-99a3-d9631cd32d11",
   "metadata": {},
   "outputs": [
    {
     "data": {
      "text/plain": [
       "[1, 2, 3]"
      ]
     },
     "execution_count": 18,
     "metadata": {},
     "output_type": "execute_result"
    }
   ],
   "source": [
    "#합 연산(+)\n",
    "#두 변수를 하나의 list혹은 tuple로 합치는 기능\n",
    "[1, 2] + [3]"
   ]
  },
  {
   "cell_type": "code",
   "execution_count": 19,
   "id": "3d16aa16-2cbe-41f3-9797-52efe935a861",
   "metadata": {},
   "outputs": [
    {
     "data": {
      "text/plain": [
       "(1, 2, 3)"
      ]
     },
     "execution_count": 19,
     "metadata": {},
     "output_type": "execute_result"
    }
   ],
   "source": [
    "(1, 2) + (3,) #tuple을 연산할 때는 반드시 괄호를 써줘야함"
   ]
  },
  {
   "cell_type": "code",
   "execution_count": 20,
   "id": "16f45c1e-12f3-4a4d-b02e-82f4543d749a",
   "metadata": {},
   "outputs": [
    {
     "ename": "TypeError",
     "evalue": "can only concatenate tuple (not \"int\") to tuple",
     "output_type": "error",
     "traceback": [
      "\u001b[1;31m---------------------------------------------------------------------------\u001b[0m",
      "\u001b[1;31mTypeError\u001b[0m                                 Traceback (most recent call last)",
      "\u001b[1;32m~\\AppData\\Local\\Temp/ipykernel_8084/1531362636.py\u001b[0m in \u001b[0;36m<module>\u001b[1;34m\u001b[0m\n\u001b[1;32m----> 1\u001b[1;33m \u001b[1;33m(\u001b[0m\u001b[1;36m1\u001b[0m\u001b[1;33m,\u001b[0m \u001b[1;36m2\u001b[0m\u001b[1;33m)\u001b[0m \u001b[1;33m+\u001b[0m \u001b[1;36m3\u001b[0m\u001b[1;33m,\u001b[0m \u001b[1;31m#그렇지 않을 경우 오류가 발생하거나\u001b[0m\u001b[1;33m\u001b[0m\u001b[1;33m\u001b[0m\u001b[0m\n\u001b[0m",
      "\u001b[1;31mTypeError\u001b[0m: can only concatenate tuple (not \"int\") to tuple"
     ]
    }
   ],
   "source": [
    "(1, 2) + 3, #그렇지 않을 경우 오류가 발생하거나"
   ]
  },
  {
   "cell_type": "code",
   "execution_count": null,
   "id": "a9bcdb5a-7cc1-4287-8852-3b9fe4644afd",
   "metadata": {},
   "outputs": [],
   "source": [
    "1, 2 + 3, #숫자 간의 연산으로 인식해 결과가 달라지게 됨"
   ]
  },
  {
   "cell_type": "code",
   "execution_count": 21,
   "id": "a80d25d7-cfa8-478c-85d9-7cac650bcdfc",
   "metadata": {},
   "outputs": [
    {
     "data": {
      "text/plain": [
       "[1, 2, 1, 2, 1, 2, 1, 2]"
      ]
     },
     "execution_count": 21,
     "metadata": {},
     "output_type": "execute_result"
    }
   ],
   "source": [
    "#곱 연산(*)\n",
    "#하나의 변수를 곱한만큼 반복한 list 혹은 tuple 생성\n",
    "[1, 2] * 4"
   ]
  },
  {
   "cell_type": "code",
   "execution_count": 22,
   "id": "e8cd9141-5135-4229-a2bb-ff6407192964",
   "metadata": {},
   "outputs": [
    {
     "data": {
      "text/plain": [
       "(1, 2, 1, 2, 1, 2, 1, 2)"
      ]
     },
     "execution_count": 22,
     "metadata": {},
     "output_type": "execute_result"
    }
   ],
   "source": [
    "(1, 2) * 4"
   ]
  },
  {
   "cell_type": "code",
   "execution_count": 23,
   "id": "10ea87b9-874a-40e2-8cff-5dc34dbf77d8",
   "metadata": {},
   "outputs": [
    {
     "data": {
      "text/plain": [
       "(1, 8)"
      ]
     },
     "execution_count": 23,
     "metadata": {},
     "output_type": "execute_result"
    }
   ],
   "source": [
    "1, 2 * 4 #괄호가 없어서 숫자 간 연산으로 인식함"
   ]
  },
  {
   "cell_type": "code",
   "execution_count": 24,
   "id": "8f01389e-1b04-48eb-ab7b-f3ec80343bfc",
   "metadata": {},
   "outputs": [
    {
     "data": {
      "text/plain": [
       "True"
      ]
     },
     "execution_count": 24,
     "metadata": {},
     "output_type": "execute_result"
    }
   ],
   "source": [
    "#비교 연산(<, >, ==)\n",
    "#비교할 때는 가장 앞의 요소부터 순서대로 비교함\n",
    "a = [1, 2, 10]\n",
    "b = [1, 3, 3]\n",
    "a < b"
   ]
  },
  {
   "cell_type": "code",
   "execution_count": 25,
   "id": "2abd856f-b14c-4915-9e3f-a8cb85e85721",
   "metadata": {},
   "outputs": [
    {
     "ename": "TypeError",
     "evalue": "'<' not supported between instances of 'list' and 'tuple'",
     "output_type": "error",
     "traceback": [
      "\u001b[1;31m---------------------------------------------------------------------------\u001b[0m",
      "\u001b[1;31mTypeError\u001b[0m                                 Traceback (most recent call last)",
      "\u001b[1;32m~\\AppData\\Local\\Temp/ipykernel_8084/365849820.py\u001b[0m in \u001b[0;36m<module>\u001b[1;34m\u001b[0m\n\u001b[0;32m      2\u001b[0m \u001b[0ma\u001b[0m \u001b[1;33m=\u001b[0m \u001b[1;33m[\u001b[0m\u001b[1;36m1\u001b[0m\u001b[1;33m,\u001b[0m \u001b[1;36m2\u001b[0m\u001b[1;33m]\u001b[0m\u001b[1;33m\u001b[0m\u001b[1;33m\u001b[0m\u001b[0m\n\u001b[0;32m      3\u001b[0m \u001b[0mb\u001b[0m \u001b[1;33m=\u001b[0m \u001b[1;33m(\u001b[0m\u001b[1;36m1\u001b[0m\u001b[1;33m,\u001b[0m \u001b[1;36m3\u001b[0m\u001b[1;33m)\u001b[0m\u001b[1;33m\u001b[0m\u001b[1;33m\u001b[0m\u001b[0m\n\u001b[1;32m----> 4\u001b[1;33m \u001b[0ma\u001b[0m \u001b[1;33m<\u001b[0m \u001b[0mb\u001b[0m\u001b[1;33m\u001b[0m\u001b[1;33m\u001b[0m\u001b[0m\n\u001b[0m",
      "\u001b[1;31mTypeError\u001b[0m: '<' not supported between instances of 'list' and 'tuple'"
     ]
    }
   ],
   "source": [
    "#list와 tuple 간 비교는 불가능\n",
    "a = [1, 2]\n",
    "b = (1, 3)\n",
    "a < b"
   ]
  },
  {
   "cell_type": "markdown",
   "id": "ec73cfd1-35ef-4027-a788-82b1ccebf86b",
   "metadata": {},
   "source": [
    "#### 4. 순회하기"
   ]
  },
  {
   "cell_type": "code",
   "execution_count": 26,
   "id": "85e6cab2-5c49-40ec-b614-b561baab2aa3",
   "metadata": {},
   "outputs": [
    {
     "name": "stdout",
     "output_type": "stream",
     "text": [
      "1\n",
      "2\n",
      "3\n",
      "4\n",
      "5\n"
     ]
    }
   ],
   "source": [
    "#list와 tuple 모두 순회가 가능함\n",
    "a = [1, 2, 3, 4, 5]\n",
    "\n",
    "for elem in a:\n",
    "    print(elem)"
   ]
  },
  {
   "cell_type": "code",
   "execution_count": 27,
   "id": "742e2d00-236b-4fc4-b75f-d04114460cf2",
   "metadata": {},
   "outputs": [
    {
     "name": "stdout",
     "output_type": "stream",
     "text": [
      "1\n",
      "2\n",
      "3\n",
      "4\n",
      "5\n"
     ]
    }
   ],
   "source": [
    "b = 1, 2, 3, 4, 5\n",
    "\n",
    "for elem in b:\n",
    "    print(elem)"
   ]
  },
  {
   "cell_type": "markdown",
   "id": "30d4860a-c0ee-47d2-a7b1-2941de60a22c",
   "metadata": {},
   "source": [
    "#### 5. list comprehension"
   ]
  },
  {
   "cell_type": "code",
   "execution_count": 28,
   "id": "e684667b-162d-4d55-bdb2-861c04d8625f",
   "metadata": {},
   "outputs": [
    {
     "data": {
      "text/plain": [
       "((1, 2, 3, 4, 5), (1, 2, 3, 4, 5))"
      ]
     },
     "execution_count": 28,
     "metadata": {},
     "output_type": "execute_result"
    }
   ],
   "source": [
    "#tuple은 list comprehension 사용 불가능\n",
    "#unpacking이나 타임 변환을 통해 list comprehension을 튜플 형태로 만드는 것은 가능하나 느리기 때문에 권장되진 않음\n",
    "tuple1 = tuple([n for n in a])\n",
    "tuple2 = *[n for n in a],\n",
    "\n",
    "tuple1, tuple2"
   ]
  },
  {
   "cell_type": "markdown",
   "id": "72d3656e-1aa3-453f-8af4-23291f1eb9a6",
   "metadata": {},
   "source": [
    "#### 6. tuple은 불변 객체\n",
    "- 변수를 초기화하지 않는 한 불변\n",
    "  - 초기화: a = 1, 2, 3일 때, 다시 a  = ~ 로 변수를 선언하는 것\n",
    "- 코드 수정 시, tuple은 수정할 수 없도록 하는 용도로 사용\n",
    "  - key 값을 저장할 때\n",
    "  - blue = 1, white = 2처럼 특정 코드를 저장할 때"
   ]
  },
  {
   "cell_type": "code",
   "execution_count": 29,
   "id": "b712412f-8d37-487d-9951-4c9fc1917087",
   "metadata": {},
   "outputs": [
    {
     "data": {
      "text/plain": [
       "(1, 1, 2, 3)"
      ]
     },
     "execution_count": 29,
     "metadata": {},
     "output_type": "execute_result"
    }
   ],
   "source": [
    "(1,) + (1, 2, 3) #수정 된 게 아니라 다른 객체에 할당된 것"
   ]
  },
  {
   "cell_type": "code",
   "execution_count": 30,
   "id": "273f1cb3-f475-42f5-90a8-556c0bed3fc6",
   "metadata": {},
   "outputs": [
    {
     "data": {
      "text/plain": [
       "(2359949442016, 2357956392416)"
      ]
     },
     "execution_count": 30,
     "metadata": {},
     "output_type": "execute_result"
    }
   ],
   "source": [
    "a = (1,)\n",
    "b = (1, 2, 3)\n",
    "id(a), id(a + b)"
   ]
  },
  {
   "cell_type": "markdown",
   "id": "dda2706d-4862-4265-824e-9ca5c16661cd",
   "metadata": {},
   "source": [
    "#### 7. 형 변환"
   ]
  },
  {
   "cell_type": "code",
   "execution_count": 31,
   "id": "2656e683-e5d4-4af2-af4b-cd30dfda6493",
   "metadata": {},
   "outputs": [
    {
     "data": {
      "text/plain": [
       "['a', 'p', 'p', 'l', 'e']"
      ]
     },
     "execution_count": 31,
     "metadata": {},
     "output_type": "execute_result"
    }
   ],
   "source": [
    "#list()\n",
    "a = 'apple'\n",
    "list(a) #문자열을 형 변환하면 글자단위로 쪼개짐"
   ]
  },
  {
   "cell_type": "code",
   "execution_count": 32,
   "id": "b83abcbe-8649-4869-b85b-8c834221a80c",
   "metadata": {},
   "outputs": [
    {
     "data": {
      "text/plain": [
       "['apple']"
      ]
     },
     "execution_count": 32,
     "metadata": {},
     "output_type": "execute_result"
    }
   ],
   "source": [
    "[a] #그냥 감싸면 그대로 들어감"
   ]
  },
  {
   "cell_type": "code",
   "execution_count": 33,
   "id": "a64eeb1b-3d4d-4ee6-b7f9-6114048df8db",
   "metadata": {},
   "outputs": [
    {
     "data": {
      "text/plain": [
       "('b', 'a', 'n', 'a', 'n', 'a')"
      ]
     },
     "execution_count": 33,
     "metadata": {},
     "output_type": "execute_result"
    }
   ],
   "source": [
    "#tuple()\n",
    "b = 'banana'\n",
    "tuple(b)"
   ]
  },
  {
   "cell_type": "code",
   "execution_count": 34,
   "id": "802cf035-de99-45f1-9a8a-cb9dad046141",
   "metadata": {},
   "outputs": [
    {
     "data": {
      "text/plain": [
       "('apple', 'banana')"
      ]
     },
     "execution_count": 34,
     "metadata": {},
     "output_type": "execute_result"
    }
   ],
   "source": [
    "(a, b)"
   ]
  },
  {
   "cell_type": "markdown",
   "id": "d776b285-a0c8-44a0-b528-6d0b0030482b",
   "metadata": {},
   "source": [
    "#### 8. 인덱싱, 슬라이싱"
   ]
  },
  {
   "cell_type": "code",
   "execution_count": 35,
   "id": "6322bf25-104f-4aef-a604-1dc9b9d5a4cd",
   "metadata": {},
   "outputs": [
    {
     "data": {
      "text/plain": [
       "(4, 3)"
      ]
     },
     "execution_count": 35,
     "metadata": {},
     "output_type": "execute_result"
    }
   ],
   "source": [
    "#인덱싱\n",
    "a = [1, 2, 3, 4]\n",
    "b = 1, 2, 3, 4\n",
    "\n",
    "a[3], b[2]"
   ]
  },
  {
   "cell_type": "code",
   "execution_count": 36,
   "id": "39c349ea-4fd0-4ecf-a3bc-9515f11ec3c2",
   "metadata": {},
   "outputs": [
    {
     "data": {
      "text/plain": [
       "([1, 2], (2, 3))"
      ]
     },
     "execution_count": 36,
     "metadata": {},
     "output_type": "execute_result"
    }
   ],
   "source": [
    "#슬라이싱\n",
    "a[:2], b[1:3]"
   ]
  },
  {
   "cell_type": "markdown",
   "id": "af2b1884-4d6f-448a-94ee-1af91028dc6e",
   "metadata": {},
   "source": [
    "- 튜플의 장점:\n",
    "  - 타인이 변경하는 걸 방지 **리스트와 가장 큰 차이**\n",
    "  - 메모리 사용이 적음\n",
    "- 리스트 장점:\n",
    "  - 데이터를 순차적으로 파악하기에 용이\n",
    "  - 중복되는 데이터를 포함 가능"
   ]
  },
  {
   "cell_type": "markdown",
   "id": "e4ff86d6-505d-4132-82e3-61ad973879b9",
   "metadata": {},
   "source": [
    "### List 관련 함수"
   ]
  },
  {
   "cell_type": "markdown",
   "id": "34204429-050f-41dc-a488-21c276513410",
   "metadata": {},
   "source": [
    "#### 항목 변경하기"
   ]
  },
  {
   "cell_type": "code",
   "execution_count": 37,
   "id": "59b6b0a8-8bb3-4230-8c40-8621f01483be",
   "metadata": {},
   "outputs": [
    {
     "data": {
      "text/plain": [
       "['월', '수', '목', '금']"
      ]
     },
     "execution_count": 37,
     "metadata": {},
     "output_type": "execute_result"
    }
   ],
   "source": [
    "#append()\n",
    "#list 가장 마지막에 새로운 항목을 추가\n",
    "#<list name>.append(<추가할 항목>)\n",
    "days = ['월', '수', '목']\n",
    "\n",
    "days.append('금')\n",
    "days"
   ]
  },
  {
   "cell_type": "code",
   "execution_count": 38,
   "id": "701b65d1-0bf2-460c-8a5e-9e9a40f32418",
   "metadata": {},
   "outputs": [
    {
     "ename": "SyntaxError",
     "evalue": "EOL while scanning string literal (Temp/ipykernel_8084/2246718303.py, line 4)",
     "output_type": "error",
     "traceback": [
      "\u001b[1;36m  File \u001b[1;32m\"C:\\Users\\Bon\\AppData\\Local\\Temp/ipykernel_8084/2246718303.py\"\u001b[1;36m, line \u001b[1;32m4\u001b[0m\n\u001b[1;33m    days.insert(1, '화\u001b[0m\n\u001b[1;37m                     ^\u001b[0m\n\u001b[1;31mSyntaxError\u001b[0m\u001b[1;31m:\u001b[0m EOL while scanning string literal\n"
     ]
    }
   ],
   "source": [
    "#insert()\n",
    "#원하는 인덱스에 새로운 항목을 삽입\n",
    "#<list name>.insert(<index>, <추가할 항목>)\n",
    "days.insert(1, '화\n",
    "            ') #원하는 offset 지정가능\n",
    "days"
   ]
  },
  {
   "cell_type": "code",
   "execution_count": 39,
   "id": "d4d63941-6616-4aba-81d6-8200fc020dd8",
   "metadata": {},
   "outputs": [
    {
     "data": {
      "text/plain": [
       "['월', '수', '목', '금', '토', '일']"
      ]
     },
     "execution_count": 39,
     "metadata": {},
     "output_type": "execute_result"
    }
   ],
   "source": [
    "#extend()\n",
    "#list를 병합하는 함수\n",
    "#<list name>.append(<추가할 list>)\n",
    "weekend = ['토', '일']\n",
    "days.extend(weekend)\n",
    "days"
   ]
  },
  {
   "cell_type": "code",
   "execution_count": 40,
   "id": "5513a16a-5801-45b3-99c4-7d304394c4b7",
   "metadata": {},
   "outputs": [
    {
     "data": {
      "text/plain": [
       "['월', '수', '목', '금', '토', '일', ['토', '일']]"
      ]
     },
     "execution_count": 40,
     "metadata": {},
     "output_type": "execute_result"
    }
   ],
   "source": [
    "#다른 list를 append로 추가하면 list 형태로 추가됨\n",
    "days.append(weekend)\n",
    "days"
   ]
  },
  {
   "cell_type": "code",
   "execution_count": 41,
   "id": "17b29cf6-7aa4-4151-89ca-3048d19a20a2",
   "metadata": {},
   "outputs": [
    {
     "data": {
      "text/plain": [
       "['월', '수', '목', '금', '토', '일', ['토', '일'], '토', '일']"
      ]
     },
     "execution_count": 41,
     "metadata": {},
     "output_type": "execute_result"
    }
   ],
   "source": [
    "#연산자를 사용할수도 있음\n",
    "#이 경우 하나하나 항목으로 추가됨\n",
    "days += weekend\n",
    "days"
   ]
  },
  {
   "cell_type": "code",
   "execution_count": 42,
   "id": "9f7d6d18-60bb-41a9-9dc1-0a8cbc304054",
   "metadata": {},
   "outputs": [
    {
     "data": {
      "text/plain": [
       "['월', '수', '목', '금', '토', '공휴일', ['토', '일'], '토', '일']"
      ]
     },
     "execution_count": 42,
     "metadata": {},
     "output_type": "execute_result"
    }
   ],
   "source": [
    "#인덱스를 지정해서 값을 변경 가능\n",
    "days[5] = '공휴일'\n",
    "days"
   ]
  },
  {
   "cell_type": "code",
   "execution_count": 43,
   "id": "b5b1db76-d0e0-4c42-a37f-ba52a4d29029",
   "metadata": {},
   "outputs": [
    {
     "data": {
      "text/plain": [
       "['월', '수', '목', '금', '토', '공휴일', '공', '휴', '일', '일']"
      ]
     },
     "execution_count": 43,
     "metadata": {},
     "output_type": "execute_result"
    }
   ],
   "source": [
    "days[6:8] = '공휴일' #바꿀 범위와 문자열 글자수는 꼭 같지 않아도 됨\n",
    "days #문자열은 범위를 지정할 시 한 글자씩 들어감"
   ]
  },
  {
   "cell_type": "code",
   "execution_count": 44,
   "id": "02dd75a2-245a-442d-a902-0adf207a808a",
   "metadata": {},
   "outputs": [
    {
     "data": {
      "text/plain": [
       "[0, 1, 2, 3, 4]"
      ]
     },
     "execution_count": 44,
     "metadata": {},
     "output_type": "execute_result"
    }
   ],
   "source": [
    "#range함수를 이용해 원하는 범위의 숫자로 채운 리스트를 생성 가능\n",
    "list(range(5))"
   ]
  },
  {
   "cell_type": "code",
   "execution_count": 45,
   "id": "55d3b2ba-2fc5-4e66-b0b8-b8a2b0cca01c",
   "metadata": {},
   "outputs": [
    {
     "data": {
      "text/plain": [
       "[1, 2, 3, 4, 5]"
      ]
     },
     "execution_count": 45,
     "metadata": {},
     "output_type": "execute_result"
    }
   ],
   "source": [
    "list(range(1, 6))"
   ]
  },
  {
   "cell_type": "code",
   "execution_count": 69,
   "id": "0b39ed17-452d-4bac-9223-176bfd96492e",
   "metadata": {},
   "outputs": [
    {
     "data": {
      "text/plain": [
       "[1, 3, 5, 7, 9]"
      ]
     },
     "execution_count": 69,
     "metadata": {},
     "output_type": "execute_result"
    }
   ],
   "source": [
    "list(range(1, 11, 2))"
   ]
  },
  {
   "cell_type": "markdown",
   "id": "9fc78614-6a29-4798-96b5-a0d13c90db56",
   "metadata": {},
   "source": [
    "#### 삭제하기"
   ]
  },
  {
   "cell_type": "code",
   "execution_count": 70,
   "id": "ee276045-9ef3-41ba-a278-102f5d301611",
   "metadata": {},
   "outputs": [
    {
     "ename": "IndexError",
     "evalue": "list assignment index out of range",
     "output_type": "error",
     "traceback": [
      "\u001b[1;31m---------------------------------------------------------------------------\u001b[0m",
      "\u001b[1;31mIndexError\u001b[0m                                Traceback (most recent call last)",
      "\u001b[1;32m~\\AppData\\Local\\Temp/ipykernel_8084/2645058616.py\u001b[0m in \u001b[0;36m<module>\u001b[1;34m\u001b[0m\n\u001b[0;32m      2\u001b[0m \u001b[1;31m#인덱스에 해당하는 값 삭제\u001b[0m\u001b[1;33m\u001b[0m\u001b[1;33m\u001b[0m\u001b[0m\n\u001b[0;32m      3\u001b[0m \u001b[1;31m#del <list name>[index]\u001b[0m\u001b[1;33m\u001b[0m\u001b[1;33m\u001b[0m\u001b[0m\n\u001b[1;32m----> 4\u001b[1;33m \u001b[1;32mdel\u001b[0m \u001b[0mdays\u001b[0m\u001b[1;33m[\u001b[0m\u001b[1;33m-\u001b[0m\u001b[1;36m5\u001b[0m\u001b[1;33m]\u001b[0m\u001b[1;33m\u001b[0m\u001b[1;33m\u001b[0m\u001b[0m\n\u001b[0m\u001b[0;32m      5\u001b[0m \u001b[0mdays\u001b[0m\u001b[1;33m\u001b[0m\u001b[1;33m\u001b[0m\u001b[0m\n",
      "\u001b[1;31mIndexError\u001b[0m: list assignment index out of range"
     ]
    }
   ],
   "source": [
    "#del()\n",
    "#인덱스에 해당하는 값 삭제\n",
    "#del <list name>[index]\n",
    "del days[-5]\n",
    "days"
   ]
  },
  {
   "cell_type": "code",
   "execution_count": 71,
   "id": "7e15596a-0adb-4197-824b-e4c0c24cc7a0",
   "metadata": {},
   "outputs": [
    {
     "ename": "ValueError",
     "evalue": "list.remove(x): x not in list",
     "output_type": "error",
     "traceback": [
      "\u001b[1;31m---------------------------------------------------------------------------\u001b[0m",
      "\u001b[1;31mValueError\u001b[0m                                Traceback (most recent call last)",
      "\u001b[1;32m~\\AppData\\Local\\Temp/ipykernel_8084/1722102314.py\u001b[0m in \u001b[0;36m<module>\u001b[1;34m\u001b[0m\n\u001b[0;32m      3\u001b[0m \u001b[1;31m#같은 값이 있으면 앞의 값을 삭제\u001b[0m\u001b[1;33m\u001b[0m\u001b[1;33m\u001b[0m\u001b[0m\n\u001b[0;32m      4\u001b[0m \u001b[1;31m#<list name>.remove(<제거할 항목>)\u001b[0m\u001b[1;33m\u001b[0m\u001b[1;33m\u001b[0m\u001b[0m\n\u001b[1;32m----> 5\u001b[1;33m \u001b[0mdays\u001b[0m\u001b[1;33m.\u001b[0m\u001b[0mremove\u001b[0m\u001b[1;33m(\u001b[0m\u001b[1;34m'일'\u001b[0m\u001b[1;33m)\u001b[0m\u001b[1;33m\u001b[0m\u001b[1;33m\u001b[0m\u001b[0m\n\u001b[0m\u001b[0;32m      6\u001b[0m \u001b[0mdays\u001b[0m\u001b[1;33m\u001b[0m\u001b[1;33m\u001b[0m\u001b[0m\n",
      "\u001b[1;31mValueError\u001b[0m: list.remove(x): x not in list"
     ]
    }
   ],
   "source": [
    "#remove()\n",
    "#특정한 값을 삭제하고 싶을 때 사용\n",
    "#같은 값이 있으면 앞의 값을 삭제\n",
    "#<list name>.remove(<제거할 항목>)\n",
    "days.remove('일')\n",
    "days"
   ]
  },
  {
   "cell_type": "code",
   "execution_count": 72,
   "id": "d743b044-f4a0-4ba2-9ff7-aa34243752a3",
   "metadata": {},
   "outputs": [
    {
     "ename": "IndexError",
     "evalue": "pop from empty list",
     "output_type": "error",
     "traceback": [
      "\u001b[1;31m---------------------------------------------------------------------------\u001b[0m",
      "\u001b[1;31mIndexError\u001b[0m                                Traceback (most recent call last)",
      "\u001b[1;32m~\\AppData\\Local\\Temp/ipykernel_8084/1742544489.py\u001b[0m in \u001b[0;36m<module>\u001b[1;34m\u001b[0m\n\u001b[0;32m      3\u001b[0m \u001b[1;31m#default = -1 (가장 마지막 값 반환)\u001b[0m\u001b[1;33m\u001b[0m\u001b[1;33m\u001b[0m\u001b[0m\n\u001b[0;32m      4\u001b[0m \u001b[1;31m#<list name>.pop(index)\u001b[0m\u001b[1;33m\u001b[0m\u001b[1;33m\u001b[0m\u001b[0m\n\u001b[1;32m----> 5\u001b[1;33m \u001b[0mdays\u001b[0m\u001b[1;33m.\u001b[0m\u001b[0mpop\u001b[0m\u001b[1;33m(\u001b[0m\u001b[1;33m)\u001b[0m\u001b[1;33m\u001b[0m\u001b[1;33m\u001b[0m\u001b[0m\n\u001b[0m\u001b[0;32m      6\u001b[0m \u001b[0mdays\u001b[0m\u001b[1;33m\u001b[0m\u001b[1;33m\u001b[0m\u001b[0m\n",
      "\u001b[1;31mIndexError\u001b[0m: pop from empty list"
     ]
    }
   ],
   "source": [
    "#pop()\n",
    "#특정 인덱스에 해당하는 값을 제거한 후 반환하는 함수\n",
    "#default = -1 (가장 마지막 값 반환)\n",
    "#<list name>.pop(index)\n",
    "days.pop()\n",
    "days"
   ]
  },
  {
   "cell_type": "code",
   "execution_count": 73,
   "id": "5495b0e5-acf5-4318-9a6c-1eb5fef1f152",
   "metadata": {},
   "outputs": [
    {
     "ename": "IndexError",
     "evalue": "pop from empty list",
     "output_type": "error",
     "traceback": [
      "\u001b[1;31m---------------------------------------------------------------------------\u001b[0m",
      "\u001b[1;31mIndexError\u001b[0m                                Traceback (most recent call last)",
      "\u001b[1;32m~\\AppData\\Local\\Temp/ipykernel_8084/2893166346.py\u001b[0m in \u001b[0;36m<module>\u001b[1;34m\u001b[0m\n\u001b[1;32m----> 1\u001b[1;33m \u001b[0mdays\u001b[0m\u001b[1;33m.\u001b[0m\u001b[0mpop\u001b[0m\u001b[1;33m(\u001b[0m\u001b[1;33m-\u001b[0m\u001b[1;36m2\u001b[0m\u001b[1;33m)\u001b[0m\u001b[1;33m\u001b[0m\u001b[1;33m\u001b[0m\u001b[0m\n\u001b[0m\u001b[0;32m      2\u001b[0m \u001b[0mdays\u001b[0m\u001b[1;33m\u001b[0m\u001b[1;33m\u001b[0m\u001b[0m\n",
      "\u001b[1;31mIndexError\u001b[0m: pop from empty list"
     ]
    }
   ],
   "source": [
    "days.pop(-2)\n",
    "days"
   ]
  },
  {
   "cell_type": "code",
   "execution_count": 74,
   "id": "f985e7e2-99c4-4895-a1f8-29b789f310b4",
   "metadata": {},
   "outputs": [
    {
     "data": {
      "text/plain": [
       "[]"
      ]
     },
     "execution_count": 74,
     "metadata": {},
     "output_type": "execute_result"
    }
   ],
   "source": [
    "#clear()\n",
    "#리스트의 항목을 전부 삭제\n",
    "#<list name>.clear()\n",
    "days.clear()\n",
    "days"
   ]
  },
  {
   "cell_type": "markdown",
   "id": "684b5150-4230-4cf8-9322-d3f5844ab655",
   "metadata": {},
   "source": [
    "#### 값 찾기"
   ]
  },
  {
   "cell_type": "code",
   "execution_count": 75,
   "id": "03734691-8ca8-4e71-babb-7dce2bf3432c",
   "metadata": {},
   "outputs": [
    {
     "data": {
      "text/plain": [
       "2"
      ]
     },
     "execution_count": 75,
     "metadata": {},
     "output_type": "execute_result"
    }
   ],
   "source": [
    "#index()\n",
    "#해당하는 값을 찾아 인덱스를 반환\n",
    "#값이 존재하지 않으면 오류 발생\n",
    "#<list name>.index(<찾으려는 값>)\n",
    "a = list(range(5))\n",
    "a.index(2)"
   ]
  },
  {
   "cell_type": "code",
   "execution_count": 76,
   "id": "2206c1d5-324e-4c9f-b7c8-4decfd6bd6af",
   "metadata": {},
   "outputs": [
    {
     "ename": "ValueError",
     "evalue": "6 is not in list",
     "output_type": "error",
     "traceback": [
      "\u001b[1;31m---------------------------------------------------------------------------\u001b[0m",
      "\u001b[1;31mValueError\u001b[0m                                Traceback (most recent call last)",
      "\u001b[1;32m~\\AppData\\Local\\Temp/ipykernel_8084/4173875733.py\u001b[0m in \u001b[0;36m<module>\u001b[1;34m\u001b[0m\n\u001b[1;32m----> 1\u001b[1;33m \u001b[0ma\u001b[0m\u001b[1;33m.\u001b[0m\u001b[0mindex\u001b[0m\u001b[1;33m(\u001b[0m\u001b[1;36m6\u001b[0m\u001b[1;33m)\u001b[0m\u001b[1;33m\u001b[0m\u001b[1;33m\u001b[0m\u001b[0m\n\u001b[0m",
      "\u001b[1;31mValueError\u001b[0m: 6 is not in list"
     ]
    }
   ],
   "source": [
    "a.index(6)"
   ]
  },
  {
   "cell_type": "code",
   "execution_count": 77,
   "id": "353f37c5-60a9-4465-8e9e-3d0c5a9421dc",
   "metadata": {},
   "outputs": [
    {
     "data": {
      "text/plain": [
       "True"
      ]
     },
     "execution_count": 77,
     "metadata": {},
     "output_type": "execute_result"
    }
   ],
   "source": [
    "#값이 list에 존재하는지 확인\n",
    "3 in a"
   ]
  },
  {
   "cell_type": "markdown",
   "id": "ae13c8d0-e869-402d-97b8-72ca3a4f04c6",
   "metadata": {},
   "source": [
    "#### 정렬하기\n",
    "- sort(): 정렬한 뒤 값을 반환하지 않고 기존 값 변경\n",
    "- sorted(): 정렬한 뒤 정렬한 복사본을 반환, 기존 값은 유지\n",
    "- reverse(): 반대로 정렬한 뒤 값을 반환하지 않고 기존 값 변경\n",
    "- reversed(): 반대로 정렬한 뒤 정렬한 복사본을 반환, 기존 값은 유지"
   ]
  },
  {
   "cell_type": "code",
   "execution_count": 78,
   "id": "2e64978f-11ba-4fb6-a490-daa0adacc21c",
   "metadata": {},
   "outputs": [
    {
     "data": {
      "text/plain": [
       "[4, 3, 2, 1, 0]"
      ]
     },
     "execution_count": 78,
     "metadata": {},
     "output_type": "execute_result"
    }
   ],
   "source": [
    "#sort()\n",
    "#<list name>.sort()\n",
    "a.sort(reverse=True) #reverse=True를 쓰면 역순으로 정렬\n",
    "a #기존 값이 변함"
   ]
  },
  {
   "cell_type": "code",
   "execution_count": 79,
   "id": "c6cd7c8e-2787-48ee-83cb-599eaa258be8",
   "metadata": {},
   "outputs": [
    {
     "data": {
      "text/plain": [
       "[0, 1, 2, 3, 4]"
      ]
     },
     "execution_count": 79,
     "metadata": {},
     "output_type": "execute_result"
    }
   ],
   "source": [
    "#sorted()\n",
    "#sorted(<list name>, reverse=True(역순 정렬 할 경우에만))\n",
    "sorted(a)"
   ]
  },
  {
   "cell_type": "code",
   "execution_count": 80,
   "id": "ad4baab2-ebed-47fb-921a-f1164089ee8d",
   "metadata": {},
   "outputs": [
    {
     "data": {
      "text/plain": [
       "[4, 3, 2, 1, 0]"
      ]
     },
     "execution_count": 80,
     "metadata": {},
     "output_type": "execute_result"
    }
   ],
   "source": [
    "a #기존 값은 그대로"
   ]
  },
  {
   "cell_type": "code",
   "execution_count": 81,
   "id": "394b5df9-53a6-49cc-baca-c337726615c6",
   "metadata": {},
   "outputs": [
    {
     "data": {
      "text/plain": [
       "[0, 1, 2, 3, 4]"
      ]
     },
     "execution_count": 81,
     "metadata": {},
     "output_type": "execute_result"
    }
   ],
   "source": [
    "a.sort()\n",
    "a"
   ]
  },
  {
   "cell_type": "code",
   "execution_count": 82,
   "id": "30dd093f-fbef-4bfa-aea3-0e2125751236",
   "metadata": {},
   "outputs": [
    {
     "data": {
      "text/plain": [
       "[4, 3, 2, 1, 0]"
      ]
     },
     "execution_count": 82,
     "metadata": {},
     "output_type": "execute_result"
    }
   ],
   "source": [
    "#reverse()\n",
    "#<list name>.reverse()\n",
    "a.reverse()\n",
    "a"
   ]
  },
  {
   "cell_type": "code",
   "execution_count": 83,
   "id": "45aea2e2-dd68-4eae-8dc4-c254262aa66e",
   "metadata": {},
   "outputs": [
    {
     "data": {
      "text/plain": [
       "[0, 1, 2, 3, 4]"
      ]
     },
     "execution_count": 83,
     "metadata": {},
     "output_type": "execute_result"
    }
   ],
   "source": [
    "a.sort()\n",
    "a"
   ]
  },
  {
   "cell_type": "code",
   "execution_count": 84,
   "id": "60eda6b5-f00c-4d6c-b838-0186eb08f115",
   "metadata": {},
   "outputs": [
    {
     "data": {
      "text/plain": [
       "[4, 3, 2, 1, 0]"
      ]
     },
     "execution_count": 84,
     "metadata": {},
     "output_type": "execute_result"
    }
   ],
   "source": [
    "#reversed()\n",
    "#reversed(<list name>)\n",
    "list(reversed(a)) #list로 바꿔줘야함"
   ]
  },
  {
   "cell_type": "code",
   "execution_count": 85,
   "id": "0b01528a-1203-4166-8429-81a8c05ea827",
   "metadata": {},
   "outputs": [
    {
     "data": {
      "text/plain": [
       "<list_reverseiterator at 0x22577f26820>"
      ]
     },
     "execution_count": 85,
     "metadata": {},
     "output_type": "execute_result"
    }
   ],
   "source": [
    "reversed(a) #list로 변환하지 않을 경우 다음과 같은 값이 출력"
   ]
  },
  {
   "cell_type": "markdown",
   "id": "79ce4712-7f92-418a-bdab-abe442448ff5",
   "metadata": {},
   "source": [
    "#### 할당하기\n",
    "- =으로 할당할 때는 두 변수가 같은 메모리 주소를 참조하고 있기 때문에 하나의 값이 변하면 다른 값도 같이 변함.\n",
    "- shallow copy\n",
    "  - a가 변해도 b가 변하지 않게 하는 복사\n",
    "    - 리스트.copy()\n",
    "    - list(리스트)\n",
    "    - 리스트[:]\n",
    "- deep copy\n",
    "  - 리스트 내부의 리스트가 바뀌는 걸 방지하는 복사"
   ]
  },
  {
   "cell_type": "code",
   "execution_count": 86,
   "id": "0ec8f144-9892-438a-beba-5b4b6a62cedc",
   "metadata": {},
   "outputs": [],
   "source": [
    "a = [1, 2, 3, 4, 5]"
   ]
  },
  {
   "cell_type": "code",
   "execution_count": 87,
   "id": "d8362940-a5c3-4573-904e-c3c71e276357",
   "metadata": {},
   "outputs": [
    {
     "data": {
      "text/plain": [
       "[1, 2, 6, 4, 5]"
      ]
     },
     "execution_count": 87,
     "metadata": {},
     "output_type": "execute_result"
    }
   ],
   "source": [
    "b = a\n",
    "b[2] = 6\n",
    "b"
   ]
  },
  {
   "cell_type": "code",
   "execution_count": 88,
   "id": "56f4c71e-521f-4359-9639-c15ea2d7200f",
   "metadata": {},
   "outputs": [
    {
     "data": {
      "text/plain": [
       "[1, 2, 6, 4, 5]"
      ]
     },
     "execution_count": 88,
     "metadata": {},
     "output_type": "execute_result"
    }
   ],
   "source": [
    "a #같은 메모리 주소를 참조하고 있기 때문에 a의 값도 변경"
   ]
  },
  {
   "cell_type": "code",
   "execution_count": 89,
   "id": "790104e0-d9fe-4f5e-861f-27483e811ff4",
   "metadata": {},
   "outputs": [
    {
     "data": {
      "text/plain": [
       "(2357956878784, 2357956878784)"
      ]
     },
     "execution_count": 89,
     "metadata": {},
     "output_type": "execute_result"
    }
   ],
   "source": [
    "id(a), id(b)"
   ]
  },
  {
   "cell_type": "code",
   "execution_count": 90,
   "id": "70ad84bb-1ae8-4746-896c-c6bc20844af6",
   "metadata": {},
   "outputs": [
    {
     "data": {
      "text/plain": [
       "[1, 6, 4, 5]"
      ]
     },
     "execution_count": 90,
     "metadata": {},
     "output_type": "execute_result"
    }
   ],
   "source": [
    "c = a.copy()\n",
    "del c[1]\n",
    "c"
   ]
  },
  {
   "cell_type": "code",
   "execution_count": 91,
   "id": "43f7863f-78fd-402e-a238-b1bf662c2fa0",
   "metadata": {},
   "outputs": [
    {
     "data": {
      "text/plain": [
       "[1, 2, 6, 4, 5]"
      ]
     },
     "execution_count": 91,
     "metadata": {},
     "output_type": "execute_result"
    }
   ],
   "source": [
    "a #a 값은 변하지 않음"
   ]
  },
  {
   "cell_type": "code",
   "execution_count": 92,
   "id": "2b2d316f-7a7f-4a27-9f7f-b26853ba71c3",
   "metadata": {},
   "outputs": [
    {
     "data": {
      "text/plain": [
       "[1, 2, 3, [5, 5]]"
      ]
     },
     "execution_count": 92,
     "metadata": {},
     "output_type": "execute_result"
    }
   ],
   "source": [
    "a = [1, 2, 3, [4, 5]]\n",
    "b = a.copy()\n",
    "b[-1][0] = 5\n",
    "b"
   ]
  },
  {
   "cell_type": "code",
   "execution_count": 93,
   "id": "179054c9-0771-42c6-a542-ea4627e5daa3",
   "metadata": {},
   "outputs": [
    {
     "data": {
      "text/plain": [
       "[1, 2, 3, [5, 5]]"
      ]
     },
     "execution_count": 93,
     "metadata": {},
     "output_type": "execute_result"
    }
   ],
   "source": [
    "a #내부의 리스트는 여전히 같은 주소를 참조하고 있음으로 값이 변경됨"
   ]
  },
  {
   "cell_type": "markdown",
   "id": "4f3d0279-5645-457a-9880-1e5fb527d554",
   "metadata": {},
   "source": [
    "- shallow는 일차원적으로 값이 바뀌지 않게 막아줌\n",
    "- 리스트 내부의 가변 객체가 변하는 건 막을 수 없음"
   ]
  },
  {
   "cell_type": "code",
   "execution_count": 94,
   "id": "614be5dc-135e-46e0-88f6-2258e7a0fb13",
   "metadata": {},
   "outputs": [
    {
     "data": {
      "text/plain": [
       "[1, 2, 3, [4, 5]]"
      ]
     },
     "execution_count": 94,
     "metadata": {},
     "output_type": "execute_result"
    }
   ],
   "source": [
    "import copy\n",
    "c = copy.deepcopy(a)\n",
    "c[-1][0] = 4\n",
    "c"
   ]
  },
  {
   "cell_type": "code",
   "execution_count": 95,
   "id": "e1a3fb97-efab-42a8-8bef-383c56c51612",
   "metadata": {},
   "outputs": [
    {
     "data": {
      "text/plain": [
       "[1, 2, 3, [5, 5]]"
      ]
     },
     "execution_count": 95,
     "metadata": {},
     "output_type": "execute_result"
    }
   ],
   "source": [
    "a #deepcopy는 리스트 내부에 존재하는 가변 객체의 변화도 막아줌"
   ]
  },
  {
   "cell_type": "markdown",
   "id": "6e326e33-572b-4ea4-ac19-1afd750610e3",
   "metadata": {},
   "source": [
    "#### 순회하기\n",
    "- zip(): 여러 개의 리스트를 동시에 순회할 수 있게 하는 함수\n",
    "- enumerate(): 인덱스와 함께 순회할 때 사용하는 함수\n",
    "- range(): 정해진 범위를 순회하는 함수"
   ]
  },
  {
   "cell_type": "code",
   "execution_count": 96,
   "id": "9c725588-78f5-4329-8560-9ffb29888c10",
   "metadata": {},
   "outputs": [
    {
     "name": "stdout",
     "output_type": "stream",
     "text": [
      "1 mon\n",
      "2 tue\n",
      "3 wed\n"
     ]
    }
   ],
   "source": [
    "#zip()\n",
    "a = [1, 2, 3]\n",
    "b = ['mon', 'tue', 'wed']\n",
    "\n",
    "for item1, item2 in zip(a, b):\n",
    "    print(item1, item2)"
   ]
  },
  {
   "cell_type": "code",
   "execution_count": 97,
   "id": "6528fa1c-c431-4abd-bf3a-0a84b4487c99",
   "metadata": {},
   "outputs": [
    {
     "name": "stdout",
     "output_type": "stream",
     "text": [
      "1 mon\n",
      "2 tue\n",
      "3 wed\n"
     ]
    }
   ],
   "source": [
    "a = [1, 2, 3, 4]\n",
    "b = ['mon', 'tue', 'wed']\n",
    "\n",
    "for item1, item2 in zip(a, b):\n",
    "    print(item1, item2)\n",
    "#두 리스트 간 항목의 개수가 다를 경우 더 적은 쪽에 맞춰 순회"
   ]
  },
  {
   "cell_type": "code",
   "execution_count": 98,
   "id": "4ca0dec3-1a39-41e7-8311-819909c86cf6",
   "metadata": {},
   "outputs": [
    {
     "data": {
      "text/plain": [
       "([(1, 'mon'), (2, 'tue'), (3, 'wed')], {1: 'mon', 2: 'tue', 3: 'wed'})"
      ]
     },
     "execution_count": 98,
     "metadata": {},
     "output_type": "execute_result"
    }
   ],
   "source": [
    "#zip으로 리스트나 딕셔너리의 항목을 만들 수 있음\n",
    "list(zip(a, b)), dict(zip(a, b))"
   ]
  },
  {
   "cell_type": "code",
   "execution_count": 99,
   "id": "4c02b602-6de9-49e9-92f7-c5acb6694826",
   "metadata": {},
   "outputs": [
    {
     "name": "stdout",
     "output_type": "stream",
     "text": [
      "0 mon\n",
      "1 tue\n",
      "2 wed\n"
     ]
    }
   ],
   "source": [
    "#enumerate()\n",
    "for idx, item in enumerate(b):#idx = enumerate로 매겨진 index\n",
    "    print(idx, item)"
   ]
  },
  {
   "cell_type": "code",
   "execution_count": 100,
   "id": "34a0cfa8-3e3c-40ed-80a1-3c10a3484086",
   "metadata": {},
   "outputs": [
    {
     "data": {
      "text/plain": [
       "[(1, 'mon'), (2, 'tue'), (3, 'wed')]"
      ]
     },
     "execution_count": 100,
     "metadata": {},
     "output_type": "execute_result"
    }
   ],
   "source": [
    "#list comprehension\n",
    "ex = [(date, day) for date, day in zip(a, b)]\n",
    "ex"
   ]
  },
  {
   "cell_type": "markdown",
   "id": "c78cf17b-6f5a-4a4f-99a8-0a80021a67f9",
   "metadata": {},
   "source": [
    "#### 연습\n",
    "- list comprehension -> for문\n",
    "- for문을 사용하여 ex를 구현하기\n",
    "  - a, b"
   ]
  },
  {
   "cell_type": "code",
   "execution_count": 101,
   "id": "89118e18-d2f2-4954-8c8f-305e8aa36d94",
   "metadata": {},
   "outputs": [
    {
     "name": "stdout",
     "output_type": "stream",
     "text": [
      "[(1, 'mon'), (2, 'tue'), (3, 'wed')]\n"
     ]
    }
   ],
   "source": [
    "ex = []\n",
    "for date, day in zip(a, b):\n",
    "    ex.append((date, day))\n",
    "    \n",
    "print(ex)"
   ]
  },
  {
   "cell_type": "code",
   "execution_count": 102,
   "id": "2d572d9b-b4ba-44de-aa56-0078060c6984",
   "metadata": {},
   "outputs": [
    {
     "data": {
      "text/plain": [
       "[(1, 'mon'),\n",
       " (1, 'tue'),\n",
       " (1, 'wed'),\n",
       " (2, 'mon'),\n",
       " (2, 'tue'),\n",
       " (2, 'wed'),\n",
       " (3, 'mon'),\n",
       " (3, 'tue'),\n",
       " (3, 'wed'),\n",
       " (4, 'mon'),\n",
       " (4, 'tue'),\n",
       " (4, 'wed')]"
      ]
     },
     "execution_count": 102,
     "metadata": {},
     "output_type": "execute_result"
    }
   ],
   "source": [
    "#for day in b:\n",
    "#    for date in a\n",
    "#를 list comprehension으로\n",
    "[(date, day) for date in a for day in b] #zip으로 묶지 않았기 때문에 이중 for문처럼 출력됨"
   ]
  },
  {
   "cell_type": "code",
   "execution_count": 103,
   "id": "aada6d06-ab68-40e2-94ee-61150d14f6e2",
   "metadata": {},
   "outputs": [
    {
     "data": {
      "text/plain": [
       "[(\"DON'T\", \"Don'T\", 5),\n",
       " ('JUDGE', 'Judge', 5),\n",
       " ('A', 'A', 1),\n",
       " ('BOOK', 'Book', 4),\n",
       " ('BY', 'By', 2),\n",
       " ('ITS', 'Its', 3),\n",
       " ('COVER', 'Cover', 5)]"
      ]
     },
     "execution_count": 103,
     "metadata": {},
     "output_type": "execute_result"
    }
   ],
   "source": [
    "#(대문자, 타이틀, 글자수)로 저장된 리스트로 만들기\n",
    "sentence = \"don't judge a book by its cover\"\n",
    "[(w.upper(), w.title(), len(w)) for w in sentence.split()]"
   ]
  },
  {
   "cell_type": "code",
   "execution_count": 104,
   "id": "77292176-8d55-4735-bfdd-19e2afb71f5d",
   "metadata": {},
   "outputs": [
    {
     "data": {
      "text/plain": [
       "[[(1, 'mon'), (2, 'mon'), (3, 'mon'), (4, 'mon')],\n",
       " [(1, 'tue'), (2, 'tue'), (3, 'tue'), (4, 'tue')],\n",
       " [(1, 'wed'), (2, 'wed'), (3, 'wed'), (4, 'wed')]]"
      ]
     },
     "execution_count": 104,
     "metadata": {},
     "output_type": "execute_result"
    }
   ],
   "source": [
    "#list comprehension으로 이중리스트를 생성\n",
    "[[(date, day) for date in a] for day in b]"
   ]
  },
  {
   "cell_type": "code",
   "execution_count": 105,
   "id": "7162e085-571d-478e-8922-6507448ecb7a",
   "metadata": {},
   "outputs": [],
   "source": [
    "text = [\n",
    "    ['hello', 'guys'],\n",
    "    ['how', 'are', 'you']\n",
    "]\n",
    "\n",
    "#1. 문장으로 구성된 리스트 만들기\n",
    "#2. 전체 단어를 하나씩 리스트로 가져오기\n",
    "#3. 전체를 스트링으로 가져오기"
   ]
  },
  {
   "cell_type": "code",
   "execution_count": 106,
   "id": "95ddc193-e609-4e3d-a16b-64b144c15cbd",
   "metadata": {},
   "outputs": [
    {
     "data": {
      "text/plain": [
       "['hello guys', 'how are you']"
      ]
     },
     "execution_count": 106,
     "metadata": {},
     "output_type": "execute_result"
    }
   ],
   "source": [
    "#1.\n",
    "[' '.join(sent) for sent in text]"
   ]
  },
  {
   "cell_type": "code",
   "execution_count": 107,
   "id": "4f8b4d33-a581-4cc2-b450-1729a5dc9998",
   "metadata": {},
   "outputs": [
    {
     "data": {
      "text/plain": [
       "['hello', 'guys', 'how', 'are', 'you']"
      ]
     },
     "execution_count": 107,
     "metadata": {},
     "output_type": "execute_result"
    }
   ],
   "source": [
    "#2.\n",
    "[word for sent in text for word in sent]"
   ]
  },
  {
   "cell_type": "code",
   "execution_count": 108,
   "id": "2425bf84-2921-4320-baf1-8692fd4c8409",
   "metadata": {},
   "outputs": [
    {
     "data": {
      "text/plain": [
       "'hello guys how are you'"
      ]
     },
     "execution_count": 108,
     "metadata": {},
     "output_type": "execute_result"
    }
   ],
   "source": [
    "#3.\n",
    "' '.join([' '.join(sent) for sent in text])\n",
    "#' '.join([word for sent in text for word in sent])"
   ]
  },
  {
   "cell_type": "markdown",
   "id": "c35ad219-9ba4-4aff-b90f-8ab44f9876cb",
   "metadata": {},
   "source": [
    "과제 - 브라운 코퍼스 정제하기"
   ]
  },
  {
   "cell_type": "code",
   "execution_count": null,
   "id": "4219eb39-2da9-423a-acde-6460bb63badb",
   "metadata": {},
   "outputs": [],
   "source": []
  }
 ],
 "metadata": {
  "kernelspec": {
   "display_name": "Python 3 (ipykernel)",
   "language": "python",
   "name": "python3"
  },
  "language_info": {
   "codemirror_mode": {
    "name": "ipython",
    "version": 3
   },
   "file_extension": ".py",
   "mimetype": "text/x-python",
   "name": "python",
   "nbconvert_exporter": "python",
   "pygments_lexer": "ipython3",
   "version": "3.9.7"
  }
 },
 "nbformat": 4,
 "nbformat_minor": 5
}
