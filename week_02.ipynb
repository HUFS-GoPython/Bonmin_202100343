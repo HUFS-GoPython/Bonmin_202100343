{
 "cells": [
  {
   "cell_type": "markdown",
   "id": "3fdbba82-6a98-40b7-8034-c65f6f350bf2",
   "metadata": {
    "tags": []
   },
   "source": [
    "# week_02"
   ]
  },
  {
   "cell_type": "markdown",
   "id": "b5b7afb1-f9b6-44e1-bc56-f3f9db4eeef8",
   "metadata": {
    "tags": []
   },
   "source": [
    "## Ch.02 - Variables"
   ]
  },
  {
   "cell_type": "markdown",
   "id": "39aa9e4b-510b-448c-af82-b1d2608a691d",
   "metadata": {
    "tags": []
   },
   "source": [
    "### 자료형 변환"
   ]
  },
  {
   "cell_type": "code",
   "execution_count": 1,
   "id": "c4ff3060-9a17-4b6f-bae5-187eb314db2c",
   "metadata": {},
   "outputs": [
    {
     "name": "stdout",
     "output_type": "stream",
     "text": [
      "1.0 <class 'float'>\n",
      "1 <class 'str'>\n",
      "True <class 'bool'>\n"
     ]
    }
   ],
   "source": [
    "a = 1 #int\n",
    "\n",
    "print(float(a), type(float(a))) #int > float\n",
    "print(str(a), type(str(a))) #int > str\n",
    "print(bool(a), type(bool(a))) #int > bool / bool 자료형의 경우 비어있으면 False(ex.0, None, \"\"), 그 외에는 True"
   ]
  },
  {
   "cell_type": "code",
   "execution_count": 2,
   "id": "d67f3bee-4d7b-4716-bb8e-a6cd284a9292",
   "metadata": {},
   "outputs": [
    {
     "name": "stdout",
     "output_type": "stream",
     "text": [
      "1\n"
     ]
    }
   ],
   "source": [
    "# float > int 일 때, 소수점은 제거됨\n",
    "\n",
    "a = 1.5\n",
    "\n",
    "print(int(a))"
   ]
  },
  {
   "cell_type": "code",
   "execution_count": 3,
   "id": "13e3172e-e3da-4cd1-a133-cd39b62aa382",
   "metadata": {},
   "outputs": [
    {
     "ename": "ValueError",
     "evalue": "invalid literal for int() with base 10: '1.5'",
     "output_type": "error",
     "traceback": [
      "\u001b[1;31m---------------------------------------------------------------------------\u001b[0m",
      "\u001b[1;31mValueError\u001b[0m                                Traceback (most recent call last)",
      "\u001b[1;32m~\\AppData\\Local\\Temp/ipykernel_28880/3856860101.py\u001b[0m in \u001b[0;36m<module>\u001b[1;34m\u001b[0m\n\u001b[0;32m      2\u001b[0m \u001b[1;33m\u001b[0m\u001b[0m\n\u001b[0;32m      3\u001b[0m \u001b[0ma\u001b[0m \u001b[1;33m=\u001b[0m \u001b[1;34m\"1.5\"\u001b[0m\u001b[1;33m\u001b[0m\u001b[1;33m\u001b[0m\u001b[0m\n\u001b[1;32m----> 4\u001b[1;33m \u001b[0mint\u001b[0m\u001b[1;33m(\u001b[0m\u001b[0ma\u001b[0m\u001b[1;33m)\u001b[0m\u001b[1;33m\u001b[0m\u001b[1;33m\u001b[0m\u001b[0m\n\u001b[0m",
      "\u001b[1;31mValueError\u001b[0m: invalid literal for int() with base 10: '1.5'"
     ]
    }
   ],
   "source": [
    "# str > int, float 일 때, str에 소수점이 존재한다면 float로 받아야 함\n",
    "\n",
    "a = \"1.5\"\n",
    "int(a)"
   ]
  },
  {
   "cell_type": "code",
   "execution_count": 4,
   "id": "d31d743d-2df4-4cdc-acc2-e5afb0f2ff0b",
   "metadata": {},
   "outputs": [
    {
     "data": {
      "text/plain": [
       "1.5"
      ]
     },
     "execution_count": 4,
     "metadata": {},
     "output_type": "execute_result"
    }
   ],
   "source": [
    "float(a)"
   ]
  },
  {
   "cell_type": "code",
   "execution_count": 5,
   "id": "1ec374fe-c4b6-4450-8dab-be4d98f31ea4",
   "metadata": {},
   "outputs": [
    {
     "name": "stdout",
     "output_type": "stream",
     "text": [
      "8\n",
      "9\n"
     ]
    }
   ],
   "source": [
    "# 자료형 변환을 언제 하느냐에 따라 결과값이 달라질 수 있음\n",
    "\n",
    "x = 3.8\n",
    "y = 5.5\n",
    "\n",
    "print(int(x) + int(y))\n",
    "print(int(x + y))"
   ]
  },
  {
   "cell_type": "markdown",
   "id": "3be71b2d-09be-48eb-aa81-82b84aa7c3a5",
   "metadata": {
    "tags": []
   },
   "source": [
    "### print 함수에 대한 Tip"
   ]
  },
  {
   "cell_type": "code",
   "execution_count": 6,
   "id": "75aad1b0-d26a-44e1-8b83-8d64a0aebd47",
   "metadata": {},
   "outputs": [
    {
     "name": "stdout",
     "output_type": "stream",
     "text": [
      "apple orange banana\n",
      "peach\n"
     ]
    }
   ],
   "source": [
    "print('apple', 'orange', 'banana') #print 함수의 기본값(default)\n",
    "print('peach')"
   ]
  },
  {
   "cell_type": "markdown",
   "id": "8efd9fda-947b-4e43-83e9-6088f4bbc24e",
   "metadata": {},
   "source": [
    "#### print 함수의 default\n",
    "- 원소들 간 공백 생성(sep = ' ')\n",
    "- 함수 끝에서 줄바꿈(end = '\\n')\n",
    "- 기본값을 변경하려면 sep, end의 값을 변경\n",
    "- 원소들 사이에 입력될 값은 sep, 함수 끝의 값은 end를 변경"
   ]
  },
  {
   "cell_type": "code",
   "execution_count": 7,
   "id": "cd60ae7f-7b6f-49ed-af09-fe7fd39f986c",
   "metadata": {},
   "outputs": [
    {
     "name": "stdout",
     "output_type": "stream",
     "text": [
      "appleorangebanana\n",
      "appleorangebanana\n"
     ]
    }
   ],
   "source": [
    "# 원소들 간 공백을 없애는 법 2가지\n",
    "print('apple' + 'orange' + 'banana')\n",
    "print('apple', 'orange', 'banana', sep = '')"
   ]
  },
  {
   "cell_type": "code",
   "execution_count": 8,
   "id": "a132e53d-44ea-4ead-b2ff-26dc403ce34f",
   "metadata": {},
   "outputs": [
    {
     "name": "stdout",
     "output_type": "stream",
     "text": [
      "apple-orange-banana peach\n"
     ]
    }
   ],
   "source": [
    "# 원소들 사이를 - 로 잇고 줄바꿈 대신 공백을 넣는 법\n",
    "print('apple', 'orange', 'banana', sep = '-', end = ' ')\n",
    "print('peach')"
   ]
  },
  {
   "cell_type": "code",
   "execution_count": 9,
   "id": "7926a7d1-8146-48c6-b412-0b1e10568fc1",
   "metadata": {},
   "outputs": [
    {
     "name": "stdout",
     "output_type": "stream",
     "text": [
      "1 2 3\n"
     ]
    }
   ],
   "source": [
    "# ; 를 사용하면 한 줄 안에 여러 코드를 작성 가능(라인을 넘긴 것 같은 효과)\n",
    "a = 1; b = 2; c = 3; print(a, b, c)"
   ]
  },
  {
   "cell_type": "markdown",
   "id": "56073902-1544-4fd0-a275-bef41bf29850",
   "metadata": {},
   "source": [
    " "
   ]
  },
  {
   "cell_type": "markdown",
   "id": "17908818-fa63-4fb8-ab6d-dbc8d966b6ab",
   "metadata": {
    "tags": []
   },
   "source": [
    "## Ch.02 - input()\n",
    "- console에서 사용자에게 값을 직접 입력받는 함수\n",
    "- 입력 받는 값은 기본적으로 문자열(str)으로 취급\n",
    "- 입력 받은 값을 변수에 저장해야함\n",
    "- input()의 괄호 안에 입력해야할 값에 대한 정보를 문자열로 적을 수 있음"
   ]
  },
  {
   "cell_type": "code",
   "execution_count": 10,
   "id": "b9fa8095-e623-40ff-bab3-499fa76126c5",
   "metadata": {},
   "outputs": [
    {
     "name": "stdin",
     "output_type": "stream",
     "text": [
      "색을 입력하세요:  blue\n"
     ]
    },
    {
     "name": "stdout",
     "output_type": "stream",
     "text": [
      "blue\n"
     ]
    }
   ],
   "source": [
    "color  = input('색을 입력하세요: ')\n",
    "# print('색을 입력하세요: ')\n",
    "# color = input() 의 형태로도 표현 가능\n",
    "print(color)"
   ]
  },
  {
   "cell_type": "code",
   "execution_count": 11,
   "id": "d0e0cd68-387a-402b-9362-43973406c281",
   "metadata": {},
   "outputs": [
    {
     "data": {
      "text/plain": [
       "str"
      ]
     },
     "execution_count": 11,
     "metadata": {},
     "output_type": "execute_result"
    }
   ],
   "source": [
    "type(color) #기본적으로 문자열(str)"
   ]
  },
  {
   "cell_type": "code",
   "execution_count": 13,
   "id": "4dd75a30-77c9-4f09-8131-648211b58676",
   "metadata": {},
   "outputs": [
    {
     "name": "stdin",
     "output_type": "stream",
     "text": [
      "생일을 YYMMDD의 형태로 입력하세요:  020411\n"
     ]
    },
    {
     "name": "stdout",
     "output_type": "stream",
     "text": [
      "20411 <class 'int'>\n"
     ]
    }
   ],
   "source": [
    "# str이 아닌 다른 자료형으로 사용하기 위해서는 자료형 변환이 필요\n",
    "birthday = int(input(\"생일을 YYMMDD의 형태로 입력하세요: \"))\n",
    "print(birthday, type(birthday))"
   ]
  },
  {
   "cell_type": "markdown",
   "id": "4ff50d7a-a762-45a3-b458-3832b56eef83",
   "metadata": {},
   "source": [
    "### 문장 안에 변수를 사용하여 출력하는 법"
   ]
  },
  {
   "cell_type": "code",
   "execution_count": 14,
   "id": "9569abae-437b-4bc7-b6aa-bf11e5decc2c",
   "metadata": {},
   "outputs": [
    {
     "name": "stdout",
     "output_type": "stream",
     "text": [
      "생년월일은 20411 입니다.\n"
     ]
    }
   ],
   "source": [
    "# 1\n",
    "# print 안에 나열하여 사용\n",
    "print('생년월일은', birthday, '입니다.')"
   ]
  },
  {
   "cell_type": "code",
   "execution_count": 15,
   "id": "31c8da0c-952b-47da-be6b-a4add163f587",
   "metadata": {},
   "outputs": [
    {
     "name": "stdout",
     "output_type": "stream",
     "text": [
      "생년월일은 20411 입니다.\n"
     ]
    }
   ],
   "source": [
    "# 2\n",
    "# f-string 사용\n",
    "# print(f' ~ {변수} ~') 의 형태로 사용\n",
    "print(f'생년월일은 {birthday} 입니다.')"
   ]
  },
  {
   "cell_type": "markdown",
   "id": "fb481d56-161e-4715-b93d-fd3607f5071f",
   "metadata": {},
   "source": [
    "### Quiz 1\n",
    " - 택배 정보를 입력받고 무게에 따른 값 산정하기\n",
    "   - 수취인 성명:\n",
    "   - 수취인 주소:\n",
    "   - 배송비: 3000원\n",
    "   - 물건 비용: <계산된 값>원\n",
    "   - 총 합계: <계산된 값>원\n",
    " - 물건 비용은 무게(g) * 5\n",
    " - 입력 값 = 이름, 주소, 무게"
   ]
  },
  {
   "cell_type": "code",
   "execution_count": 16,
   "id": "a709b602-97a6-41d1-ae02-43f62dbf0c54",
   "metadata": {},
   "outputs": [
    {
     "name": "stdin",
     "output_type": "stream",
     "text": [
      "수취인 성명:  구본민\n",
      "수취인 주소:  외대\n",
      "무게:  300\n"
     ]
    },
    {
     "name": "stdout",
     "output_type": "stream",
     "text": [
      "수취인 성명: 구본민\n",
      "수취인 주소: 외대\n",
      "배송비: 3000원\n",
      "물건 비용: 1500원\n",
      "총 합계: 4500원\n"
     ]
    }
   ],
   "source": [
    "name = input('수취인 성명: ')\n",
    "address = input('수취인 주소: ')\n",
    "weight = int(input('무게: '))\n",
    "\n",
    "price = weight * 5\n",
    "\n",
    "print(f'수취인 성명: {name}')\n",
    "print(f'수취인 주소: {address}')\n",
    "print('배송비: 3000원') #입력받진 않지만 변수로 선언하는 게 수정하기 편리함\n",
    "print(f'물건 비용: {price}원')\n",
    "print(f'총 합계: {price+3000}원')"
   ]
  },
  {
   "cell_type": "markdown",
   "id": "6b39bdac-ba42-4f21-a8d3-4d7dec5f998b",
   "metadata": {},
   "source": [
    " "
   ]
  },
  {
   "cell_type": "markdown",
   "id": "0f7a2e54-8cd7-419f-bcb3-852cb4872709",
   "metadata": {
    "tags": []
   },
   "source": [
    "## Ch.03 - Numbers"
   ]
  },
  {
   "cell_type": "markdown",
   "id": "2a0c0489-d498-4c96-b3e9-1fdfa49b6f02",
   "metadata": {
    "tags": []
   },
   "source": [
    "### boolean\n",
    "- True/False로 나뉨\n",
    "- False인 값: 0, None, \"\" 등 0 이거나 비어있는 값\n",
    "- 비어있지 않으면 True\n",
    "- if 조건문에서 조건문 실행 여부를 판단할 때 자주 사용(ex.만약 값이 True라면 실행)"
   ]
  },
  {
   "cell_type": "code",
   "execution_count": 17,
   "id": "bdfd2c24-6687-448b-b6c9-52e75cb7da84",
   "metadata": {},
   "outputs": [
    {
     "name": "stdout",
     "output_type": "stream",
     "text": [
      "True True True\n"
     ]
    }
   ],
   "source": [
    "print(bool(1), bool(-1), bool('str'))"
   ]
  },
  {
   "cell_type": "code",
   "execution_count": 18,
   "id": "17c2a69c-ce56-4315-b016-c4d8cfa1aa5f",
   "metadata": {},
   "outputs": [
    {
     "name": "stdout",
     "output_type": "stream",
     "text": [
      "False False False\n"
     ]
    }
   ],
   "source": [
    "print(bool(0), bool(None), bool(''))"
   ]
  },
  {
   "cell_type": "markdown",
   "id": "7857f5a6-42d8-466f-97f3-ebfdb1e0fb19",
   "metadata": {
    "tags": []
   },
   "source": [
    "### integer\n",
    "- 분수나 소수가 아닌 정수\n",
    "- 음수는 '-'기호로 표현\n",
    "- 숫자 앞에는 0 사용 불가, 예외: 0bxx(10진수가 아니면 사용 가능)\n",
    "- 숫자 사이에 쉼표를 쓰면 오류: 100,000 (x), 언더바는 사용 가능 100_000(언더바는 인식하지 않음)"
   ]
  },
  {
   "cell_type": "code",
   "execution_count": 19,
   "id": "7e58d54f-09a7-41d9-9c4e-3ef1b76fe727",
   "metadata": {},
   "outputs": [
    {
     "ename": "SyntaxError",
     "evalue": "leading zeros in decimal integer literals are not permitted; use an 0o prefix for octal integers (Temp/ipykernel_28880/3529601970.py, line 1)",
     "output_type": "error",
     "traceback": [
      "\u001b[1;36m  File \u001b[1;32m\"C:\\Users\\Bon\\AppData\\Local\\Temp/ipykernel_28880/3529601970.py\"\u001b[1;36m, line \u001b[1;32m1\u001b[0m\n\u001b[1;33m    a = 01 #숫자 앞에 0 사용 불가\u001b[0m\n\u001b[1;37m         ^\u001b[0m\n\u001b[1;31mSyntaxError\u001b[0m\u001b[1;31m:\u001b[0m leading zeros in decimal integer literals are not permitted; use an 0o prefix for octal integers\n"
     ]
    }
   ],
   "source": [
    "a = 01 #숫자 앞에 0 사용 불가"
   ]
  },
  {
   "cell_type": "code",
   "execution_count": 20,
   "id": "a63d4c33-8bfe-4f71-836d-17cfe9b939b8",
   "metadata": {},
   "outputs": [
    {
     "name": "stdout",
     "output_type": "stream",
     "text": [
      "1 -1 100000\n"
     ]
    }
   ],
   "source": [
    "print(1, -1, 100_000)"
   ]
  },
  {
   "cell_type": "markdown",
   "id": "9c24956e-ccc6-4056-8f79-60c484fe0df0",
   "metadata": {
    "tags": []
   },
   "source": [
    "### operator(연산자)\n",
    "- +, -, *, / ...\n",
    "- operand(피연산자): 1, 2, 3.5...\n",
    "- expression(수식)"
   ]
  },
  {
   "cell_type": "code",
   "execution_count": 21,
   "id": "4ad419e9-323a-4ac6-9569-ecad6d6ef8cf",
   "metadata": {},
   "outputs": [
    {
     "name": "stdout",
     "output_type": "stream",
     "text": [
      "5\n",
      "-3\n",
      "4\n",
      "0.25\n",
      "1\n",
      "0\n",
      "1\n"
     ]
    }
   ],
   "source": [
    "x = 1\n",
    "y = 4\n",
    "\n",
    "#사칙연산\n",
    "print(x + y) #덧셈\n",
    "print(x - y) #뺄셈\n",
    "print(x * y) #곱셈\n",
    "print(x / y) #나눗셈\n",
    "\n",
    "print(x ** y) #거듭제곱\n",
    "print(x // y) #나눗셈의 몫\n",
    "print(x % y) #나눗셈의 나머지"
   ]
  },
  {
   "cell_type": "code",
   "execution_count": 22,
   "id": "e708febc-88bc-46b2-bd13-1ae80c2280a7",
   "metadata": {},
   "outputs": [
    {
     "data": {
      "text/plain": [
       "(0, 1)"
      ]
     },
     "execution_count": 22,
     "metadata": {},
     "output_type": "execute_result"
    }
   ],
   "source": [
    "#두 수를 나눠 몫과 나머지를 구하는 함수\n",
    "#divmod(몫, 나머지)\n",
    "divmod(x, y)"
   ]
  },
  {
   "cell_type": "markdown",
   "id": "e0b6d3f2-c23e-4787-b0da-4e182b0aa86b",
   "metadata": {},
   "source": [
    "0으로 나누면 오류 발생(division by zero)"
   ]
  },
  {
   "cell_type": "markdown",
   "id": "a31af7c2-49be-4be5-872e-76d1bddfb454",
   "metadata": {
    "tags": []
   },
   "source": [
    "### compound assignment operator(복합대입연산자)\n",
    "- x = x + a(a는 숫자)를 x += a의 형태로 간추려 표현한 것\n",
    "- 위에 설명된 모든 연산자는 복합대입연산자로 표현 가능"
   ]
  },
  {
   "cell_type": "code",
   "execution_count": 23,
   "id": "db13b948-aa0c-434b-8981-16f9ed65e1fb",
   "metadata": {},
   "outputs": [
    {
     "name": "stdout",
     "output_type": "stream",
     "text": [
      "3\n"
     ]
    }
   ],
   "source": [
    "#개념 설명\n",
    "x = 3\n",
    "x - 1\n",
    "print(x)"
   ]
  },
  {
   "cell_type": "markdown",
   "id": "954de3e3-eaa0-46de-b6c5-592a0157348d",
   "metadata": {},
   "source": [
    "x - 1이 변수에 저장되지 않았기 때문에 출력과정에서 반영되지 않음"
   ]
  },
  {
   "cell_type": "code",
   "execution_count": 24,
   "id": "8b7fb534-6827-4f1a-b250-2521b5ab3e96",
   "metadata": {},
   "outputs": [
    {
     "name": "stdout",
     "output_type": "stream",
     "text": [
      "2\n"
     ]
    }
   ],
   "source": [
    "#x - 1을 변수에 저장하는 과정이 필요\n",
    "x = x - 1\n",
    "print(x)"
   ]
  },
  {
   "cell_type": "code",
   "execution_count": 25,
   "id": "eeaf1cf6-053d-4ad6-af7e-9c42e981687d",
   "metadata": {},
   "outputs": [
    {
     "name": "stdout",
     "output_type": "stream",
     "text": [
      "2\n"
     ]
    }
   ],
   "source": [
    "#복합대입연산자를 사용해 보다 간략하게 표현 가능\n",
    "x = 3\n",
    "x -= 1\n",
    "print(x)"
   ]
  },
  {
   "cell_type": "markdown",
   "id": "9a0bd49d-4842-4e75-b802-862a32aeb506",
   "metadata": {
    "tags": []
   },
   "source": [
    "### 지수 표현"
   ]
  },
  {
   "cell_type": "code",
   "execution_count": 26,
   "id": "32354e7d-ee93-4ec8-a3b6-2899dc355764",
   "metadata": {},
   "outputs": [
    {
     "name": "stdout",
     "output_type": "stream",
     "text": [
      "400000.0\n",
      "400.0\n",
      "0.004\n"
     ]
    }
   ],
   "source": [
    "#숫자 옆에 e 또는 E를 사용하여 표현\n",
    "print(40e4)\n",
    "print(40e1)\n",
    "print(40e-4)"
   ]
  },
  {
   "cell_type": "markdown",
   "id": "5d4a5cde-c8b5-4e3a-a1e0-d2aebc3cef73",
   "metadata": {},
   "source": [
    "e 뒷부분의 숫자는 소수점을 어느 방향으로 어느 정도 움직일 것인지를 결정함  정수만 사용 가능"
   ]
  },
  {
   "cell_type": "code",
   "execution_count": 27,
   "id": "4393a382-2d56-4176-b1a0-3a8c3cf7ba53",
   "metadata": {},
   "outputs": [
    {
     "data": {
      "text/plain": [
       "0.3503"
      ]
     },
     "execution_count": 27,
     "metadata": {},
     "output_type": "execute_result"
    }
   ],
   "source": [
    "350.3e-3 # e 앞부분은 정수와 소수 모두 사용 가능"
   ]
  },
  {
   "cell_type": "code",
   "execution_count": 28,
   "id": "f382579a-aee9-4e90-8f19-59cdce84c413",
   "metadata": {},
   "outputs": [
    {
     "data": {
      "text/plain": [
       "0.3503"
      ]
     },
     "execution_count": 28,
     "metadata": {},
     "output_type": "execute_result"
    }
   ],
   "source": [
    "350.3E-3 # e 대신 E 사용 가능"
   ]
  },
  {
   "cell_type": "markdown",
   "id": "9d6a62f7-65a8-4b41-846e-2f5f9c07c277",
   "metadata": {},
   "source": [
    "### Quiz 1\n",
    "- 반지름을 입력받아 원의 면적 구하기\n",
    "- 면적 = pi * r제곱"
   ]
  },
  {
   "cell_type": "code",
   "execution_count": 29,
   "id": "38f5bb03-2fdb-437e-989d-6060b287bab3",
   "metadata": {},
   "outputs": [
    {
     "name": "stdin",
     "output_type": "stream",
     "text": [
      "반지름을 입력하세요:  2\n"
     ]
    },
    {
     "name": "stdout",
     "output_type": "stream",
     "text": [
      "12.56\n"
     ]
    }
   ],
   "source": [
    "radius = int(input('반지름을 입력하세요: '))\n",
    "pi = 3.14\n",
    "surface = pi * radius ** 2\n",
    "\n",
    "print(surface)"
   ]
  },
  {
   "cell_type": "markdown",
   "id": "50b93aaa-d59f-408d-a19f-b3487ada606d",
   "metadata": {},
   "source": [
    "### Quiz 2\n",
    "- 입력 받아 3의 배수인지 확인하기\n",
    "- 입력 받아 홀수인지 확인하기"
   ]
  },
  {
   "cell_type": "code",
   "execution_count": 30,
   "id": "c5c40f8c-964d-497e-975c-4af41cf41142",
   "metadata": {},
   "outputs": [
    {
     "name": "stdin",
     "output_type": "stream",
     "text": [
      "숫자를 입력하세요:  3\n"
     ]
    },
    {
     "name": "stdout",
     "output_type": "stream",
     "text": [
      "True\n"
     ]
    }
   ],
   "source": [
    "number = int(input('숫자를 입력하세요: '))\n",
    "\n",
    "'''\n",
    "#if문으로 해결하는 법\n",
    "\n",
    "if number % 3 == 0:\n",
    "    print(True)\n",
    "else:\n",
    "    print(False)\n",
    "'''\n",
    "\n",
    "print(number % 3 == 0)"
   ]
  },
  {
   "cell_type": "code",
   "execution_count": 31,
   "id": "a23a9e46-e8fa-4335-9830-d1a143d39dab",
   "metadata": {},
   "outputs": [
    {
     "name": "stdin",
     "output_type": "stream",
     "text": [
      "숫자를 입력하세요:  5\n"
     ]
    },
    {
     "data": {
      "text/plain": [
       "True"
      ]
     },
     "execution_count": 31,
     "metadata": {},
     "output_type": "execute_result"
    }
   ],
   "source": [
    "number = int(input('숫자를 입력하세요: '))\n",
    "\n",
    "bool(number/2)"
   ]
  },
  {
   "cell_type": "code",
   "execution_count": null,
   "id": "8b673e1e-6ca7-4e28-9a3a-b348a3dba942",
   "metadata": {},
   "outputs": [],
   "source": []
  },
  {
   "cell_type": "markdown",
   "id": "0ea3c00d-22d5-4a52-949a-6a43d7a36bb7",
   "metadata": {
    "tags": []
   },
   "source": [
    "## Ch.04 - if 조건문\n",
    "- 조건을 충족하면 정해진 코드를 실행함\n",
    "- if(만약..라면), elif(if가 아닐 때 만약 ~라면), else(if와 elif가 모두 아니라면)으로 구성됨"
   ]
  },
  {
   "cell_type": "code",
   "execution_count": 32,
   "id": "06a10d4d-b91a-4cf7-a998-546bfe28e0d8",
   "metadata": {},
   "outputs": [
    {
     "name": "stdout",
     "output_type": "stream",
     "text": [
      "True\n"
     ]
    }
   ],
   "source": [
    "'''\n",
    "if <조건문>:\n",
    "    <실행할 코드>\n",
    "의 형태로 사용\n",
    "'''\n",
    "number = 5\n",
    "\n",
    "if number < 10:\n",
    "    print(True)"
   ]
  },
  {
   "cell_type": "code",
   "execution_count": 33,
   "id": "830df4db-3118-4854-b485-bc1eb8ee4941",
   "metadata": {},
   "outputs": [
    {
     "name": "stdin",
     "output_type": "stream",
     "text": [
      " 7\n"
     ]
    },
    {
     "name": "stdout",
     "output_type": "stream",
     "text": [
      "5~9\n"
     ]
    }
   ],
   "source": [
    "'''\n",
    "elif와 else는\n",
    "\n",
    "if <조건문>:\n",
    "    <실행할 코드>\n",
    "elif <조건문>:\n",
    "    <실행할 코드>\n",
    "else:\n",
    "    <실행할 코드>\n",
    "의 형태로 사용\n",
    "if와 elif 혹은 if와 else로만 코드를 작성해도 됨\n",
    "'''\n",
    "\n",
    "number = int(input())\n",
    "\n",
    "if number >= 10:\n",
    "    print('10 이상')\n",
    "elif number >= 5:\n",
    "    print('5~9')\n",
    "else:\n",
    "    print('4 이하')"
   ]
  },
  {
   "cell_type": "markdown",
   "id": "f2c5dfd6-defe-410e-a750-bffb1d7d308b",
   "metadata": {},
   "source": [
    "### 비교연산자\n",
    "- x < y (x가 y보다 작다)\n",
    "- x > y (크다)\n",
    "- x <= y (작거나 같다)\n",
    "- x >= y (크거나 같다)\n",
    "- x == y (같다)\n",
    "- x != y (다르다)\n",
    "- x is y (값, 메모리주소가 일치)\n",
    "- x is not y (값, 메모리주소가 불일치)"
   ]
  },
  {
   "cell_type": "code",
   "execution_count": 34,
   "id": "b13d900b-a21f-4eb3-9e45-81b8f360457f",
   "metadata": {},
   "outputs": [
    {
     "name": "stdout",
     "output_type": "stream",
     "text": [
      "False\n",
      "True\n",
      "True\n"
     ]
    }
   ],
   "source": [
    "plus = 1\n",
    "minus = -1\n",
    "one = 1\n",
    "# 비교연산자를 그대로 출력하면 bool 타입으로 출력\n",
    "print(plus < minus)\n",
    "print(plus >= minus)\n",
    "print(plus is one)"
   ]
  },
  {
   "cell_type": "markdown",
   "id": "e5bc44c8-2182-468f-9d4f-e4fdfb215e76",
   "metadata": {},
   "source": [
    "### Tip\n",
    "1. 주석 달기\n",
    "   - '#'을 사용하면 해당 라인의 # 이후부터 줄 전체가 주석 처리됨(단 문자열 내의 '#'은 문자 취급)\n",
    "   - 주석이 여러 줄일 경우 ''' '''를 사용\n",
    "   - 주석은 개발자의 의도나 오류를 알리는 용도로 사용(설명은 최대한 쓰지 않는 것이 바람직함)\n",
    "   \n",
    "2. 라인 유지\n",
    "   - 들여쓰기는 코드의 논리구조를 나타냄으로 철저하게 지켜야함\n",
    "   - 조건문, 반복문 등에서 들여쓰기 사용(일반적으로 띄어쓰기 4번, Tab을 사용함)\n",
    "   - 한 라인에 80자 정도의 코드를 쓰는 것이 적절함(파이썬 사용자들 간 암묵적인 규칙, 80자가 넘어가면 백슬래시로 라인을 끊어줘야 함)"
   ]
  },
  {
   "cell_type": "code",
   "execution_count": 35,
   "id": "f8e4739f-9a51-4865-8b8b-af605e833283",
   "metadata": {},
   "outputs": [
    {
     "name": "stdout",
     "output_type": "stream",
     "text": [
      "1\n"
     ]
    }
   ],
   "source": [
    "#주석 내의 글자는 코드로 인식되지 않음\n",
    "# a = 0\n",
    "print(a)"
   ]
  },
  {
   "cell_type": "code",
   "execution_count": 36,
   "id": "c586b75e-3910-4e86-aa1d-74211d24af27",
   "metadata": {},
   "outputs": [
    {
     "name": "stdout",
     "output_type": "stream",
     "text": [
      "#\n"
     ]
    }
   ],
   "source": [
    "'''\n",
    "여러 줄의 주석은 ''' '''로 처리할 수 있음\n",
    "하나\n",
    "둘\n",
    "셋\n",
    "'''\n",
    "# 문자열 내의 '#'은 문자로 취금\n",
    "print('#')"
   ]
  },
  {
   "cell_type": "markdown",
   "id": "992298a5-17f2-494e-94cb-15587293f655",
   "metadata": {},
   "source": [
    "### Quiz 1\n",
    "- 시험 점수를 입력 받고 80점 이상이면 True, 아니면 False 반환"
   ]
  },
  {
   "cell_type": "code",
   "execution_count": 37,
   "id": "9dee11e2-428c-4fad-b0e7-b5fdc647544c",
   "metadata": {},
   "outputs": [
    {
     "name": "stdin",
     "output_type": "stream",
     "text": [
      "점수를 입력하세요: 79\n"
     ]
    },
    {
     "name": "stdout",
     "output_type": "stream",
     "text": [
      "False\n"
     ]
    }
   ],
   "source": [
    "score = int(input('점수를 입력하세요:'))\n",
    "\n",
    "if score >= 80:\n",
    "    print(True)\n",
    "else:\n",
    "    print(False)"
   ]
  },
  {
   "cell_type": "markdown",
   "id": "5ae35bce-98ef-4e11-b44f-94eb5301bf4a",
   "metadata": {},
   "source": [
    "### Quiz 2\n",
    "- 시험 점수를 입력 받고, 95이상 A+, 90 이상 A, 85 이상 B+, 나머지 F로 출력"
   ]
  },
  {
   "cell_type": "code",
   "execution_count": 38,
   "id": "fce75bf3-7465-4ad0-9781-f91f1b68560c",
   "metadata": {},
   "outputs": [
    {
     "name": "stdin",
     "output_type": "stream",
     "text": [
      "점수를 입력하세요: 87\n"
     ]
    },
    {
     "name": "stdout",
     "output_type": "stream",
     "text": [
      "B+\n"
     ]
    }
   ],
   "source": [
    "score = int(input('점수를 입력하세요:'))\n",
    "\n",
    "if score >= 95:\n",
    "    print('A+')\n",
    "elif score >= 90:\n",
    "    print('A')\n",
    "elif score >= 85:\n",
    "    print('B+')\n",
    "else:\n",
    "    print('F')"
   ]
  },
  {
   "cell_type": "code",
   "execution_count": null,
   "id": "60a73d50-181f-4cad-8b56-f412c80b4d39",
   "metadata": {},
   "outputs": [],
   "source": []
  }
 ],
 "metadata": {
  "kernelspec": {
   "display_name": "Python 3 (ipykernel)",
   "language": "python",
   "name": "python3"
  },
  "language_info": {
   "codemirror_mode": {
    "name": "ipython",
    "version": 3
   },
   "file_extension": ".py",
   "mimetype": "text/x-python",
   "name": "python",
   "nbconvert_exporter": "python",
   "pygments_lexer": "ipython3",
   "version": "3.9.7"
  }
 },
 "nbformat": 4,
 "nbformat_minor": 5
}
