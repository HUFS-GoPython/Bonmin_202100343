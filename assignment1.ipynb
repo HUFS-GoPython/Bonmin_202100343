{
 "cells": [
  {
   "cell_type": "markdown",
   "id": "f6c171d7-a2ab-43b3-993b-fd9dee649bab",
   "metadata": {
    "tags": []
   },
   "source": [
    "## 프로그래밍이란?\n",
    "- programming: 프로그래밍 언어를 사용하여 프로그램을 개발하는 것\n",
    "- program: 일련의 작업을 자동화하는 것\n",
    "- python: 프로그래밍 언어 중 하나. 인간이 컴퓨터에게 작업을 명령하기 위해 사용하는 컴퓨터가 이해할 수 있는 언어"
   ]
  },
  {
   "cell_type": "markdown",
   "id": "ddbfe5ed-97e8-4861-a3b2-98ea7bbe1e6d",
   "metadata": {
    "tags": []
   },
   "source": [
    "## Ch2. Data: Types, Values, Variables, and Names"
   ]
  },
  {
   "cell_type": "code",
   "execution_count": 10,
   "id": "2e3e457f-d09a-4013-9a30-079f1945c85a",
   "metadata": {
    "tags": []
   },
   "outputs": [],
   "source": [
    "a = 2"
   ]
  },
  {
   "cell_type": "code",
   "execution_count": 11,
   "id": "c6cfb5c7-fcea-4655-857b-0775f2e41371",
   "metadata": {},
   "outputs": [
    {
     "data": {
      "text/plain": [
       "True"
      ]
     },
     "execution_count": 11,
     "metadata": {},
     "output_type": "execute_result"
    }
   ],
   "source": [
    "a == 2"
   ]
  },
  {
   "cell_type": "code",
   "execution_count": 12,
   "id": "df73ffaf-bc67-4ce6-b3e1-340906d24ec1",
   "metadata": {},
   "outputs": [
    {
     "data": {
      "text/plain": [
       "2"
      ]
     },
     "execution_count": 12,
     "metadata": {},
     "output_type": "execute_result"
    }
   ],
   "source": [
    "a"
   ]
  },
  {
   "cell_type": "code",
   "execution_count": 13,
   "id": "9dab0fd8-36f9-4b2a-9c40-69874622dbfb",
   "metadata": {},
   "outputs": [
    {
     "name": "stdout",
     "output_type": "stream",
     "text": [
      "2\n"
     ]
    }
   ],
   "source": [
    "print(a)"
   ]
  },
  {
   "cell_type": "markdown",
   "id": "a6303bd8-9fda-4697-a3c4-eaeb68618e49",
   "metadata": {
    "tags": []
   },
   "source": [
    "변수|variable:특정 값을 저장하는 공간(a)  \n",
    "값|value(2)  \n",
    "자료형|type:데이터의 형태(2의 타입, int)  \n",
    "할당하다|assign:2를 a에 넣는 과정"
   ]
  },
  {
   "cell_type": "markdown",
   "id": "51397e12-93bb-419c-af5c-e4c8a17485f2",
   "metadata": {},
   "source": [
    "### Type\n",
    "불리언|boolean:True, False  \n",
    "정수형|integer:1, 2, 3...  \n",
    "부동소수점|flaoting point number:1.0, 2.3...  \n",
    "문자열|string:'hello', 'world'..."
   ]
  },
  {
   "cell_type": "code",
   "execution_count": 14,
   "id": "cdf6efdd-fd60-464b-be69-679fe9b88186",
   "metadata": {},
   "outputs": [
    {
     "data": {
      "text/plain": [
       "int"
      ]
     },
     "execution_count": 14,
     "metadata": {},
     "output_type": "execute_result"
    }
   ],
   "source": [
    "type(a)"
   ]
  },
  {
   "cell_type": "code",
   "execution_count": 15,
   "id": "7be9e5c8-9016-4969-bb87-b180e1dbf0c1",
   "metadata": {},
   "outputs": [
    {
     "data": {
      "text/plain": [
       "bool"
      ]
     },
     "execution_count": 15,
     "metadata": {},
     "output_type": "execute_result"
    }
   ],
   "source": [
    "type(a==2)"
   ]
  },
  {
   "cell_type": "code",
   "execution_count": 16,
   "id": "fd7a2976-a374-41f5-8166-0d8e58c5a88c",
   "metadata": {},
   "outputs": [
    {
     "data": {
      "text/plain": [
       "str"
      ]
     },
     "execution_count": 16,
     "metadata": {},
     "output_type": "execute_result"
    }
   ],
   "source": [
    "s = 'hello world'\n",
    "type(s)"
   ]
  },
  {
   "cell_type": "code",
   "execution_count": 17,
   "id": "b14e80c3-c097-44bc-833f-bc71d666116d",
   "metadata": {
    "tags": []
   },
   "outputs": [
    {
     "name": "stdout",
     "output_type": "stream",
     "text": [
      "I'm Sam.\n",
      "I'm Sam.\n"
     ]
    }
   ],
   "source": [
    "print('I\\'m Sam.')\n",
    "print(\"I'm Sam.\")"
   ]
  },
  {
   "cell_type": "markdown",
   "id": "59ad4716-87f1-48b5-b48b-f46c229b3400",
   "metadata": {},
   "source": [
    "### 변수명 정하기\n",
    "- 소문자, 대문자, 숫자, 언더바를 사용하여 선언  \n",
    "- 숫자로 시작 불가  \n",
    "- 예약어 사용 불가"
   ]
  },
  {
   "cell_type": "code",
   "execution_count": 18,
   "id": "3d5bda48-8002-498a-9246-deb98c2fa3e1",
   "metadata": {
    "tags": []
   },
   "outputs": [
    {
     "name": "stdout",
     "output_type": "stream",
     "text": [
      "\n",
      "Here is a list of the Python keywords.  Enter any keyword to get more help.\n",
      "\n",
      "False               break               for                 not\n",
      "None                class               from                or\n",
      "True                continue            global              pass\n",
      "__peg_parser__      def                 if                  raise\n",
      "and                 del                 import              return\n",
      "as                  elif                in                  try\n",
      "assert              else                is                  while\n",
      "async               except              lambda              with\n",
      "await               finally             nonlocal            yield\n",
      "\n"
     ]
    }
   ],
   "source": [
    "help(\"keywords\") #예약어 목록"
   ]
  },
  {
   "cell_type": "markdown",
   "id": "9a7b8401-56de-4ba4-bea0-953d4b0267dd",
   "metadata": {},
   "source": [
    "프로그래밍에서 '='는 할당을 의미함"
   ]
  },
  {
   "cell_type": "code",
   "execution_count": 20,
   "id": "8ee7d08b-2a82-4be1-927e-598fc4ac82c8",
   "metadata": {},
   "outputs": [
    {
     "name": "stdout",
     "output_type": "stream",
     "text": [
      "2 12\n"
     ]
    }
   ],
   "source": [
    "x = 2\n",
    "y = x + 10\n",
    "print(x, y)"
   ]
  },
  {
   "cell_type": "code",
   "execution_count": null,
   "id": "8dbdad70-cc74-4e1a-9cb4-f99e7537155a",
   "metadata": {},
   "outputs": [],
   "source": []
  },
  {
   "cell_type": "markdown",
   "id": "185d46a0-fb35-4eb2-8720-3d9a2a7819ce",
   "metadata": {},
   "source": [
    "###### shift + Enter"
   ]
  }
 ],
 "metadata": {
  "kernelspec": {
   "display_name": "Python 3 (ipykernel)",
   "language": "python",
   "name": "python3"
  },
  "language_info": {
   "codemirror_mode": {
    "name": "ipython",
    "version": 3
   },
   "file_extension": ".py",
   "mimetype": "text/x-python",
   "name": "python",
   "nbconvert_exporter": "python",
   "pygments_lexer": "ipython3",
   "version": "3.9.7"
  }
 },
 "nbformat": 4,
 "nbformat_minor": 5
}
