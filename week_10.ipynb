{
 "cells": [
  {
   "cell_type": "markdown",
   "id": "d9b61ba6-0c7d-4a37-a484-c2afe69d46c8",
   "metadata": {},
   "source": [
    "# Week_10"
   ]
  },
  {
   "cell_type": "markdown",
   "id": "2d454b0f-7f1f-4216-8d8e-b9873f86aa2c",
   "metadata": {},
   "source": [
    "### defaultdict\n",
    "- key가 존재하지 않으면 value를 0으로 설정해주는 딕셔너리\n",
    "- defaultdict(list) #[]"
   ]
  },
  {
   "cell_type": "code",
   "execution_count": 3,
   "id": "a0abeef8-11f4-4f6c-88e7-c78cad9e640d",
   "metadata": {},
   "outputs": [],
   "source": [
    "from collections import defaultdict"
   ]
  },
  {
   "cell_type": "code",
   "execution_count": 4,
   "id": "980eec44-0c6a-4854-9cb0-e77eb6e4fa45",
   "metadata": {},
   "outputs": [
    {
     "data": {
      "text/plain": [
       "{'d': 2, 'e': 1, 'f': 1, 'a': 1, 'u': 1, 'l': 1, 't': 2, 'i': 1, 'c': 1}"
      ]
     },
     "execution_count": 4,
     "metadata": {},
     "output_type": "execute_result"
    }
   ],
   "source": [
    "letter = 'defaultdict'\n",
    "empty = {}\n",
    "for ch in letter:\n",
    "    empty.setdefault(ch, 0) # a가 없으면 기본적으로 0을 value로 입력\n",
    "    empty[ch] += 1\n",
    "\n",
    "empty"
   ]
  },
  {
   "cell_type": "code",
   "execution_count": 5,
   "id": "f1afe00e-b674-4cbc-a344-b4f98567a9ee",
   "metadata": {},
   "outputs": [
    {
     "data": {
      "text/plain": [
       "defaultdict(int,\n",
       "            {'d': 2,\n",
       "             'e': 1,\n",
       "             'f': 1,\n",
       "             'a': 1,\n",
       "             'u': 1,\n",
       "             'l': 1,\n",
       "             't': 2,\n",
       "             'i': 1,\n",
       "             'c': 1})"
      ]
     },
     "execution_count": 5,
     "metadata": {},
     "output_type": "execute_result"
    }
   ],
   "source": [
    "#위 코드를 보다 간추린 형태\n",
    "empty2 = defaultdict(int)\n",
    "for ch in letter:\n",
    "    empty2[ch] += 1\n",
    "    \n",
    "empty2"
   ]
  },
  {
   "cell_type": "markdown",
   "id": "4746b9ce-0ff0-4481-851a-cf338ebcb3dd",
   "metadata": {},
   "source": [
    "## Ch.09 - Class"
   ]
  },
  {
   "cell_type": "markdown",
   "id": "72041044-4d31-4e6a-b8b0-46619c3e0c00",
   "metadata": {},
   "source": [
    "### Object & Class\n",
    "- 객체: 실생활에서의 실제적인 물건/속성과 행동을 가지는 개념\n",
    "- ex) 자동차\n",
    "  - 속성: 엔진, 브랜드, 가격, 색상, 이름, ... ==> 변수\n",
    "  - 행동: 나가다, 정지하다, 좌회전, 우회전, ... ==> 메서드(함수)\n",
    "- ex) 고양이\n",
    "  - 속성: 종류, 이름, 컬러, 몸무게, 성별, ... \n",
    "  - 행동: 짖다, 뛰다, 걷다, 째려보다, ...\n",
    "- ex) 사전\n",
    "  - 속성: 글자 수, 시작 글자, 출현 빈도수, ...\n",
    "  - 핻동: 추가하다, 제외하다, ...\n",
    "- 서로 관련 짓는 방법\n",
    "  - 사람이 상점에 가서 물건을 산다\n",
    "    - 사람\n",
    "      - 속성: 이름, 돈\n",
    "      - 행동: 사다\n",
    "    - 상점\n",
    "      - 속성: 재고(물건이 제고에 포함), 이익, 고객명단(사람 이름이 고객명단)\n",
    "      - 행동: 회원등록, 팔다, 수익계산\n",
    "    - 물건\n",
    "      - 속성: 브랜드, 이름, 가격\n",
    "- 객체를 사용하는 이유: 코드 재사용 수월\n",
    "  - 전체를 함수로 가져갈 때 보다 객체로 가져갈 때 유지보수가 수월함"
   ]
  },
  {
   "cell_type": "markdown",
   "id": "acfff88b-ab55-45a9-a289-a75d27fe1646",
   "metadata": {},
   "source": [
    "### Class\n",
    "- 객체가 가져야할 기본 정보를 담은 코드\n",
    "- 설계도, 틀, 프레임워크\n",
    "- 붕아빵의 틀에 해당\n",
    "- 붕어빵은 인스턴스\n",
    "- 'class Car: '\n",
    "  - 클래스명은 카멜표기법 사용"
   ]
  },
  {
   "cell_type": "code",
   "execution_count": 7,
   "id": "5efc8165-6ea4-4f65-8a67-c5437f8c8ed3",
   "metadata": {},
   "outputs": [
    {
     "data": {
      "text/plain": [
       "(<__main__.Car at 0x2a4d3f25d00>, <__main__.Car at 0x2a4d3f32eb0>)"
      ]
     },
     "execution_count": 7,
     "metadata": {},
     "output_type": "execute_result"
    }
   ],
   "source": [
    "#정의\n",
    "class Car:\n",
    "    pass\n",
    "\n",
    "#선언\n",
    "car1 = Car()\n",
    "car2 = Car()\n",
    "car1, car2"
   ]
  },
  {
   "cell_type": "code",
   "execution_count": 8,
   "id": "03aaae41-98b6-44d5-a061-84af1aad2171",
   "metadata": {},
   "outputs": [
    {
     "data": {
      "text/plain": [
       "__main__.Car"
      ]
     },
     "execution_count": 8,
     "metadata": {},
     "output_type": "execute_result"
    }
   ],
   "source": [
    "type(car1)"
   ]
  },
  {
   "cell_type": "code",
   "execution_count": 9,
   "id": "fcbd4421-3b91-4825-9156-f3d536fb6bfe",
   "metadata": {},
   "outputs": [],
   "source": [
    "#속성 brand를 입력\n",
    "car1.brand = 'mercedes'\n",
    "car2.brand = 'kia'"
   ]
  },
  {
   "cell_type": "code",
   "execution_count": 10,
   "id": "f1031a1c-27d0-48b5-b25e-69e822bb7009",
   "metadata": {},
   "outputs": [
    {
     "name": "stdout",
     "output_type": "stream",
     "text": [
      "mercedes\n",
      "kia\n"
     ]
    }
   ],
   "source": [
    "for car in [car1, car2]:\n",
    "    print(car.brand)"
   ]
  },
  {
   "cell_type": "code",
   "execution_count": 23,
   "id": "a8e4ff88-51ea-4d7b-bb77-48f880ef1826",
   "metadata": {},
   "outputs": [
    {
     "data": {
      "text/plain": [
       "'mercedes'"
      ]
     },
     "execution_count": 23,
     "metadata": {},
     "output_type": "execute_result"
    }
   ],
   "source": [
    "class Car:\n",
    "    #속성이 미리 정해짐\n",
    "    brand = 'mercedes'\n",
    "    \n",
    "car3 = Car()\n",
    "car3.brand #해당 속성값을 출력"
   ]
  },
  {
   "cell_type": "code",
   "execution_count": 17,
   "id": "ec594faf-441c-49d9-a586-c9badd3f144d",
   "metadata": {},
   "outputs": [
    {
     "data": {
      "text/plain": [
       "'toyota'"
      ]
     },
     "execution_count": 17,
     "metadata": {},
     "output_type": "execute_result"
    }
   ],
   "source": [
    "#기본적으로 속성을 입력받는 클래스\n",
    "class Car:\n",
    "    def __init__(self, brand): #속성을 초기화하는 함수(self == my_car)\n",
    "        self.brand = brand #self == instance\n",
    "\n",
    "my_car = Car('toyota')\n",
    "my_car.brand"
   ]
  },
  {
   "cell_type": "code",
   "execution_count": 24,
   "id": "a48cd1c7-165f-45a2-8510-285534d40f95",
   "metadata": {},
   "outputs": [],
   "source": [
    "# color, model 속성 초기화하기\n",
    "class Car:\n",
    "    def __init__(self, brand, model=None, color='orange'): #None으로 설정하면 기본적으로 값을 받지 않아도 됨\n",
    "        self.brand = brand\n",
    "        #self.brand: 어떤 객체가 만들어지더라도 가져갈 브랜드\n",
    "        #brand: 객체 생성 시 설정되는 브랜드명(처음에 들어오는 값)\n",
    "        self.model = model\n",
    "        self.color = color\n",
    "        \n",
    "    #action(행동) 정의하기\n",
    "    def drive(self):\n",
    "        print(f'내차 {self.brand}가 움직인다.')\n",
    "    \n",
    "    def stop(self):\n",
    "        print('차가 멈춘다.')\n",
    "    \n",
    "    def change_color(self, car_color):\n",
    "        self.color = car_color #클래스 내부에서 객체 속성 변경\n",
    "        \n",
    "my_morning = Car('kia', 'morning', 'black')"
   ]
  },
  {
   "cell_type": "code",
   "execution_count": 20,
   "id": "b86513e2-13af-43a0-835f-88d1277f59e3",
   "metadata": {},
   "outputs": [
    {
     "data": {
      "text/plain": [
       "'black'"
      ]
     },
     "execution_count": 20,
     "metadata": {},
     "output_type": "execute_result"
    }
   ],
   "source": [
    "my_morning.color"
   ]
  },
  {
   "cell_type": "code",
   "execution_count": 21,
   "id": "7f4cacdf-b15d-474f-945e-0f4653e9a6f3",
   "metadata": {},
   "outputs": [
    {
     "data": {
      "text/plain": [
       "'white'"
      ]
     },
     "execution_count": 21,
     "metadata": {},
     "output_type": "execute_result"
    }
   ],
   "source": [
    "my_morning.color = 'white' #해당 객체의 속성 변경\n",
    "my_morning.color"
   ]
  },
  {
   "cell_type": "code",
   "execution_count": 26,
   "id": "fcdf985e-9295-4add-a747-860bd4a1f681",
   "metadata": {},
   "outputs": [
    {
     "data": {
      "text/plain": [
       "'green'"
      ]
     },
     "execution_count": 26,
     "metadata": {},
     "output_type": "execute_result"
    }
   ],
   "source": [
    "my_morning.change_color('green') #클래스 내부에서 객체 속성 변경\n",
    "my_morning.color"
   ]
  },
  {
   "cell_type": "code",
   "execution_count": 22,
   "id": "d2ea8b80-f0bf-48be-b138-04fe37556ca1",
   "metadata": {},
   "outputs": [
    {
     "name": "stdout",
     "output_type": "stream",
     "text": [
      "내차 kia가 움직인다.\n"
     ]
    }
   ],
   "source": [
    "my_morning.drive()"
   ]
  },
  {
   "cell_type": "code",
   "execution_count": 25,
   "id": "7cb4b8c3-8f54-4e36-94af-58bd9b49612c",
   "metadata": {},
   "outputs": [
    {
     "data": {
      "text/plain": [
       "'yellow'"
      ]
     },
     "execution_count": 25,
     "metadata": {},
     "output_type": "execute_result"
    }
   ],
   "source": [
    "my_sorento = Car('kia', 'sorento', 'yellow')\n",
    "my_sorento.color"
   ]
  },
  {
   "cell_type": "code",
   "execution_count": 28,
   "id": "9544019f-1a72-4311-b7b2-63b5544fa1f2",
   "metadata": {},
   "outputs": [
    {
     "data": {
      "text/plain": [
       "'orange'"
      ]
     },
     "execution_count": 28,
     "metadata": {},
     "output_type": "execute_result"
    }
   ],
   "source": [
    "my_sorento2 = Car('kia', 'sorento')\n",
    "my_sorento2.color #디폴트인 orange 출력"
   ]
  },
  {
   "cell_type": "code",
   "execution_count": 29,
   "id": "e905171a-baca-45fd-b4c4-8f849306942e",
   "metadata": {},
   "outputs": [
    {
     "data": {
      "text/plain": [
       "'orange'"
      ]
     },
     "execution_count": 29,
     "metadata": {},
     "output_type": "execute_result"
    }
   ],
   "source": [
    "my_morning2 = Car('kia') #디폴트가 None인 model은 입력하지 않아도 됨\n",
    "my_morning2.color"
   ]
  },
  {
   "cell_type": "markdown",
   "id": "3a2811c5-9b3f-4752-a093-98ed52419b4b",
   "metadata": {},
   "source": [
    "### getter, setter\n",
    "- 캡슐화, 정보 은닉\n",
    "- 클래스 외부에서 변수를 쉽게 바꾸는 것을 방지하기 위함\n",
    "- java의 Public을 Private으로 바꾸는 것과 같음\n",
    "- getter: 원래 함수명에 접근하는 action\n",
    "- setter: 변수명을 바꾸는 action"
   ]
  },
  {
   "cell_type": "code",
   "execution_count": 30,
   "id": "a086c412-befc-46f6-b5d2-18fe81c5acd0",
   "metadata": {},
   "outputs": [
    {
     "data": {
      "text/plain": [
       "'red'"
      ]
     },
     "execution_count": 30,
     "metadata": {},
     "output_type": "execute_result"
    }
   ],
   "source": [
    "#1. 틀에서 변수를 바꾸는 것\n",
    "class Fruit:\n",
    "    color = 'red'\n",
    "    \n",
    "apple = Fruit()\n",
    "apple.color"
   ]
  },
  {
   "cell_type": "code",
   "execution_count": 32,
   "id": "83cdfd53-617e-4d2b-8ae1-bd0789d54d3c",
   "metadata": {},
   "outputs": [
    {
     "data": {
      "text/plain": [
       "'purple'"
      ]
     },
     "execution_count": 32,
     "metadata": {},
     "output_type": "execute_result"
    }
   ],
   "source": [
    "#2. 인스턴스에서 변수를 바꾸는 것\n",
    "Fruit.color = 'purple'\n",
    "orange = Fruit()\n",
    "orange.color"
   ]
  },
  {
   "cell_type": "code",
   "execution_count": 34,
   "id": "dd5ac3ef-a449-452d-a393-bab8bdd04d36",
   "metadata": {},
   "outputs": [
    {
     "data": {
      "text/plain": [
       "'purple'"
      ]
     },
     "execution_count": 34,
     "metadata": {},
     "output_type": "execute_result"
    }
   ],
   "source": [
    "apple.color #다른 객체에서도 purple을 출력하게 됨"
   ]
  },
  {
   "cell_type": "code",
   "execution_count": 39,
   "id": "c0586421-1f31-4725-a2b3-24d1069f8e80",
   "metadata": {},
   "outputs": [
    {
     "data": {
      "text/plain": [
       "'toyota'"
      ]
     },
     "execution_count": 39,
     "metadata": {},
     "output_type": "execute_result"
    }
   ],
   "source": [
    "#setter, getter를 이용하는 여러가지 방법\n",
    "#setter와 getter를 이용해 캡슐화를 하더라도 변수명을 직접적으로 바꿀 수 있음\n",
    "#그러나 변수명 변경을 어렵게 만든다는 점에서 의미가 있음\n",
    "#1.\n",
    "class Car:\n",
    "    def __init__(self, brand):\n",
    "        self.brand = brand\n",
    "        \n",
    "    def get_brand(self):\n",
    "        print('from the getter')\n",
    "        return self.brand\n",
    "    \n",
    "    def set_brand(self, input_brand):\n",
    "        print('form the setter')\n",
    "        self.brand = input_brand\n",
    "        \n",
    "ex = Car('toyota')\n",
    "ex.brand"
   ]
  },
  {
   "cell_type": "code",
   "execution_count": 40,
   "id": "20f69ca0-0e18-4d0c-8e2c-7f9725315cb5",
   "metadata": {},
   "outputs": [
    {
     "name": "stdout",
     "output_type": "stream",
     "text": [
      "from the getter\n"
     ]
    },
    {
     "data": {
      "text/plain": [
       "'toyota'"
      ]
     },
     "execution_count": 40,
     "metadata": {},
     "output_type": "execute_result"
    }
   ],
   "source": [
    "ex.get_brand()"
   ]
  },
  {
   "cell_type": "code",
   "execution_count": 41,
   "id": "69283c7b-b5e9-448b-b66f-ee396ebee5ba",
   "metadata": {},
   "outputs": [
    {
     "name": "stdout",
     "output_type": "stream",
     "text": [
      "form the setter\n"
     ]
    }
   ],
   "source": [
    "ex.set_brand('mazuda')"
   ]
  },
  {
   "cell_type": "code",
   "execution_count": 42,
   "id": "4730dc6f-d975-42c0-bcb1-17e9542a53e1",
   "metadata": {},
   "outputs": [
    {
     "data": {
      "text/plain": [
       "'mazuda'"
      ]
     },
     "execution_count": 42,
     "metadata": {},
     "output_type": "execute_result"
    }
   ],
   "source": [
    "ex.brand"
   ]
  },
  {
   "cell_type": "code",
   "execution_count": 43,
   "id": "7e7a26be-aa06-4481-a746-c20f6e395b51",
   "metadata": {},
   "outputs": [
    {
     "data": {
      "text/plain": [
       "'toyota'"
      ]
     },
     "execution_count": 43,
     "metadata": {},
     "output_type": "execute_result"
    }
   ],
   "source": [
    "a = Car('toyota')\n",
    "a.brand"
   ]
  },
  {
   "cell_type": "code",
   "execution_count": 47,
   "id": "3696fb39-dfe5-4ed2-b6dd-8f1fda1e364f",
   "metadata": {},
   "outputs": [
    {
     "data": {
      "text/plain": [
       "'kia'"
      ]
     },
     "execution_count": 47,
     "metadata": {},
     "output_type": "execute_result"
    }
   ],
   "source": [
    "#2. (더 파이써닉한 코드)\n",
    "class Car:\n",
    "    def __init__(self, brand):\n",
    "        self.hidden_brand = brand\n",
    "        \n",
    "    def get_brand(self):\n",
    "        return self.hidden_brand\n",
    "    \n",
    "    def set_brand(self, input_brand):\n",
    "        self.hidden_brand = input_brand\n",
    "        \n",
    "    brand = property(get_brand, set_brand) #내가 사용할 변수명\n",
    "    \n",
    "c = Car('kia')\n",
    "c.brand"
   ]
  },
  {
   "cell_type": "code",
   "execution_count": 49,
   "id": "9a7cdaa3-dfa3-4164-a3df-8b7907e09946",
   "metadata": {},
   "outputs": [
    {
     "data": {
      "text/plain": [
       "'kia'"
      ]
     },
     "execution_count": 49,
     "metadata": {},
     "output_type": "execute_result"
    }
   ],
   "source": [
    "c.get_brand()"
   ]
  },
  {
   "cell_type": "code",
   "execution_count": 51,
   "id": "7f19bbbc-48f7-46c4-8f84-0c84eb46f075",
   "metadata": {},
   "outputs": [
    {
     "data": {
      "text/plain": [
       "'hyundai'"
      ]
     },
     "execution_count": 51,
     "metadata": {},
     "output_type": "execute_result"
    }
   ],
   "source": [
    "c.set_brand('hyundai')\n",
    "c.brand"
   ]
  },
  {
   "cell_type": "code",
   "execution_count": 56,
   "id": "379c64b4-7eea-4093-b516-070f2008b33b",
   "metadata": {},
   "outputs": [
    {
     "ename": "AttributeError",
     "evalue": "'Car' object has no attribute '__brand'",
     "output_type": "error",
     "traceback": [
      "\u001b[1;31m---------------------------------------------------------------------------\u001b[0m",
      "\u001b[1;31mAttributeError\u001b[0m                            Traceback (most recent call last)",
      "\u001b[1;32m~\\AppData\\Local\\Temp/ipykernel_22312/3042795101.py\u001b[0m in \u001b[0;36m<module>\u001b[1;34m\u001b[0m\n\u001b[0;32m     14\u001b[0m \u001b[1;33m\u001b[0m\u001b[0m\n\u001b[0;32m     15\u001b[0m \u001b[0mc\u001b[0m \u001b[1;33m=\u001b[0m \u001b[0mCar\u001b[0m\u001b[1;33m(\u001b[0m\u001b[1;34m'aa'\u001b[0m\u001b[1;33m)\u001b[0m\u001b[1;33m\u001b[0m\u001b[1;33m\u001b[0m\u001b[0m\n\u001b[1;32m---> 16\u001b[1;33m \u001b[0mc\u001b[0m\u001b[1;33m.\u001b[0m\u001b[0m__brand\u001b[0m \u001b[1;31m#접근이 불가능\u001b[0m\u001b[1;33m\u001b[0m\u001b[1;33m\u001b[0m\u001b[0m\n\u001b[0m",
      "\u001b[1;31mAttributeError\u001b[0m: 'Car' object has no attribute '__brand'"
     ]
    }
   ],
   "source": [
    "#3. 가장 파이써닉한 코드\n",
    "#decorator : @...의 형태로 사용\n",
    "class Car:\n",
    "    def __init__(self, brand):\n",
    "        self.__brand = brand\n",
    "    \n",
    "    @property\n",
    "    def brand(self):\n",
    "        return __brand\n",
    "    \n",
    "    @brand.setter\n",
    "    def brand(self, input_brand):\n",
    "        self.__brand = input_brand\n",
    "        \n",
    "c = Car('aa')\n",
    "c.__brand #접근이 불가능"
   ]
  },
  {
   "cell_type": "code",
   "execution_count": 54,
   "id": "907ac92e-5d91-4d57-aff5-497f5251d7c6",
   "metadata": {},
   "outputs": [
    {
     "data": {
      "text/plain": [
       "14"
      ]
     },
     "execution_count": 54,
     "metadata": {},
     "output_type": "execute_result"
    }
   ],
   "source": [
    "#반지름을 객체로 가지는 클래스\n",
    "class Circle:\n",
    "    def __init__(self, radius):\n",
    "        self.radius = radius\n",
    "    \n",
    "    @property\n",
    "    def diameter(self):\n",
    "        return self.radius * 2\n",
    "    \n",
    "c = Circle(7)\n",
    "c.diameter"
   ]
  },
  {
   "cell_type": "markdown",
   "id": "e2527083-84e6-4615-8392-7fa390a762a9",
   "metadata": {},
   "source": [
    "### 실습\n",
    "- 객체: 메모장(노트),              /메모\n",
    "- 변수: 제목, 페이지번호, 메모     /글귀\n",
    "- 메서드: 추가, 삭제, 페이지번호    /쓰기, 지우기\n",
    "\n",
    "- getter, setter는 메모장 제목에 설정하기\n",
    "- 메모 객체에 글귀를 추가한다\n",
    "- 메모장 객체에 메모를 추가\n",
    "- 메모를 삭제하면 페이지번호가 줄어들고\n",
    "- 페이지가 300을 넘으면 메모 추가 못하게 하기\n",
    "- 페이지번호로 메모 찾기"
   ]
  },
  {
   "cell_type": "markdown",
   "id": "1b9a3461-176c-4780-876b-0e78c8b67a99",
   "metadata": {},
   "source": [
    "잘 모르겠습니다..."
   ]
  },
  {
   "cell_type": "code",
   "execution_count": 63,
   "id": "a5aa7c76-a0ce-48e7-b8ba-e93dcfed2b54",
   "metadata": {},
   "outputs": [],
   "source": [
    "class Notebook:\n",
    "    def __init__(self, title, page=0, memo=[]):\n",
    "        #제목, 페이지번호, 메모**** == Note(예)\n",
    "        self.__title = title\n",
    "        self.page = page\n",
    "        self.memo = memo\n",
    "        \n",
    "    @property\n",
    "    def title(self):\n",
    "        return self.__title\n",
    "    \n",
    "    @title.setter\n",
    "    def title(self, input_title):\n",
    "        self.__title = input_title\n",
    "        \n",
    "    def add_note(self, note):\n",
    "        if self.page >= 300:\n",
    "            print('메모가 이미 최대입니다!')\n",
    "        else:\n",
    "            self.memo.append(note)\n",
    "            self.page += 1\n",
    "    \n",
    "    def del_note(self, note):\n",
    "        self.memo.remove(note)\n",
    "    \n",
    "    def get_page_num(self, page):\n",
    "        return self.memo[page]\n",
    "        \n",
    "class Note:\n",
    "    def __init__(self, note=[]):\n",
    "        self.note = note\n",
    "    \n",
    "    def wirte(self, memo):\n",
    "        self.note.append(memo)\n",
    "    \n",
    "    def erase(self, memo):\n",
    "        self.note.remove(memo)"
   ]
  },
  {
   "cell_type": "code",
   "execution_count": 66,
   "id": "26d4775b-57a3-48a4-a03a-9effd3fafda8",
   "metadata": {},
   "outputs": [
    {
     "data": {
      "text/plain": [
       "3"
      ]
     },
     "execution_count": 66,
     "metadata": {},
     "output_type": "execute_result"
    }
   ],
   "source": [
    "memo1 = '꿈을 이루고자 하는 용기만 있다면 모든 꿈을 이룰 수 있다.'\n",
    "memo2 = '웃음이 없는 하루는 버린 하루다.'\n",
    "memo3 = '승리는 가장 끈기 있는 사람에게 돌아간다.'\n",
    "\n",
    "note = Note()\n",
    "\n",
    "#메모 쓰기\n",
    "note1 = note.wirte(memo1)\n",
    "note2 = note.wirte(memo2)\n",
    "note3 = note.wirte(memo3)\n",
    "\n",
    "#메모장 만들기\n",
    "my_book = Notebook('test')\n",
    "\n",
    "#메모장에 추가하기\n",
    "my_book.add_note(note1)\n",
    "my_book.add_note(note2)\n",
    "my_book.add_note(note3)\n",
    "\n",
    "#페이지번호\n",
    "my_book.get_page_num(2)"
   ]
  },
  {
   "cell_type": "code",
   "execution_count": null,
   "id": "9f91b052-22ad-412d-b825-083b6b16c187",
   "metadata": {},
   "outputs": [],
   "source": []
  }
 ],
 "metadata": {
  "kernelspec": {
   "display_name": "Python 3 (ipykernel)",
   "language": "python",
   "name": "python3"
  },
  "language_info": {
   "codemirror_mode": {
    "name": "ipython",
    "version": 3
   },
   "file_extension": ".py",
   "mimetype": "text/x-python",
   "name": "python",
   "nbconvert_exporter": "python",
   "pygments_lexer": "ipython3",
   "version": "3.9.7"
  }
 },
 "nbformat": 4,
 "nbformat_minor": 5
}
