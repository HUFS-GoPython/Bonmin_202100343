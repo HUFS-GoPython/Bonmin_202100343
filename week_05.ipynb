{
 "cells": [
  {
   "cell_type": "markdown",
   "id": "3a232b53-c338-43c2-a1fc-baa55da74292",
   "metadata": {
    "tags": []
   },
   "source": [
    "# week_05"
   ]
  },
  {
   "cell_type": "markdown",
   "id": "ee213b9b-e219-4e2e-9d2f-4074707cb60a",
   "metadata": {
    "tags": []
   },
   "source": [
    "## Ch.06 - loop"
   ]
  },
  {
   "cell_type": "markdown",
   "id": "df725db6-ceb5-4580-b443-d14d654cd46f",
   "metadata": {
    "tags": []
   },
   "source": [
    "### while\n",
    "- 특정한 조건이 만족할 때까지 블록을 반복 수행하는 반복문\n",
    "- 조건이 거짓이 되는 순간 수행을 정지(언제 반복을 정지해야하는지 정확하게 파악하여 조건을 설정해야함)\n",
    "- for문과 if문이 합쳐진 형태\n",
    "\n",
    "### for문과 while문\n",
    "- for: 반복 횟수를 정확하며 변하지 않을 때 사용\n",
    "  - ex) 전체 학생의 성적 산출\n",
    "  - 반복 횟수가 입력받는 변수에 따라 달라질 땐 사용 가능\n",
    "  - in을 이용해 str이나 list의 인덱스를 변수로 가져올 수 있음\n",
    "- while: 반복 횟수가 고정되어있지 않고 특정 조건 하에서 수행을 반복하고 싶다면 사용\n",
    "  - ex) 가위바위보에서 승리하면 종료"
   ]
  },
  {
   "cell_type": "code",
   "execution_count": 1,
   "id": "7e484c52-1ba2-4389-b0cf-b522177d53f0",
   "metadata": {},
   "outputs": [
    {
     "name": "stdout",
     "output_type": "stream",
     "text": [
      "1\n",
      "2\n",
      "3\n",
      "4\n",
      "5\n",
      "6\n",
      "7\n",
      "8\n",
      "9\n",
      "10\n"
     ]
    }
   ],
   "source": [
    "#while <조건>:\n",
    "#    <수행할 코드>\n",
    "#형태로 사용\n",
    "#1부터 10까지 출력하기\n",
    "i = 0\n",
    "\n",
    "while i < 10:\n",
    "    i += 1 #while문을 일정 횟수만 실행하려면 조건에 해당하는 i 값을 바꿔줘야함\n",
    "    print(i)"
   ]
  },
  {
   "cell_type": "code",
   "execution_count": 2,
   "id": "61b3bf1c-5bec-49c3-8056-f7f51b9b9c6e",
   "metadata": {},
   "outputs": [
    {
     "name": "stdout",
     "output_type": "stream",
     "text": [
      "0\n",
      "1\n",
      "2\n",
      "3\n",
      "4\n",
      "5\n",
      "6\n",
      "7\n",
      "8\n",
      "9\n"
     ]
    }
   ],
   "source": [
    "#i += 1을 언제 하느냐에 따라 결과가 달라짐\n",
    "\n",
    "i = 0\n",
    "\n",
    "while i < 10:\n",
    "    print(i)\n",
    "    i += 1"
   ]
  },
  {
   "cell_type": "code",
   "execution_count": 3,
   "id": "db357589-badf-4477-b121-cda9e8966171",
   "metadata": {},
   "outputs": [
    {
     "name": "stdout",
     "output_type": "stream",
     "text": [
      "1\n",
      "2\n",
      "3\n",
      "4\n",
      "5\n",
      "6\n",
      "7\n",
      "8\n",
      "9\n",
      "10\n"
     ]
    }
   ],
   "source": [
    "#print()를 먼저하면서 1부터 10까지 출력하기\n",
    "i = 1\n",
    "\n",
    "while i <= 10:\n",
    "    print(i)\n",
    "    i += 1"
   ]
  },
  {
   "cell_type": "code",
   "execution_count": 4,
   "id": "8337532a-3d53-4f22-80c5-e1cfce970d84",
   "metadata": {},
   "outputs": [
    {
     "name": "stdout",
     "output_type": "stream",
     "text": [
      "a\n",
      "b\n",
      "c\n"
     ]
    }
   ],
   "source": [
    "#for문은 list의 요소들을 변수로 가져올 수 있음\n",
    "#list에 들어있는 요소의 수만큼 반복\n",
    "characters = ['a', 'b', 'c']\n",
    "for ch in characters:\n",
    "    print(ch)"
   ]
  },
  {
   "cell_type": "code",
   "execution_count": 5,
   "id": "d868ad7b-1ea2-466a-97e8-16681ff4cc8e",
   "metadata": {},
   "outputs": [
    {
     "name": "stdout",
     "output_type": "stream",
     "text": [
      "a\n",
      "b\n",
      "c\n"
     ]
    }
   ],
   "source": [
    "#while문은 일정 횟수만 반복하기 위해 특정 조건을 설정해야함\n",
    "characters = ['a', 'b', 'c']\n",
    "i = 0\n",
    "while i < len(characters):\n",
    "    print(characters[i])\n",
    "    i += 1"
   ]
  },
  {
   "cell_type": "markdown",
   "id": "dd4c18e6-cb22-4c9e-9814-871abbee609e",
   "metadata": {
    "tags": []
   },
   "source": [
    "### 반복문의 제어(제어문)\n",
    "- break: 반복문을 강제로 종료시킴(이중 반복문에서 사용할 경우 하나의 반복문만 종료시킴)\n",
    "- else: 반복문이 완전히 끝났을 때 실행되는 블록(도중에 종료시키는 break와 구분)\n",
    "  - for문이 완전히 종료되었을 때\n",
    "  - while문의 조건이 false가 되었을 때\n",
    "- continue: continue 이하를 실행시키지 않고 다음 loop로 넘어감"
   ]
  },
  {
   "cell_type": "code",
   "execution_count": 6,
   "id": "64931bf2-405e-4758-a06f-e65d65445d4d",
   "metadata": {},
   "outputs": [
    {
     "name": "stdout",
     "output_type": "stream",
     "text": [
      "0\n",
      "1\n",
      "2\n",
      "3\n",
      "4\n"
     ]
    }
   ],
   "source": [
    "#for-break\n",
    "for i in range(10):\n",
    "    if i == 5: break\n",
    "    print(i)\n",
    "#if i == 5:\n",
    "#    break\n",
    "#로 적어도 됨"
   ]
  },
  {
   "cell_type": "code",
   "execution_count": 7,
   "id": "d4897649-8ef9-4b72-a09c-53035d96d2ab",
   "metadata": {},
   "outputs": [
    {
     "name": "stdout",
     "output_type": "stream",
     "text": [
      "0\n",
      "1\n",
      "2\n",
      "3\n",
      "4\n"
     ]
    }
   ],
   "source": [
    "#while-break\n",
    "i = 0\n",
    "while i < 5:\n",
    "    print(i)\n",
    "    if i == 4: break\n",
    "    i += 1"
   ]
  },
  {
   "cell_type": "code",
   "execution_count": 8,
   "id": "beab2b19-8a8b-4af4-8001-495be60c4970",
   "metadata": {},
   "outputs": [
    {
     "name": "stdout",
     "output_type": "stream",
     "text": [
      "0\n",
      "1\n",
      "2\n",
      "3\n",
      "4\n",
      "5\n",
      "6\n",
      "7\n",
      "8\n",
      "9\n",
      "end\n"
     ]
    }
   ],
   "source": [
    "#for-else\n",
    "for i in range(10):\n",
    "    print(i)\n",
    "else:\n",
    "    print('end') #for문을 모두 실행한 뒤 end를 출력"
   ]
  },
  {
   "cell_type": "code",
   "execution_count": 9,
   "id": "33755fd8-eb7b-4c08-b914-bf545fce8c18",
   "metadata": {},
   "outputs": [
    {
     "name": "stdout",
     "output_type": "stream",
     "text": [
      "0\n",
      "1\n",
      "2\n",
      "3\n",
      "4\n",
      "5\n",
      "6\n",
      "7\n",
      "8\n",
      "9\n",
      "10\n",
      "end\n"
     ]
    }
   ],
   "source": [
    "#while-else\n",
    "i = 0\n",
    "while i < 11:\n",
    "    print(i)\n",
    "    i += 1\n",
    "else:\n",
    "    print('end')"
   ]
  },
  {
   "cell_type": "code",
   "execution_count": 10,
   "id": "31b109f3-7da8-4ee5-b695-284c693b88ee",
   "metadata": {},
   "outputs": [
    {
     "name": "stdout",
     "output_type": "stream",
     "text": [
      "0\n",
      "1\n",
      "3\n",
      "4\n",
      "5\n"
     ]
    }
   ],
   "source": [
    "#for-continue\n",
    "for i in range(6):\n",
    "    if i == 2:\n",
    "        continue #2를 제외하고 출력\n",
    "    print(i)"
   ]
  },
  {
   "cell_type": "code",
   "execution_count": 11,
   "id": "2bcfdd53-2ee6-4c86-a466-671dc8aa2b3f",
   "metadata": {},
   "outputs": [
    {
     "name": "stdout",
     "output_type": "stream",
     "text": [
      "0\n",
      "1\n",
      "3\n",
      "4\n",
      "5\n"
     ]
    }
   ],
   "source": [
    "#while-continue\n",
    "i = 0\n",
    "while i < 6:\n",
    "    if i == 2:\n",
    "        i += 1 #continue 이전에 i에 1을 더해주지 않으면 i값이 변하지 않아 무한루프가 발생!\n",
    "        continue\n",
    "    print(i)\n",
    "    i += 1"
   ]
  },
  {
   "cell_type": "markdown",
   "id": "5f5b4d33-b40d-442c-9fee-5a0155b1372b",
   "metadata": {},
   "source": [
    "### 구구단\n",
    "- 1. for, while 선택한 뒤 n단을 입력받아서 출력\n",
    "  - 출력: == 3단 ==\n",
    "       3 x 1 = 3\n",
    "       3 x 2 = 6\n",
    "- 2. 1 ~ n단까지 출력\n",
    "- 3. 시작단, 끝단 둘다 입력받아서 출력\n",
    "  - 예: 4 - 7단\n",
    "- 4. 프로그램으로 만든다."
   ]
  },
  {
   "cell_type": "code",
   "execution_count": 12,
   "id": "be0d5354-1c45-4cb4-a203-c822ec73a8ee",
   "metadata": {},
   "outputs": [
    {
     "name": "stdin",
     "output_type": "stream",
     "text": [
      "단을 입력하세요:  2\n"
     ]
    },
    {
     "name": "stdout",
     "output_type": "stream",
     "text": [
      "== 2단 ==\n",
      "2 x 1 = 2\n",
      "2 x 2 = 4\n",
      "2 x 3 = 6\n",
      "2 x 4 = 8\n",
      "2 x 5 = 10\n",
      "2 x 6 = 12\n",
      "2 x 7 = 14\n",
      "2 x 8 = 16\n",
      "2 x 9 = 18\n"
     ]
    }
   ],
   "source": [
    "#1.\n",
    "n = int(input('단을 입력하세요: '))\n",
    "\n",
    "print(f'== {n}단 ==')\n",
    "\n",
    "for i in range(1, 10):\n",
    "    print(f'{n} x {i} = {n * i}')"
   ]
  },
  {
   "cell_type": "code",
   "execution_count": 13,
   "id": "2eb497f5-e314-4c83-91c1-f229424389e8",
   "metadata": {
    "tags": []
   },
   "outputs": [
    {
     "name": "stdin",
     "output_type": "stream",
     "text": [
      "단을 입력하세요:  4\n"
     ]
    },
    {
     "name": "stdout",
     "output_type": "stream",
     "text": [
      "== 1단 ==\n",
      "1 x 1 = 1\n",
      "1 x 2 = 2\n",
      "1 x 3 = 3\n",
      "1 x 4 = 4\n",
      "1 x 5 = 5\n",
      "1 x 6 = 6\n",
      "1 x 7 = 7\n",
      "1 x 8 = 8\n",
      "1 x 9 = 9\n",
      "== 2단 ==\n",
      "2 x 1 = 2\n",
      "2 x 2 = 4\n",
      "2 x 3 = 6\n",
      "2 x 4 = 8\n",
      "2 x 5 = 10\n",
      "2 x 6 = 12\n",
      "2 x 7 = 14\n",
      "2 x 8 = 16\n",
      "2 x 9 = 18\n",
      "== 3단 ==\n",
      "3 x 1 = 3\n",
      "3 x 2 = 6\n",
      "3 x 3 = 9\n",
      "3 x 4 = 12\n",
      "3 x 5 = 15\n",
      "3 x 6 = 18\n",
      "3 x 7 = 21\n",
      "3 x 8 = 24\n",
      "3 x 9 = 27\n",
      "== 4단 ==\n",
      "4 x 1 = 4\n",
      "4 x 2 = 8\n",
      "4 x 3 = 12\n",
      "4 x 4 = 16\n",
      "4 x 5 = 20\n",
      "4 x 6 = 24\n",
      "4 x 7 = 28\n",
      "4 x 8 = 32\n",
      "4 x 9 = 36\n"
     ]
    }
   ],
   "source": [
    "#2.\n",
    "n = int(input('단을 입력하세요: '))\n",
    "\n",
    "for i in range(1, n+1):\n",
    "    print(f'== {i}단 ==')\n",
    "    for j in range(1, 10):\n",
    "        print(f'{i} x {j} = {i * j}')"
   ]
  },
  {
   "cell_type": "code",
   "execution_count": 14,
   "id": "3bcafd03-08a7-48e7-9c0e-411def8d026e",
   "metadata": {
    "tags": []
   },
   "outputs": [
    {
     "name": "stdin",
     "output_type": "stream",
     "text": [
      "시작:  0\n",
      "끝:  1\n"
     ]
    },
    {
     "name": "stdout",
     "output_type": "stream",
     "text": [
      "1부터 9까지의 수만 입력해주세요.\n"
     ]
    },
    {
     "name": "stdin",
     "output_type": "stream",
     "text": [
      "시작:  9\n",
      "끝:  10\n"
     ]
    },
    {
     "name": "stdout",
     "output_type": "stream",
     "text": [
      "1부터 9까지의 수만 입력해주세요.\n"
     ]
    },
    {
     "name": "stdin",
     "output_type": "stream",
     "text": [
      "시작:  3\n",
      "끝:  2\n"
     ]
    },
    {
     "name": "stdout",
     "output_type": "stream",
     "text": [
      "시작단이 끝단보다 깁니다.\n"
     ]
    },
    {
     "name": "stdin",
     "output_type": "stream",
     "text": [
      "시작:  8\n",
      "끝:  9\n"
     ]
    },
    {
     "name": "stdout",
     "output_type": "stream",
     "text": [
      "== 8단 ==\n",
      "8 x 1 = 8\n",
      "8 x 2 = 16\n",
      "8 x 3 = 24\n",
      "8 x 4 = 32\n",
      "8 x 5 = 40\n",
      "8 x 6 = 48\n",
      "8 x 7 = 56\n",
      "8 x 8 = 64\n",
      "8 x 9 = 72\n",
      "== 9단 ==\n",
      "9 x 1 = 9\n",
      "9 x 2 = 18\n",
      "9 x 3 = 27\n",
      "9 x 4 = 36\n",
      "9 x 5 = 45\n",
      "9 x 6 = 54\n",
      "9 x 7 = 63\n",
      "9 x 8 = 72\n",
      "9 x 9 = 81\n"
     ]
    }
   ],
   "source": [
    "#3.\n",
    "while True:\n",
    "    n_s = int(input('시작: '))\n",
    "    n_e = int(input('끝: '))\n",
    "\n",
    "    if n_s > 9 or n_s < 1 or n_e > 9 or n_e < 1:\n",
    "        print('1부터 9까지의 수만 입력해주세요.')\n",
    "    elif n_s > n_e:\n",
    "        print('시작단이 끝단보다 깁니다.')\n",
    "    else:\n",
    "        for i in range(n_s, n_e + 1):\n",
    "            print(f'== {i}단 ==')\n",
    "            for j in range(1, 10):\n",
    "                print(f'{i} x {j} = {i * j}')\n",
    "        break"
   ]
  },
  {
   "cell_type": "code",
   "execution_count": 15,
   "id": "9e91eff1-84a9-4c7d-a177-ab4c1b779d22",
   "metadata": {},
   "outputs": [
    {
     "name": "stdout",
     "output_type": "stream",
     "text": [
      "=== MENU ===\n",
      "    1. n단을 출력하기\n",
      "    2. 1단부터 n단까지 출력하기\n",
      "    3. n단부터 m단까지 출력하기\n",
      "    4. 프로그램 종료\n"
     ]
    },
    {
     "name": "stdin",
     "output_type": "stream",
     "text": [
      "MENU 중 원하는 항목의 번호를 입력하세요:  0\n"
     ]
    },
    {
     "name": "stdout",
     "output_type": "stream",
     "text": [
      "MENU에 없는 번호입니다. 다시 입력해주세요.\n",
      "=== MENU ===\n",
      "    1. n단을 출력하기\n",
      "    2. 1단부터 n단까지 출력하기\n",
      "    3. n단부터 m단까지 출력하기\n",
      "    4. 프로그램 종료\n"
     ]
    },
    {
     "name": "stdin",
     "output_type": "stream",
     "text": [
      "MENU 중 원하는 항목의 번호를 입력하세요:  5\n"
     ]
    },
    {
     "name": "stdout",
     "output_type": "stream",
     "text": [
      "MENU에 없는 번호입니다. 다시 입력해주세요.\n",
      "=== MENU ===\n",
      "    1. n단을 출력하기\n",
      "    2. 1단부터 n단까지 출력하기\n",
      "    3. n단부터 m단까지 출력하기\n",
      "    4. 프로그램 종료\n"
     ]
    },
    {
     "name": "stdin",
     "output_type": "stream",
     "text": [
      "MENU 중 원하는 항목의 번호를 입력하세요:  1\n",
      "단을 입력해주세요:  2\n"
     ]
    },
    {
     "name": "stdout",
     "output_type": "stream",
     "text": [
      "== 2단 ==\n",
      "2 x 1 = 2\n",
      "2 x 2 = 4\n",
      "2 x 3 = 6\n",
      "2 x 4 = 8\n",
      "2 x 5 = 10\n",
      "2 x 6 = 12\n",
      "2 x 7 = 14\n",
      "2 x 8 = 16\n",
      "2 x 9 = 18\n",
      "=== MENU ===\n",
      "    1. n단을 출력하기\n",
      "    2. 1단부터 n단까지 출력하기\n",
      "    3. n단부터 m단까지 출력하기\n",
      "    4. 프로그램 종료\n"
     ]
    },
    {
     "name": "stdin",
     "output_type": "stream",
     "text": [
      "MENU 중 원하는 항목의 번호를 입력하세요:  1\n",
      "단을 입력해주세요:  0\n"
     ]
    },
    {
     "name": "stdout",
     "output_type": "stream",
     "text": [
      "1부터 9까지의 수만 입력해주세요.\n"
     ]
    },
    {
     "name": "stdin",
     "output_type": "stream",
     "text": [
      "단을 입력해주세요:  90\n"
     ]
    },
    {
     "name": "stdout",
     "output_type": "stream",
     "text": [
      "1부터 9까지의 수만 입력해주세요.\n"
     ]
    },
    {
     "name": "stdin",
     "output_type": "stream",
     "text": [
      "단을 입력해주세요:  2\n"
     ]
    },
    {
     "name": "stdout",
     "output_type": "stream",
     "text": [
      "== 2단 ==\n",
      "2 x 1 = 2\n",
      "2 x 2 = 4\n",
      "2 x 3 = 6\n",
      "2 x 4 = 8\n",
      "2 x 5 = 10\n",
      "2 x 6 = 12\n",
      "2 x 7 = 14\n",
      "2 x 8 = 16\n",
      "2 x 9 = 18\n",
      "=== MENU ===\n",
      "    1. n단을 출력하기\n",
      "    2. 1단부터 n단까지 출력하기\n",
      "    3. n단부터 m단까지 출력하기\n",
      "    4. 프로그램 종료\n"
     ]
    },
    {
     "name": "stdin",
     "output_type": "stream",
     "text": [
      "MENU 중 원하는 항목의 번호를 입력하세요:  2\n",
      "단을 입력해주세요:  0\n"
     ]
    },
    {
     "name": "stdout",
     "output_type": "stream",
     "text": [
      "1부터 9까지의 수만 입력해주세요.\n"
     ]
    },
    {
     "name": "stdin",
     "output_type": "stream",
     "text": [
      "단을 입력해주세요:  10\n"
     ]
    },
    {
     "name": "stdout",
     "output_type": "stream",
     "text": [
      "1부터 9까지의 수만 입력해주세요.\n"
     ]
    },
    {
     "name": "stdin",
     "output_type": "stream",
     "text": [
      "단을 입력해주세요:  3\n"
     ]
    },
    {
     "name": "stdout",
     "output_type": "stream",
     "text": [
      "== 1단 ==\n",
      "1 x 1 = 1\n",
      "1 x 2 = 2\n",
      "1 x 3 = 3\n",
      "1 x 4 = 4\n",
      "1 x 5 = 5\n",
      "1 x 6 = 6\n",
      "1 x 7 = 7\n",
      "1 x 8 = 8\n",
      "1 x 9 = 9\n",
      "== 2단 ==\n",
      "2 x 1 = 2\n",
      "2 x 2 = 4\n",
      "2 x 3 = 6\n",
      "2 x 4 = 8\n",
      "2 x 5 = 10\n",
      "2 x 6 = 12\n",
      "2 x 7 = 14\n",
      "2 x 8 = 16\n",
      "2 x 9 = 18\n",
      "== 3단 ==\n",
      "3 x 1 = 3\n",
      "3 x 2 = 6\n",
      "3 x 3 = 9\n",
      "3 x 4 = 12\n",
      "3 x 5 = 15\n",
      "3 x 6 = 18\n",
      "3 x 7 = 21\n",
      "3 x 8 = 24\n",
      "3 x 9 = 27\n",
      "=== MENU ===\n",
      "    1. n단을 출력하기\n",
      "    2. 1단부터 n단까지 출력하기\n",
      "    3. n단부터 m단까지 출력하기\n",
      "    4. 프로그램 종료\n"
     ]
    },
    {
     "name": "stdin",
     "output_type": "stream",
     "text": [
      "MENU 중 원하는 항목의 번호를 입력하세요:  3\n",
      "시작할 단을 입력해주세요:  0\n",
      "끝낼 단을 입력해주세요:  1\n"
     ]
    },
    {
     "name": "stdout",
     "output_type": "stream",
     "text": [
      "1부터 9까지의 수만 입력해주세요.\n"
     ]
    },
    {
     "name": "stdin",
     "output_type": "stream",
     "text": [
      "시작할 단을 입력해주세요:  11\n",
      "끝낼 단을 입력해주세요:  12\n"
     ]
    },
    {
     "name": "stdout",
     "output_type": "stream",
     "text": [
      "1부터 9까지의 수만 입력해주세요.\n"
     ]
    },
    {
     "name": "stdin",
     "output_type": "stream",
     "text": [
      "시작할 단을 입력해주세요:  3\n",
      "끝낼 단을 입력해주세요:  1\n"
     ]
    },
    {
     "name": "stdout",
     "output_type": "stream",
     "text": [
      "시작할 단의 숫자가 끝낼 단의 숫자보다 높습니다.\n"
     ]
    },
    {
     "name": "stdin",
     "output_type": "stream",
     "text": [
      "시작할 단을 입력해주세요:  2\n",
      "끝낼 단을 입력해주세요:  3\n"
     ]
    },
    {
     "name": "stdout",
     "output_type": "stream",
     "text": [
      "== 2단 ==\n",
      "2 x 1 = 2\n",
      "2 x 2 = 4\n",
      "2 x 3 = 6\n",
      "2 x 4 = 8\n",
      "2 x 5 = 10\n",
      "2 x 6 = 12\n",
      "2 x 7 = 14\n",
      "2 x 8 = 16\n",
      "2 x 9 = 18\n",
      "== 3단 ==\n",
      "3 x 1 = 3\n",
      "3 x 2 = 6\n",
      "3 x 3 = 9\n",
      "3 x 4 = 12\n",
      "3 x 5 = 15\n",
      "3 x 6 = 18\n",
      "3 x 7 = 21\n",
      "3 x 8 = 24\n",
      "3 x 9 = 27\n",
      "=== MENU ===\n",
      "    1. n단을 출력하기\n",
      "    2. 1단부터 n단까지 출력하기\n",
      "    3. n단부터 m단까지 출력하기\n",
      "    4. 프로그램 종료\n"
     ]
    },
    {
     "name": "stdin",
     "output_type": "stream",
     "text": [
      "MENU 중 원하는 항목의 번호를 입력하세요:  4\n"
     ]
    },
    {
     "name": "stdout",
     "output_type": "stream",
     "text": [
      "프로그램을 종료합니다.\n"
     ]
    }
   ],
   "source": [
    "#4.\n",
    "while True:\n",
    "    print('''=== MENU ===\n",
    "    1. n단을 출력하기\n",
    "    2. 1단부터 n단까지 출력하기\n",
    "    3. n단부터 m단까지 출력하기\n",
    "    4. 프로그램 종료''')\n",
    "    \n",
    "    menu = int(input('MENU 중 원하는 항목의 번호를 입력하세요: '))\n",
    "    \n",
    "    if not 0 < menu < 5:\n",
    "        print('MENU에 없는 번호입니다. 다시 입력해주세요.')\n",
    "        \n",
    "    elif menu == 1:\n",
    "        while True:\n",
    "            n = int(input('단을 입력해주세요: '))\n",
    "            if not 0 < n < 10:\n",
    "                print('1부터 9까지의 수만 입력해주세요.')\n",
    "            else:\n",
    "                print(f'== {n}단 ==')\n",
    "                for i in range(1, 10):\n",
    "                    print(f'{n} x {i} = {n * i}')\n",
    "                break\n",
    "    \n",
    "    elif menu == 2:\n",
    "        while True:\n",
    "            n = int(input('단을 입력해주세요: '))\n",
    "            if not 0 < n < 10:\n",
    "                print('1부터 9까지의 수만 입력해주세요.')\n",
    "            else:\n",
    "                for i in range(1, n+1):\n",
    "                    print(f'== {i}단 ==')\n",
    "                    for j in range(1, 10):\n",
    "                        print(f'{i} x {j} = {i * j}')\n",
    "                break\n",
    "                        \n",
    "    elif menu == 3:\n",
    "        while True:\n",
    "            ns = int(input('시작할 단을 입력해주세요: '))\n",
    "            ne = int(input('끝낼 단을 입력해주세요: '))\n",
    "            if not 0 < ns < 10 or not 0 < ne < 10:\n",
    "                print('1부터 9까지의 수만 입력해주세요.')\n",
    "            elif ns > ne:\n",
    "                print('시작할 단의 숫자가 끝낼 단의 숫자보다 높습니다.')\n",
    "            else:\n",
    "                for i in range(ns, ne + 1):\n",
    "                    print(f'== {i}단 ==')\n",
    "                    for j in range(1, 10):\n",
    "                        print(f'{i} x {j} = {i * j}')\n",
    "                break\n",
    "            \n",
    "    else:\n",
    "        print('프로그램을 종료합니다.')\n",
    "        break"
   ]
  },
  {
   "cell_type": "markdown",
   "id": "01be6f92-1399-4b0d-90b9-efb4c9d13f88",
   "metadata": {},
   "source": [
    "### print formatting\n",
    "- 1. f string(가장 최신)\n",
    "  - f'{변수}'\n",
    "  - f, F 둘다 가능\n",
    "- 2. format\n",
    "  - '{}'.format(변수)\n",
    "- 3. %\n",
    "  - '%type' %변수\n",
    "    - 문자열은 s, 정수는 d, 실수는 f를 type위치에 작성"
   ]
  },
  {
   "cell_type": "code",
   "execution_count": 16,
   "id": "976bedf2-a8e4-4ce3-a7f7-c8084badcf0f",
   "metadata": {},
   "outputs": [
    {
     "name": "stdout",
     "output_type": "stream",
     "text": [
      "이름: Tom, 나이: 20\n"
     ]
    }
   ],
   "source": [
    "#f string\n",
    "name = 'Tom'\n",
    "age = 20\n",
    "\n",
    "print(f'이름: {name}, 나이: {age}')"
   ]
  },
  {
   "cell_type": "code",
   "execution_count": 17,
   "id": "e78ecc31-2c22-4d17-aa34-8065b16f4ef0",
   "metadata": {},
   "outputs": [
    {
     "name": "stdout",
     "output_type": "stream",
     "text": [
      "이름: Tom, 나이: 20\n"
     ]
    }
   ],
   "source": [
    "#format\n",
    "print('이름: {0}, 나이: {1}'.format(name, age))\n",
    "#print('이름: {1}, 나이: {0}'.format(age, name))\n",
    "#인덱스 번호를 통해 변수의 위치 조절"
   ]
  },
  {
   "cell_type": "code",
   "execution_count": 18,
   "id": "0e7ad239-ea50-4c95-8ba6-60f7a5d33ad5",
   "metadata": {},
   "outputs": [
    {
     "name": "stdout",
     "output_type": "stream",
     "text": [
      "이름: Tom, 나이: 20\n"
     ]
    }
   ],
   "source": [
    "# % 이용\n",
    "# 가장 오래된 방법\n",
    "print('이름: %s, 나이: %d' %(name, age))"
   ]
  },
  {
   "cell_type": "markdown",
   "id": "484ddd2a-8b17-4a95-8ee0-8063b14f5447",
   "metadata": {},
   "source": [
    "## Ch.06 - NLTK"
   ]
  },
  {
   "cell_type": "markdown",
   "id": "74efdcdc-5ead-4b76-8b16-8bf2057396f8",
   "metadata": {},
   "source": [
    "#### Tip"
   ]
  },
  {
   "cell_type": "code",
   "execution_count": 19,
   "id": "637e4d90-4767-4642-91d0-0a342467ca5c",
   "metadata": {
    "tags": []
   },
   "outputs": [
    {
     "name": "stdout",
     "output_type": "stream",
     "text": [
      "*** Introductory Examples for the NLTK Book ***\n",
      "Loading text1, ..., text9 and sent1, ..., sent9\n",
      "Type the name of the text or sentence to view it.\n",
      "Type: 'texts()' or 'sents()' to list the materials.\n",
      "text1: Moby Dick by Herman Melville 1851\n",
      "text2: Sense and Sensibility by Jane Austen 1811\n",
      "text3: The Book of Genesis\n",
      "text4: Inaugural Address Corpus\n",
      "text5: Chat Corpus\n",
      "text6: Monty Python and the Holy Grail\n",
      "text7: Wall Street Journal\n",
      "text8: Personals Corpus\n",
      "text9: The Man Who Was Thursday by G . K . Chesterton 1908\n"
     ]
    },
    {
     "data": {
      "text/plain": [
       "True"
      ]
     },
     "execution_count": 19,
     "metadata": {},
     "output_type": "execute_result"
    }
   ],
   "source": [
    "import nltk\n",
    "from nltk.book import *\n",
    "nltk.download('book', quiet=True)"
   ]
  },
  {
   "cell_type": "code",
   "execution_count": 20,
   "id": "dbe36adb-383a-4a04-8d56-8eb7e924145b",
   "metadata": {},
   "outputs": [
    {
     "name": "stdout",
     "output_type": "stream",
     "text": [
      "<Text: Moby Dick by Herman Melville 1851>\n",
      "<Text: Sense and Sensibility by Jane Austen 1811>\n",
      "<Text: The Book of Genesis>\n",
      "<Text: Inaugural Address Corpus>\n",
      "<Text: Chat Corpus>\n",
      "<Text: Monty Python and the Holy Grail>\n",
      "<Text: Wall Street Journal>\n",
      "<Text: Personals Corpus>\n",
      "<Text: The Man Who Was Thursday by G . K . Chesterton 1908>\n"
     ]
    }
   ],
   "source": [
    "#book의 text 제목을 추출할 때\n",
    "texts = [text1, text2, text3, text4, text5, text6, text7, text8, text9] #text1~9까지 일일이 입력해야함\n",
    "for text in texts:\n",
    "    print(text)"
   ]
  },
  {
   "cell_type": "code",
   "execution_count": 21,
   "id": "e91137c0-bc35-4df2-ac01-d0e68c78b618",
   "metadata": {},
   "outputs": [
    {
     "name": "stdout",
     "output_type": "stream",
     "text": [
      "[<Text: Moby Dick by Herman Melville 1851>, <Text: Sense and Sensibility by Jane Austen 1811>, <Text: The Book of Genesis>, <Text: Inaugural Address Corpus>, <Text: Chat Corpus>, <Text: Monty Python and the Holy Grail>, <Text: Wall Street Journal>, <Text: Personals Corpus>]\n"
     ]
    }
   ],
   "source": [
    "#문자열에 기능을 부여해 코드를 간소화할 수 있음\n",
    "texts = [getattr(nltk.book, f'text{i}') for i in range(1, 9)]\n",
    "print(texts)"
   ]
  },
  {
   "cell_type": "markdown",
   "id": "5832a715-dbed-4448-9440-b70d9573302b",
   "metadata": {
    "tags": []
   },
   "source": [
    "### NLTK: Corpus\n",
    "- 다양한 종류의 코퍼스가 존재하기 때문에 다양한 종류의 언어 분석이 가능하다\n",
    "- 종류\n",
    "  - gutenberg\n",
    "  - brown\n",
    "  - inaugural\n",
    "- 함수\n",
    "  - words()\n",
    "  - sents()\n",
    "  - fileids()\n",
    "  - raw()"
   ]
  },
  {
   "cell_type": "code",
   "execution_count": 22,
   "id": "a3b2b28f-e613-4dae-a665-618ca0c2e080",
   "metadata": {},
   "outputs": [
    {
     "data": {
      "text/plain": [
       "True"
      ]
     },
     "execution_count": 22,
     "metadata": {},
     "output_type": "execute_result"
    }
   ],
   "source": [
    "import nltk\n",
    "from nltk.corpus import gutenberg #gutenberg: 저작권이 말소된 문학작품 말뭉치\n",
    "nltk.download('gutenberg', quiet=True)"
   ]
  },
  {
   "cell_type": "code",
   "execution_count": 23,
   "id": "2e960bbd-77bb-4d36-b224-02a82f48f017",
   "metadata": {},
   "outputs": [
    {
     "data": {
      "text/plain": [
       "['[', 'Emma', 'by', 'Jane', 'Austen', '1816', ']', ...]"
      ]
     },
     "execution_count": 23,
     "metadata": {},
     "output_type": "execute_result"
    }
   ],
   "source": [
    "gutenberg.words()"
   ]
  },
  {
   "cell_type": "code",
   "execution_count": 24,
   "id": "ed2ac600-c9fe-4a18-880d-5834725f1cbd",
   "metadata": {},
   "outputs": [
    {
     "data": {
      "text/plain": [
       "[['[', 'Emma', 'by', 'Jane', 'Austen', '1816', ']'], ['VOLUME', 'I'], ...]"
      ]
     },
     "execution_count": 24,
     "metadata": {},
     "output_type": "execute_result"
    }
   ],
   "source": [
    "gutenberg.sents()"
   ]
  },
  {
   "cell_type": "code",
   "execution_count": 25,
   "id": "e33b88c4-e794-4e81-98e3-2f59a132ca10",
   "metadata": {},
   "outputs": [
    {
     "data": {
      "text/plain": [
       "['austen-emma.txt',\n",
       " 'austen-persuasion.txt',\n",
       " 'austen-sense.txt',\n",
       " 'bible-kjv.txt',\n",
       " 'blake-poems.txt',\n",
       " 'bryant-stories.txt',\n",
       " 'burgess-busterbrown.txt',\n",
       " 'carroll-alice.txt',\n",
       " 'chesterton-ball.txt',\n",
       " 'chesterton-brown.txt',\n",
       " 'chesterton-thursday.txt',\n",
       " 'edgeworth-parents.txt',\n",
       " 'melville-moby_dick.txt',\n",
       " 'milton-paradise.txt',\n",
       " 'shakespeare-caesar.txt',\n",
       " 'shakespeare-hamlet.txt',\n",
       " 'shakespeare-macbeth.txt',\n",
       " 'whitman-leaves.txt']"
      ]
     },
     "execution_count": 25,
     "metadata": {},
     "output_type": "execute_result"
    }
   ],
   "source": [
    "gutenberg.fileids()"
   ]
  },
  {
   "cell_type": "code",
   "execution_count": 26,
   "id": "ebecf3cb-c660-4aad-b24b-85d1d30c42e1",
   "metadata": {},
   "outputs": [
    {
     "name": "stdout",
     "output_type": "stream",
     "text": [
      "austen-emma | 글자 수 = 887071개, 단어 수 = 192427개, 문장 수 = 7752개\n",
      "austen-persuasion | 글자 수 = 466292개, 단어 수 = 98171개, 문장 수 = 3747개\n",
      "austen-sense | 글자 수 = 673022개, 단어 수 = 141576개, 문장 수 = 4999개\n",
      "bible-kjv | 글자 수 = 4332554개, 단어 수 = 1010654개, 문장 수 = 30103개\n",
      "blake-poems | 글자 수 = 38153개, 단어 수 = 8354개, 문장 수 = 438개\n",
      "bryant-stories | 글자 수 = 249439개, 단어 수 = 55563개, 문장 수 = 2863개\n",
      "burgess-busterbrown | 글자 수 = 84663개, 단어 수 = 18963개, 문장 수 = 1054개\n",
      "carroll-alice | 글자 수 = 144395개, 단어 수 = 34110개, 문장 수 = 1703개\n",
      "chesterton-ball | 글자 수 = 457450개, 단어 수 = 96996개, 문장 수 = 4779개\n",
      "chesterton-brown | 글자 수 = 406629개, 단어 수 = 86063개, 문장 수 = 3806개\n",
      "chesterton-thursday | 글자 수 = 320525개, 단어 수 = 69213개, 문장 수 = 3742개\n",
      "edgeworth-parents | 글자 수 = 935158개, 단어 수 = 210663개, 문장 수 = 10230개\n",
      "melville-moby_dick | 글자 수 = 1242990개, 단어 수 = 260819개, 문장 수 = 10059개\n",
      "milton-paradise | 글자 수 = 468220개, 단어 수 = 96825개, 문장 수 = 1851개\n",
      "shakespeare-caesar | 글자 수 = 112310개, 단어 수 = 25833개, 문장 수 = 2163개\n",
      "shakespeare-hamlet | 글자 수 = 162881개, 단어 수 = 37360개, 문장 수 = 3106개\n",
      "shakespeare-macbeth | 글자 수 = 100351개, 단어 수 = 23140개, 문장 수 = 1907개\n",
      "whitman-leaves | 글자 수 = 711215개, 단어 수 = 154883개, 문장 수 = 4250개\n"
     ]
    }
   ],
   "source": [
    "# gutenberg의 각 파일을 돌아가며 글자 수, 단어 수, 문장 수를 출력하기\n",
    "for text in gutenberg.fileids():\n",
    "    print(f'{text[:-4]} | 글자 수 = {len(gutenberg.raw(text))}개, 단어 수 = {len(gutenberg.words(text))}개, 문장 수 = {len(gutenberg.sents(text))}개')\n",
    "# f string {} 안에 변수들을 다 따로 변수처리하고 입력하면 보다 깔끔하게 코드를 작성 가능"
   ]
  },
  {
   "cell_type": "markdown",
   "id": "9715509b-7f11-4d96-a8d5-58d082447ee4",
   "metadata": {},
   "source": [
    "### Corpus - Brown\n",
    "- categories(): text들의 카테고리(장르) 표시"
   ]
  },
  {
   "cell_type": "code",
   "execution_count": 27,
   "id": "044753c9-26db-4aa7-b3d7-026fdcf7468c",
   "metadata": {},
   "outputs": [
    {
     "name": "stderr",
     "output_type": "stream",
     "text": [
      "[nltk_data] Downloading package brown to\n",
      "[nltk_data]     C:\\Users\\Bon\\AppData\\Roaming\\nltk_data...\n",
      "[nltk_data]   Package brown is already up-to-date!\n"
     ]
    }
   ],
   "source": [
    "nltk.download('brown')\n",
    "brown_corpus = nltk.corpus.brown"
   ]
  },
  {
   "cell_type": "code",
   "execution_count": 28,
   "id": "9bbddda5-57a5-41a9-ad84-c922a6ffe579",
   "metadata": {},
   "outputs": [
    {
     "data": {
      "text/plain": [
       "['adventure',\n",
       " 'belles_lettres',\n",
       " 'editorial',\n",
       " 'fiction',\n",
       " 'government',\n",
       " 'hobbies',\n",
       " 'humor',\n",
       " 'learned',\n",
       " 'lore',\n",
       " 'mystery',\n",
       " 'news',\n",
       " 'religion',\n",
       " 'reviews',\n",
       " 'romance',\n",
       " 'science_fiction']"
      ]
     },
     "execution_count": 28,
     "metadata": {},
     "output_type": "execute_result"
    }
   ],
   "source": [
    "brown_corpus.categories()"
   ]
  },
  {
   "cell_type": "code",
   "execution_count": 29,
   "id": "84739dcf-c80b-4e06-9307-56ac574022b9",
   "metadata": {},
   "outputs": [
    {
     "name": "stdout",
     "output_type": "stream",
     "text": [
      "can 17\n",
      "could 33\n",
      "may 8\n",
      "might 8\n",
      "will 13\n",
      "would 56\n"
     ]
    }
   ],
   "source": [
    "#modal verb 사용 횟수\n",
    "humor = brown_corpus.words(categories='humor')\n",
    "modals = ['can', 'could', 'may', 'might', 'will', 'would']\n",
    "\n",
    "fdist_brown = nltk.FreqDist([w.lower() for w in humor])\n",
    "\n",
    "for verb in modals:\n",
    "    print(verb, fdist_brown[verb])"
   ]
  },
  {
   "cell_type": "markdown",
   "id": "ac3d7f79-b1a0-4c61-8ff7-92ec032577dc",
   "metadata": {},
   "source": [
    "### conditional frequency distribution(CFD)\n",
    "- 조건이 붙은 fdist"
   ]
  },
  {
   "cell_type": "code",
   "execution_count": 30,
   "id": "d4e9ea21-0772-42bc-a397-305a0bece47a",
   "metadata": {},
   "outputs": [],
   "source": [
    "cfd = nltk.ConditionalFreqDist(\n",
    "    (genre, word.lower()) #장르에 따른 fdist\n",
    "    for genre in brown_corpus.categories()\n",
    "    for word in brown_corpus.words(categories=genre)\n",
    ")"
   ]
  },
  {
   "cell_type": "code",
   "execution_count": 31,
   "id": "31358031-0c0b-45f9-b777-48b06be47f4a",
   "metadata": {},
   "outputs": [
    {
     "data": {
      "text/plain": [
       "[('.', 4057),\n",
       " ('the', 3780),\n",
       " (',', 3488),\n",
       " ('and', 1706),\n",
       " ('a', 1432),\n",
       " ('of', 1327),\n",
       " ('to', 1322),\n",
       " ('he', 1283),\n",
       " ('``', 998),\n",
       " (\"''\", 995)]"
      ]
     },
     "execution_count": 31,
     "metadata": {},
     "output_type": "execute_result"
    }
   ],
   "source": [
    "cfd['adventure'].most_common(10)"
   ]
  },
  {
   "cell_type": "code",
   "execution_count": 32,
   "id": "bda9a730-8a19-4034-aa89-3d35c7ca4a08",
   "metadata": {},
   "outputs": [
    {
     "name": "stdout",
     "output_type": "stream",
     "text": [
      "                  can could   may might  will would \n",
      "      adventure    48   154     7    59    51   194 \n",
      " belles_lettres   249   216   221   113   246   397 \n",
      "      editorial   124    57    79    39   235   185 \n",
      "        fiction    39   168    10    44    56   291 \n",
      "     government   119    38   179    13   244   120 \n",
      "        hobbies   276    59   143    22   269    83 \n",
      "          humor    17    33     8     8    13    56 \n",
      "        learned   367   159   336   128   340   321 \n",
      "           lore   170   142   170    50   178   188 \n",
      "        mystery    45   145    15    57    25   189 \n",
      "           news    94    87    93    38   389   246 \n",
      "       religion    84    59    79    12    72    69 \n",
      "        reviews    45    40    47    26    61    48 \n",
      "        romance    79   195    11    51    49   247 \n",
      "science_fiction    16    49     4    12    17    80 \n"
     ]
    }
   ],
   "source": [
    "cfd.tabulate(conditons=brown_corpus.categories()[:3], samples=modals)"
   ]
  },
  {
   "cell_type": "code",
   "execution_count": null,
   "id": "e1e51a37-e295-460f-924c-c27ce886eae8",
   "metadata": {},
   "outputs": [],
   "source": []
  }
 ],
 "metadata": {
  "kernelspec": {
   "display_name": "Python 3 (ipykernel)",
   "language": "python",
   "name": "python3"
  },
  "language_info": {
   "codemirror_mode": {
    "name": "ipython",
    "version": 3
   },
   "file_extension": ".py",
   "mimetype": "text/x-python",
   "name": "python",
   "nbconvert_exporter": "python",
   "pygments_lexer": "ipython3",
   "version": "3.9.7"
  }
 },
 "nbformat": 4,
 "nbformat_minor": 5
}
