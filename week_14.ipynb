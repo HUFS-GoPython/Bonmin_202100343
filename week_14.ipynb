{
 "cells": [
  {
   "cell_type": "markdown",
   "id": "2c3ec5be-1d0e-445d-8c39-342105fea562",
   "metadata": {},
   "source": [
    "# week_14"
   ]
  },
  {
   "cell_type": "markdown",
   "id": "2c9ad60e-ee8b-46f3-9433-56457f0dcbb4",
   "metadata": {},
   "source": [
    "## 함수 II\n",
    "### 중첩함수\n",
    "- 캡슐화 목적\n",
    "  - 변수 범위를 제한할 수 있다.\n",
    "  - 책임, 관리 명확해짐"
   ]
  },
  {
   "cell_type": "code",
   "execution_count": 1,
   "id": "6fcc314a-e842-4f5f-8fe7-b035b0153f72",
   "metadata": {},
   "outputs": [
    {
     "data": {
      "text/plain": [
       "4"
      ]
     },
     "execution_count": 1,
     "metadata": {},
     "output_type": "execute_result"
    }
   ],
   "source": [
    "def outer(a, b): #외부함수\n",
    "    def inner(c, d): #내부함수\n",
    "        return c + d\n",
    "    return inner(a, b)\n",
    "\n",
    "outer(2, 2)"
   ]
  },
  {
   "cell_type": "code",
   "execution_count": 2,
   "id": "1814b1f5-5e3e-420b-bc98-6c10e508ac04",
   "metadata": {},
   "outputs": [
    {
     "ename": "NameError",
     "evalue": "name 'inner' is not defined",
     "output_type": "error",
     "traceback": [
      "\u001b[1;31m---------------------------------------------------------------------------\u001b[0m",
      "\u001b[1;31mNameError\u001b[0m                                 Traceback (most recent call last)",
      "\u001b[1;32m~\\AppData\\Local\\Temp/ipykernel_16236/3167640270.py\u001b[0m in \u001b[0;36m<module>\u001b[1;34m\u001b[0m\n\u001b[1;32m----> 1\u001b[1;33m \u001b[0minner\u001b[0m\u001b[1;33m(\u001b[0m\u001b[1;36m2\u001b[0m\u001b[1;33m,\u001b[0m \u001b[1;36m2\u001b[0m\u001b[1;33m)\u001b[0m \u001b[1;31m#내부함수는 함수 밖에서 호출할 수 없다(캡슐화 기능)\u001b[0m\u001b[1;33m\u001b[0m\u001b[1;33m\u001b[0m\u001b[0m\n\u001b[0m",
      "\u001b[1;31mNameError\u001b[0m: name 'inner' is not defined"
     ]
    }
   ],
   "source": [
    "inner(2, 2) #내부함수는 함수 밖에서 호출할 수 없다(캡슐화 기능)"
   ]
  },
  {
   "cell_type": "code",
   "execution_count": null,
   "id": "6a1157fa-d099-4e74-809f-6c8f9e4ca95a",
   "metadata": {},
   "outputs": [],
   "source": [
    "def knights(saying):\n",
    "    def inner(quote):\n",
    "        return f'we are the knights who say: {quote}'\n",
    "    return inner(saying)\n",
    "\n",
    "knights('Ni!')"
   ]
  },
  {
   "cell_type": "markdown",
   "id": "0bb6185e-bed8-4dc8-9cf5-5ec6b99a79a1",
   "metadata": {},
   "source": [
    "### 클로저| closure\n",
    "- 자신을 둘러싼 scope(name space)의 상대값을 기억하는 함수\n",
    "- 메모리를 효율적 사용 가능(함수가 필요할 때만 호출해 꺼내 쓸 수 있다)\n",
    "- 조건\n",
    "  - 중첩함수여야 함\n",
    "  - 외부함수의 상태값 참조해야 함\n",
    "  - 외부함수가 내부함수를 반환해야 함"
   ]
  },
  {
   "cell_type": "code",
   "execution_count": 3,
   "id": "e723f8fc-0e06-4710-bb32-e1cf1afe958d",
   "metadata": {},
   "outputs": [
    {
     "data": {
      "text/plain": [
       "<function __main__.multiply(x)>"
      ]
     },
     "execution_count": 3,
     "metadata": {},
     "output_type": "execute_result"
    }
   ],
   "source": [
    "def multiply(x): #클로저\n",
    "    def inner(y):\n",
    "        return x * y\n",
    "    return inner #함수 실행되기 전\n",
    "\n",
    "multiply #반환값이 함수(inner)"
   ]
  },
  {
   "cell_type": "code",
   "execution_count": 4,
   "id": "8a45aa9d-836a-4fd2-8d2d-b9afd413c996",
   "metadata": {},
   "outputs": [
    {
     "data": {
      "text/plain": [
       "(<function __main__.multiply.<locals>.inner(y)>,\n",
       " <function __main__.multiply.<locals>.inner(y)>)"
      ]
     },
     "execution_count": 4,
     "metadata": {},
     "output_type": "execute_result"
    }
   ],
   "source": [
    "m5 = multiply(5) # x = 5\n",
    "m6 = multiply(6) # x = 6 #다양한 버전으로 만들어 필요에 따라 사용 가능\n",
    "m5, m6"
   ]
  },
  {
   "cell_type": "code",
   "execution_count": 5,
   "id": "2b3cbae5-cd45-42b4-aab3-c7ee797c7990",
   "metadata": {},
   "outputs": [
    {
     "data": {
      "text/plain": [
       "30"
      ]
     },
     "execution_count": 5,
     "metadata": {},
     "output_type": "execute_result"
    }
   ],
   "source": [
    "m5(6) #y = 6"
   ]
  },
  {
   "cell_type": "code",
   "execution_count": 6,
   "id": "fd55c813-bc05-4227-81b1-c10b03ea55c4",
   "metadata": {},
   "outputs": [
    {
     "data": {
      "text/plain": [
       "18"
      ]
     },
     "execution_count": 6,
     "metadata": {},
     "output_type": "execute_result"
    }
   ],
   "source": [
    "del(multiply)\n",
    "m6(3) #multiply함수가 삭제되었음에도 변수에 선언한 값은 유지됨"
   ]
  },
  {
   "cell_type": "markdown",
   "id": "6265599f-b696-4bc4-ab90-f47d6a4b55d4",
   "metadata": {},
   "source": [
    "### 데코레이터\n",
    "- 메인 함수에  또 다른 함수를 데코레이터로 선언하여 사용 가능\n",
    "- 목적:\n",
    "  - 재사용, 가독성, 직관적임"
   ]
  },
  {
   "cell_type": "code",
   "execution_count": 7,
   "id": "ff8019b3-9699-4e73-a111-acbd3156c5a5",
   "metadata": {},
   "outputs": [],
   "source": [
    "def document_it(func):\n",
    "    def new_func(*args, **kargs):\n",
    "        print('arguments: ', args)\n",
    "        print('key arguments: ', kargs)\n",
    "        return func(*args, **kargs)\n",
    "    return new_func\n",
    "\n",
    "@document_it\n",
    "def add(a, b):\n",
    "    return a + b\n",
    "\n",
    "@document_it\n",
    "def subtract(a, b):\n",
    "    return a - b\n",
    "\n",
    "@document_it\n",
    "def do_nothing(a, b):\n",
    "    return a, b"
   ]
  },
  {
   "cell_type": "code",
   "execution_count": 8,
   "id": "94ab1a73-e4c2-427c-b091-b4dd78f5a4c4",
   "metadata": {},
   "outputs": [
    {
     "name": "stdout",
     "output_type": "stream",
     "text": [
      "arguments:  (1, 3)\n",
      "key arguments:  {}\n"
     ]
    },
    {
     "data": {
      "text/plain": [
       "4"
      ]
     },
     "execution_count": 8,
     "metadata": {},
     "output_type": "execute_result"
    }
   ],
   "source": [
    "add(1, 3) #데코레이터로 선언된 함수를 한번 거쳐서 실행됨"
   ]
  },
  {
   "cell_type": "code",
   "execution_count": 9,
   "id": "db923948-83bd-471a-9d5b-b130ba9e0dfa",
   "metadata": {},
   "outputs": [
    {
     "name": "stdout",
     "output_type": "stream",
     "text": [
      "arguments:  (1,)\n",
      "key arguments:  {'b': 3}\n"
     ]
    },
    {
     "data": {
      "text/plain": [
       "4"
      ]
     },
     "execution_count": 9,
     "metadata": {},
     "output_type": "execute_result"
    }
   ],
   "source": [
    "add(1, b=3) #kargs도 정상적으로 들어감"
   ]
  },
  {
   "cell_type": "code",
   "execution_count": 10,
   "id": "a4aeccb0-a44d-4ba9-833b-c9996d2af2cc",
   "metadata": {},
   "outputs": [
    {
     "data": {
      "text/plain": [
       "36"
      ]
     },
     "execution_count": 10,
     "metadata": {},
     "output_type": "execute_result"
    }
   ],
   "source": [
    "def square(func):\n",
    "    def inner(*args): #함수마다 인자의 개수가 다르기 때문에 args로 받아야 어떤 함수가 들어와도 실행 가능함\n",
    "        result = func(*args)\n",
    "        return result * result\n",
    "    return inner\n",
    "\n",
    "@square\n",
    "def add(a, b):\n",
    "    return a + b\n",
    "\n",
    "add(4, 2)"
   ]
  },
  {
   "cell_type": "markdown",
   "id": "df96a9d0-0e04-4f14-b595-5ae0375f1791",
   "metadata": {},
   "source": [
    "### scope: global, local, nonlocal\n",
    "- 내부함수는 외부함수의 인자를 \"참조\"만 할 수 있음(읽기)\n",
    "- nonlocal: 내부 함수에서 외부 함수의 인자를 수정할 수 있도록 하는 예약어"
   ]
  },
  {
   "cell_type": "code",
   "execution_count": 11,
   "id": "1aaa3621-af16-44ca-b2ef-e64b0c3f5553",
   "metadata": {},
   "outputs": [],
   "source": [
    "# 전역(global)\n",
    "def square(func):\n",
    "    # 지역(local)\n",
    "    def inner(*args):\n",
    "        # 지역 내의 지역\n",
    "        result = func(*args)\n",
    "        return result * result\n",
    "    return inner"
   ]
  },
  {
   "cell_type": "code",
   "execution_count": 12,
   "id": "4db66228-8a1c-4324-8aae-a8b3fe8fc7ca",
   "metadata": {},
   "outputs": [
    {
     "data": {
      "text/plain": [
       "10"
      ]
     },
     "execution_count": 12,
     "metadata": {},
     "output_type": "execute_result"
    }
   ],
   "source": [
    "# 내부함수를 호출하지 않았을 경우\n",
    "# 내부함수의 a는 외부함수에 영향을 미치지 못함\n",
    "def outer(a):\n",
    "    def inner():\n",
    "        a = 1\n",
    "        return a\n",
    "    return a\n",
    "\n",
    "outer(10)"
   ]
  },
  {
   "cell_type": "code",
   "execution_count": 13,
   "id": "659d16a1-2ae3-4fdd-8dab-3bf34a89c214",
   "metadata": {},
   "outputs": [
    {
     "data": {
      "text/plain": [
       "(1, 2)"
      ]
     },
     "execution_count": 13,
     "metadata": {},
     "output_type": "execute_result"
    }
   ],
   "source": [
    "# 내부함수를 호출했을 경우\n",
    "# 외부함수에 영향이 있음\n",
    "# 전역변수가 아니기 때문에 변수에 영향은 없음\n",
    "def outer(a):\n",
    "    def inner():\n",
    "        #a += 1 #함수 내부에서 정의되지 않았기 때문에 연산은 불가능함\n",
    "        a = 1\n",
    "        return a\n",
    "    return inner()\n",
    "a = 2\n",
    "outer(10), a"
   ]
  },
  {
   "cell_type": "code",
   "execution_count": 14,
   "id": "373ad848-3406-4016-93bc-3e38a984c179",
   "metadata": {},
   "outputs": [
    {
     "data": {
      "text/plain": [
       "(11, 2)"
      ]
     },
     "execution_count": 14,
     "metadata": {},
     "output_type": "execute_result"
    }
   ],
   "source": [
    "def outer(a):\n",
    "    def inner():\n",
    "        nonlocal a\n",
    "        a += 1 #nonlocal 사용하면 연산 가능\n",
    "        return a\n",
    "    return inner()\n",
    "\n",
    "outer(10), a"
   ]
  },
  {
   "cell_type": "code",
   "execution_count": 15,
   "id": "8d09050a-e3cd-43cf-a418-84a67b845f8e",
   "metadata": {},
   "outputs": [
    {
     "data": {
      "text/plain": [
       "[1, 2, 3, 6]"
      ]
     },
     "execution_count": 15,
     "metadata": {},
     "output_type": "execute_result"
    }
   ],
   "source": [
    "#가변객체를 인자로 받을 경우\n",
    "#리턴 없이도 값을 얻을 수 있음\n",
    "#여러번 사용하게 되면 결과값이 계속 변하게 됨 => 좋지 않은 함수(다른 수단을 찾거나 해당 사실을 사전에 문서화할 필요가 있음)\n",
    "def my_func(nums:list):\n",
    "    nums.append(sum(nums))\n",
    "    \n",
    "a = [1, 2, 3]\n",
    "my_func(a)\n",
    "a"
   ]
  },
  {
   "cell_type": "code",
   "execution_count": 16,
   "id": "28e0920c-01f3-4a94-baf6-53dafd9de796",
   "metadata": {},
   "outputs": [
    {
     "data": {
      "text/plain": [
       "[1, 2, 3, 6, 12]"
      ]
     },
     "execution_count": 16,
     "metadata": {},
     "output_type": "execute_result"
    }
   ],
   "source": [
    "my_func(a)\n",
    "a"
   ]
  },
  {
   "cell_type": "code",
   "execution_count": 17,
   "id": "e8646055-f5c1-472f-b2b8-d88d2bbed79c",
   "metadata": {},
   "outputs": [
    {
     "data": {
      "text/plain": [
       "[1, 2, 3, 6, 12, 24]"
      ]
     },
     "execution_count": 17,
     "metadata": {},
     "output_type": "execute_result"
    }
   ],
   "source": [
    "my_func(a)\n",
    "a #값이 계속 변함"
   ]
  },
  {
   "cell_type": "markdown",
   "id": "327cd86e-9247-4a06-9a40-53dfe60c31c3",
   "metadata": {},
   "source": [
    "### 실습\n",
    "1. 함수: 차 속도, 제한 속도를 비교해서 true/false\n",
    "2. 데코레이터 함수\n",
    "- 만약 제한 속도를 초과했다면 얼마나 초과했는지 출력하는 함수\n",
    "- 예: 100, 80\n",
    "- \"20km/h 초과\""
   ]
  },
  {
   "cell_type": "code",
   "execution_count": 18,
   "id": "3ff07f0b-467d-4e23-a72a-6fdbb68ce354",
   "metadata": {},
   "outputs": [
    {
     "data": {
      "text/plain": [
       "'20 km/h 초과'"
      ]
     },
     "execution_count": 18,
     "metadata": {},
     "output_type": "execute_result"
    }
   ],
   "source": [
    "def calc_speed(func):\n",
    "    def inner(speed, limit):\n",
    "        if func(speed, limit):\n",
    "            return f'{speed - limit} km/h 초과'\n",
    "    return inner\n",
    "    \n",
    "@calc_speed            \n",
    "def is_speeding(speed, limit):\n",
    "    return speed > limit\n",
    "\n",
    "is_speeding(100, 80)"
   ]
  },
  {
   "cell_type": "markdown",
   "id": "4e804393-02a1-4abd-b3c0-9211baf8d307",
   "metadata": {},
   "source": [
    "### 제너레이터\n",
    "- return 대신 yield 사용\n",
    "- 순회의 리턴값을 하나씩 변환\n",
    "- 시퀀스를 생성하는 객체\n",
    "- 한번만 사용되면 사라지기 때문에 메모리 효율성이 증대됨"
   ]
  },
  {
   "cell_type": "code",
   "execution_count": 19,
   "id": "85cc1e43-7019-4787-9fc3-ea6df3a49cd3",
   "metadata": {},
   "outputs": [
    {
     "name": "stdout",
     "output_type": "stream",
     "text": [
      "Kevin\n",
      "MIchael\n",
      "Juliette\n",
      "Laura\n"
     ]
    }
   ],
   "source": [
    "names = 'Kevin MIchael Juliette Laura'.split()\n",
    "\n",
    "def printing(name_list:list):\n",
    "    for name in name_list:\n",
    "        yield name #값을 하나씩 받아서 변환\n",
    "    \n",
    "name_list = printing(names)\n",
    "\n",
    "for i in name_list:\n",
    "    print(i)"
   ]
  },
  {
   "cell_type": "code",
   "execution_count": 20,
   "id": "e8ac7a8a-2fb6-443e-822e-ddea67f7c8e9",
   "metadata": {},
   "outputs": [],
   "source": [
    "for i in name_list:\n",
    "    print(i) #이미 한번 사용했기 때문에 아무것도 출력되지 않음"
   ]
  },
  {
   "cell_type": "code",
   "execution_count": 21,
   "id": "ffb01c7f-3915-402a-ac3e-fc4512d15464",
   "metadata": {},
   "outputs": [
    {
     "name": "stdout",
     "output_type": "stream",
     "text": [
      "1\n",
      "2\n",
      "3\n",
      "4\n",
      "5\n",
      "6\n",
      "7\n",
      "8\n",
      "9\n"
     ]
    }
   ],
   "source": [
    "# 실습: range함수 구현하기\n",
    "def my_range(start, end, step=1):\n",
    "    while start != end:\n",
    "        yield start\n",
    "        start += step\n",
    "    \n",
    "for i in my_range(1, 10):\n",
    "    print(i)"
   ]
  },
  {
   "cell_type": "code",
   "execution_count": 22,
   "id": "e2eaecfe-c13f-4de1-8f7b-bd76026f5b10",
   "metadata": {},
   "outputs": [],
   "source": [
    "ranger = (i for i in range(5)) #괄호안에 컴프리헨션 문법를 작성해도 제너레이터를 만들 수 있음"
   ]
  },
  {
   "cell_type": "code",
   "execution_count": 23,
   "id": "6550057c-950d-4b6b-bb1e-45baab48adc9",
   "metadata": {},
   "outputs": [
    {
     "name": "stdout",
     "output_type": "stream",
     "text": [
      "0\n",
      "1\n",
      "2\n",
      "3\n",
      "4\n"
     ]
    }
   ],
   "source": [
    "for i in ranger:\n",
    "    print(i)"
   ]
  },
  {
   "cell_type": "markdown",
   "id": "e8767b14-b61d-4476-a569-654ae923b664",
   "metadata": {},
   "source": [
    "### 재귀함수\n",
    "- 자기 자신을 호출하는 함수\n",
    "- 재귀가 너무 깊어지면 예외 발생. 주의해야 함\n",
    "- 다차원 자료형을 1차원으로 통일시킬 때 사용 가능\n",
    "  - [[a, b], [[[a, b, c], b], b, c]] => [a, b, a, b, c]"
   ]
  },
  {
   "cell_type": "code",
   "execution_count": 24,
   "id": "4cf3c6b6-e4e0-4f55-9687-e83aacb6e48c",
   "metadata": {},
   "outputs": [
    {
     "data": {
      "text/plain": [
       "True"
      ]
     },
     "execution_count": 24,
     "metadata": {},
     "output_type": "execute_result"
    }
   ],
   "source": [
    "#isinstance()\n",
    "#타입을 확인하는 함수\n",
    "a = 3\n",
    "isinstance(a, int)"
   ]
  },
  {
   "cell_type": "code",
   "execution_count": 25,
   "id": "0962f3a2-9e9d-41a4-a9f6-8d717286d885",
   "metadata": {},
   "outputs": [
    {
     "name": "stdout",
     "output_type": "stream",
     "text": [
      "1\n",
      "2\n",
      "2\n",
      "3\n",
      "4\n",
      "1\n",
      "2\n"
     ]
    }
   ],
   "source": [
    "def flatten(sent):\n",
    "    for word in sent:\n",
    "        if isinstance(word, list): #리스트인지 판별\n",
    "            for sub_word in flatten(word): #리스트라면 재귀함수를 사용해 한번 더 실행\n",
    "                yield sub_word\n",
    "        else:\n",
    "            yield word\n",
    "\n",
    "test_list = [1, 2, [2, 3, 4], [[[1, 2]]]]\n",
    "for elem in flatten(test_list):\n",
    "    print(elem)"
   ]
  },
  {
   "cell_type": "code",
   "execution_count": 26,
   "id": "3600603e-a68d-4800-a5ed-a484df129cbe",
   "metadata": {},
   "outputs": [
    {
     "name": "stdout",
     "output_type": "stream",
     "text": [
      "1\n",
      "2\n",
      "2\n",
      "3\n",
      "4\n",
      "1\n",
      "2\n"
     ]
    }
   ],
   "source": [
    "# python 3.3 이상일 경우 더 간략한 방법이 존재함\n",
    "def flatten(sent):\n",
    "    for word in sent:\n",
    "        if isinstance(word, list):\n",
    "                yield from flatten(word)\n",
    "        else:\n",
    "            yield word\n",
    "\n",
    "test_list = [1, 2, [2, 3, 4], [[[1, 2]]]]\n",
    "for elem in flatten(test_list):\n",
    "    print(elem)"
   ]
  },
  {
   "cell_type": "markdown",
   "id": "5771684e-3155-4e97-9868-5bc9095782ee",
   "metadata": {},
   "source": [
    "### 예외 처리| exception handling\n",
    "- 프로그램 동작 중 예외가 발생했을 때 대처하기 위함\n",
    "- 사용자에게 예외를 알리고, 원하는 조치를 설정하도록 함\n",
    "- 프로그램이 정상적으로 종료가 될 수 있음"
   ]
  },
  {
   "cell_type": "markdown",
   "id": "847d0198-ef4d-4f29-bb0d-8a42a9320d5f",
   "metadata": {},
   "source": [
    "여러가지 에러\n",
    "- ZeroDivisionError: 어떤 수를 0으로 나누려고 할 때\n",
    "- IndexError: 인덱스를 벗어났을 때\n",
    "- ValueError: 형 변환 에러\n",
    "- NameError: 정의되지 않은 변수를 사용했을 때"
   ]
  },
  {
   "cell_type": "code",
   "execution_count": 27,
   "id": "fb27d7d3-62b2-4b40-9eac-c0f823ec897b",
   "metadata": {},
   "outputs": [
    {
     "name": "stdout",
     "output_type": "stream",
     "text": [
      "0으로 나눌 수 없음\n"
     ]
    }
   ],
   "source": [
    "#예외 처리\n",
    "try:\n",
    "    #예외가 발생할 수 있는 코드 블럭\n",
    "    5/0\n",
    "except ZeroDivisionError: #발생할 것으로 예측되는 에러 종류\n",
    "    #예외 시 행할 행동\n",
    "    print('0으로 나눌 수 없음')"
   ]
  },
  {
   "cell_type": "code",
   "execution_count": 28,
   "id": "b64aa640-e892-495c-ad75-a1de40c68866",
   "metadata": {},
   "outputs": [
    {
     "name": "stdin",
     "output_type": "stream",
     "text": [
      "인덱스를 입력하세요 >>  3\n"
     ]
    },
    {
     "name": "stdout",
     "output_type": "stream",
     "text": [
      "l\n"
     ]
    },
    {
     "name": "stdin",
     "output_type": "stream",
     "text": [
      "인덱스를 입력하세요 >>  ㄷ\n"
     ]
    },
    {
     "name": "stdout",
     "output_type": "stream",
     "text": [
      "invalid literal for int() with base 10: 'ㄷ'\n"
     ]
    },
    {
     "name": "stdin",
     "output_type": "stream",
     "text": [
      "인덱스를 입력하세요 >>  9\n"
     ]
    },
    {
     "name": "stdout",
     "output_type": "stream",
     "text": [
      "string index out of range\n"
     ]
    },
    {
     "name": "stdin",
     "output_type": "stream",
     "text": [
      "인덱스를 입력하세요 >>  ㅂ\n"
     ]
    },
    {
     "name": "stdout",
     "output_type": "stream",
     "text": [
      "invalid literal for int() with base 10: 'ㅂ'\n"
     ]
    },
    {
     "name": "stdin",
     "output_type": "stream",
     "text": [
      "인덱스를 입력하세요 >>  q\n"
     ]
    }
   ],
   "source": [
    "word = 'hello'\n",
    "while True:\n",
    "    index = input('인덱스를 입력하세요 >> ')\n",
    "    if index == 'q':\n",
    "        break\n",
    "    try:\n",
    "        index = int(index) #ValueError, IndexError\n",
    "        print(word[index])\n",
    "    except ValueError as e1: #예외 핸들러\n",
    "        print(e1) #에러 메시지를 그대로 출력\n",
    "    except IndexError as e2:\n",
    "        print(e2)"
   ]
  },
  {
   "cell_type": "markdown",
   "id": "0dc14ade-4fb8-4c05-b043-f7b8dfb7233b",
   "metadata": {},
   "source": [
    "### 예외 일으키기\n",
    "- 프로그램을 강제 종료시키기 위해 사용함\n",
    "- raise, assert\n",
    "- AssertionError"
   ]
  },
  {
   "cell_type": "code",
   "execution_count": 29,
   "id": "6992e260-72f0-4d2f-8cde-387ad502bdf9",
   "metadata": {},
   "outputs": [
    {
     "name": "stdin",
     "output_type": "stream",
     "text": [
      "숫자>>  3\n"
     ]
    },
    {
     "name": "stdout",
     "output_type": "stream",
     "text": [
      "8\n"
     ]
    },
    {
     "name": "stdin",
     "output_type": "stream",
     "text": [
      "숫자>>  f\n"
     ]
    },
    {
     "ename": "ValueError",
     "evalue": "숫자가 아닙니다!",
     "output_type": "error",
     "traceback": [
      "\u001b[1;31m---------------------------------------------------------------------------\u001b[0m",
      "\u001b[1;31mValueError\u001b[0m                                Traceback (most recent call last)",
      "\u001b[1;32m~\\AppData\\Local\\Temp/ipykernel_16236/1475971809.py\u001b[0m in \u001b[0;36m<module>\u001b[1;34m\u001b[0m\n\u001b[0;32m      2\u001b[0m     \u001b[0mnum\u001b[0m \u001b[1;33m=\u001b[0m \u001b[0minput\u001b[0m\u001b[1;33m(\u001b[0m\u001b[1;34m'숫자>> '\u001b[0m\u001b[1;33m)\u001b[0m\u001b[1;33m\u001b[0m\u001b[1;33m\u001b[0m\u001b[0m\n\u001b[0;32m      3\u001b[0m     \u001b[1;32mif\u001b[0m \u001b[1;32mnot\u001b[0m \u001b[0mnum\u001b[0m\u001b[1;33m.\u001b[0m\u001b[0misdigit\u001b[0m\u001b[1;33m(\u001b[0m\u001b[1;33m)\u001b[0m\u001b[1;33m:\u001b[0m\u001b[1;33m\u001b[0m\u001b[1;33m\u001b[0m\u001b[0m\n\u001b[1;32m----> 4\u001b[1;33m         \u001b[1;32mraise\u001b[0m \u001b[0mValueError\u001b[0m\u001b[1;33m(\u001b[0m\u001b[1;34m'숫자가 아닙니다!'\u001b[0m\u001b[1;33m)\u001b[0m\u001b[1;33m\u001b[0m\u001b[1;33m\u001b[0m\u001b[0m\n\u001b[0m\u001b[0;32m      5\u001b[0m     \u001b[1;32melse\u001b[0m\u001b[1;33m:\u001b[0m\u001b[1;33m\u001b[0m\u001b[1;33m\u001b[0m\u001b[0m\n\u001b[0;32m      6\u001b[0m         \u001b[0mprint\u001b[0m\u001b[1;33m(\u001b[0m\u001b[0mint\u001b[0m\u001b[1;33m(\u001b[0m\u001b[0mnum\u001b[0m\u001b[1;33m)\u001b[0m \u001b[1;33m+\u001b[0m \u001b[1;36m5\u001b[0m\u001b[1;33m)\u001b[0m\u001b[1;33m\u001b[0m\u001b[1;33m\u001b[0m\u001b[0m\n",
      "\u001b[1;31mValueError\u001b[0m: 숫자가 아닙니다!"
     ]
    }
   ],
   "source": [
    "while True:\n",
    "    num = input('숫자>> ')\n",
    "    if not num.isdigit():\n",
    "        raise ValueError('숫자가 아닙니다!')\n",
    "    else:\n",
    "        print(int(num) + 5)"
   ]
  },
  {
   "cell_type": "code",
   "execution_count": 30,
   "id": "3b1f9564-02cb-4585-b801-a389c0052065",
   "metadata": {},
   "outputs": [
    {
     "ename": "AssertionError",
     "evalue": "정수 아님",
     "output_type": "error",
     "traceback": [
      "\u001b[1;31m---------------------------------------------------------------------------\u001b[0m",
      "\u001b[1;31mAssertionError\u001b[0m                            Traceback (most recent call last)",
      "\u001b[1;32m~\\AppData\\Local\\Temp/ipykernel_16236/3910305146.py\u001b[0m in \u001b[0;36m<module>\u001b[1;34m\u001b[0m\n\u001b[0;32m      3\u001b[0m     \u001b[1;32mreturn\u001b[0m \u001b[0mbin\u001b[0m\u001b[1;33m(\u001b[0m\u001b[0mnum\u001b[0m\u001b[1;33m)\u001b[0m\u001b[1;33m\u001b[0m\u001b[1;33m\u001b[0m\u001b[0m\n\u001b[0;32m      4\u001b[0m \u001b[1;33m\u001b[0m\u001b[0m\n\u001b[1;32m----> 5\u001b[1;33m \u001b[0mget_binary\u001b[0m\u001b[1;33m(\u001b[0m\u001b[1;34m'10'\u001b[0m\u001b[1;33m)\u001b[0m\u001b[1;33m\u001b[0m\u001b[1;33m\u001b[0m\u001b[0m\n\u001b[0m",
      "\u001b[1;32m~\\AppData\\Local\\Temp/ipykernel_16236/3910305146.py\u001b[0m in \u001b[0;36mget_binary\u001b[1;34m(num)\u001b[0m\n\u001b[0;32m      1\u001b[0m \u001b[1;32mdef\u001b[0m \u001b[0mget_binary\u001b[0m\u001b[1;33m(\u001b[0m\u001b[0mnum\u001b[0m\u001b[1;33m)\u001b[0m\u001b[1;33m:\u001b[0m\u001b[1;33m\u001b[0m\u001b[1;33m\u001b[0m\u001b[0m\n\u001b[1;32m----> 2\u001b[1;33m     \u001b[1;32massert\u001b[0m \u001b[0misinstance\u001b[0m\u001b[1;33m(\u001b[0m\u001b[0mnum\u001b[0m\u001b[1;33m,\u001b[0m \u001b[0mint\u001b[0m\u001b[1;33m)\u001b[0m\u001b[1;33m,\u001b[0m \u001b[1;34m'정수 아님'\u001b[0m \u001b[1;31m#assert에 해당하는 값을 제외한 모든 값을 오류로 처리\u001b[0m\u001b[1;33m\u001b[0m\u001b[1;33m\u001b[0m\u001b[0m\n\u001b[0m\u001b[0;32m      3\u001b[0m     \u001b[1;32mreturn\u001b[0m \u001b[0mbin\u001b[0m\u001b[1;33m(\u001b[0m\u001b[0mnum\u001b[0m\u001b[1;33m)\u001b[0m\u001b[1;33m\u001b[0m\u001b[1;33m\u001b[0m\u001b[0m\n\u001b[0;32m      4\u001b[0m \u001b[1;33m\u001b[0m\u001b[0m\n\u001b[0;32m      5\u001b[0m \u001b[0mget_binary\u001b[0m\u001b[1;33m(\u001b[0m\u001b[1;34m'10'\u001b[0m\u001b[1;33m)\u001b[0m\u001b[1;33m\u001b[0m\u001b[1;33m\u001b[0m\u001b[0m\n",
      "\u001b[1;31mAssertionError\u001b[0m: 정수 아님"
     ]
    }
   ],
   "source": [
    "def get_binary(num):\n",
    "    assert isinstance(num, int), '정수 아님' #assert에 해당하는 값을 제외한 모든 값을 오류로 처리\n",
    "    return bin(num)\n",
    "\n",
    "get_binary('10')"
   ]
  },
  {
   "cell_type": "markdown",
   "id": "4dbc4065-aa82-4a53-9b64-ce093ea5001d",
   "metadata": {},
   "source": [
    "### 사용자 정의 예외 타입\n",
    "- class 선언하고 Exception 클래스 상속받아 사용"
   ]
  },
  {
   "cell_type": "code",
   "execution_count": 31,
   "id": "0f38f1d2-43c3-4ecb-9f15-12646c038e22",
   "metadata": {},
   "outputs": [],
   "source": [
    "class MyException(Exception):\n",
    "    pass"
   ]
  },
  {
   "cell_type": "code",
   "execution_count": 32,
   "id": "c2ebf297-e513-4364-982a-f8148e8481a6",
   "metadata": {},
   "outputs": [
    {
     "name": "stdout",
     "output_type": "stream",
     "text": [
      "dublin\n",
      "newyork\n",
      "seoul\n"
     ]
    },
    {
     "ename": "MyException",
     "evalue": "대문자 안됨",
     "output_type": "error",
     "traceback": [
      "\u001b[1;31m---------------------------------------------------------------------------\u001b[0m",
      "\u001b[1;31mMyException\u001b[0m                               Traceback (most recent call last)",
      "\u001b[1;32m~\\AppData\\Local\\Temp/ipykernel_16236/1155821841.py\u001b[0m in \u001b[0;36m<module>\u001b[1;34m\u001b[0m\n\u001b[0;32m      3\u001b[0m \u001b[1;32mfor\u001b[0m \u001b[0mcity\u001b[0m \u001b[1;32min\u001b[0m \u001b[0mcities\u001b[0m\u001b[1;33m:\u001b[0m\u001b[1;33m\u001b[0m\u001b[1;33m\u001b[0m\u001b[0m\n\u001b[0;32m      4\u001b[0m     \u001b[1;32mif\u001b[0m \u001b[0mcity\u001b[0m\u001b[1;33m.\u001b[0m\u001b[0misupper\u001b[0m\u001b[1;33m(\u001b[0m\u001b[1;33m)\u001b[0m\u001b[1;33m:\u001b[0m\u001b[1;33m\u001b[0m\u001b[1;33m\u001b[0m\u001b[0m\n\u001b[1;32m----> 5\u001b[1;33m         \u001b[1;32mraise\u001b[0m \u001b[0mMyException\u001b[0m\u001b[1;33m(\u001b[0m\u001b[1;34m'대문자 안됨'\u001b[0m\u001b[1;33m)\u001b[0m\u001b[1;33m\u001b[0m\u001b[1;33m\u001b[0m\u001b[0m\n\u001b[0m\u001b[0;32m      6\u001b[0m     \u001b[1;32melse\u001b[0m\u001b[1;33m:\u001b[0m\u001b[1;33m\u001b[0m\u001b[1;33m\u001b[0m\u001b[0m\n\u001b[0;32m      7\u001b[0m         \u001b[0mprint\u001b[0m\u001b[1;33m(\u001b[0m\u001b[0mcity\u001b[0m\u001b[1;33m)\u001b[0m\u001b[1;33m\u001b[0m\u001b[1;33m\u001b[0m\u001b[0m\n",
      "\u001b[1;31mMyException\u001b[0m: 대문자 안됨"
     ]
    }
   ],
   "source": [
    "cities = 'dublin newyork seoul TOKYO'.split()\n",
    "\n",
    "for city in cities:\n",
    "    if city.isupper():\n",
    "        raise MyException('대문자 안됨')\n",
    "    else:\n",
    "        print(city)"
   ]
  },
  {
   "cell_type": "code",
   "execution_count": 33,
   "id": "63b9945e-5dfa-4e9c-b3cf-8651a20eed04",
   "metadata": {},
   "outputs": [],
   "source": [
    "class UppercaseException(Exception): #경우에 따라 따로 지정해줄 수도 있음\n",
    "    def __init__(self):\n",
    "        super().__init__('대문자 안돼!')"
   ]
  },
  {
   "cell_type": "code",
   "execution_count": 34,
   "id": "ab0ca392-5b05-4e72-a729-3bf86d004e17",
   "metadata": {},
   "outputs": [
    {
     "name": "stdout",
     "output_type": "stream",
     "text": [
      "dublin\n",
      "newyork\n",
      "seoul\n"
     ]
    },
    {
     "ename": "UppercaseException",
     "evalue": "대문자 안돼!",
     "output_type": "error",
     "traceback": [
      "\u001b[1;31m---------------------------------------------------------------------------\u001b[0m",
      "\u001b[1;31mUppercaseException\u001b[0m                        Traceback (most recent call last)",
      "\u001b[1;32m~\\AppData\\Local\\Temp/ipykernel_16236/436246164.py\u001b[0m in \u001b[0;36m<module>\u001b[1;34m\u001b[0m\n\u001b[0;32m      3\u001b[0m \u001b[1;32mfor\u001b[0m \u001b[0mcity\u001b[0m \u001b[1;32min\u001b[0m \u001b[0mcities\u001b[0m\u001b[1;33m:\u001b[0m\u001b[1;33m\u001b[0m\u001b[1;33m\u001b[0m\u001b[0m\n\u001b[0;32m      4\u001b[0m     \u001b[1;32mif\u001b[0m \u001b[0mcity\u001b[0m\u001b[1;33m.\u001b[0m\u001b[0misupper\u001b[0m\u001b[1;33m(\u001b[0m\u001b[1;33m)\u001b[0m\u001b[1;33m:\u001b[0m\u001b[1;33m\u001b[0m\u001b[1;33m\u001b[0m\u001b[0m\n\u001b[1;32m----> 5\u001b[1;33m         \u001b[1;32mraise\u001b[0m \u001b[0mUppercaseException\u001b[0m\u001b[1;33m\u001b[0m\u001b[1;33m\u001b[0m\u001b[0m\n\u001b[0m\u001b[0;32m      6\u001b[0m     \u001b[1;32melse\u001b[0m\u001b[1;33m:\u001b[0m\u001b[1;33m\u001b[0m\u001b[1;33m\u001b[0m\u001b[0m\n\u001b[0;32m      7\u001b[0m         \u001b[0mprint\u001b[0m\u001b[1;33m(\u001b[0m\u001b[0mcity\u001b[0m\u001b[1;33m)\u001b[0m\u001b[1;33m\u001b[0m\u001b[1;33m\u001b[0m\u001b[0m\n",
      "\u001b[1;31mUppercaseException\u001b[0m: 대문자 안돼!"
     ]
    }
   ],
   "source": [
    "cities = 'dublin newyork seoul TOKYO'.split()\n",
    "\n",
    "for city in cities:\n",
    "    if city.isupper():\n",
    "        raise UppercaseException\n",
    "    else:\n",
    "        print(city)"
   ]
  },
  {
   "cell_type": "code",
   "execution_count": null,
   "id": "8e138c27-ffbc-4c8b-9b0a-3ab7f9a106df",
   "metadata": {},
   "outputs": [],
   "source": []
  }
 ],
 "metadata": {
  "kernelspec": {
   "display_name": "Python 3 (ipykernel)",
   "language": "python",
   "name": "python3"
  },
  "language_info": {
   "codemirror_mode": {
    "name": "ipython",
    "version": 3
   },
   "file_extension": ".py",
   "mimetype": "text/x-python",
   "name": "python",
   "nbconvert_exporter": "python",
   "pygments_lexer": "ipython3",
   "version": "3.9.7"
  }
 },
 "nbformat": 4,
 "nbformat_minor": 5
}
