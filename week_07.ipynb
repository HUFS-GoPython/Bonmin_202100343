{
 "cells": [
  {
   "cell_type": "markdown",
   "id": "7312817a-e016-46cd-a249-c5c0712d137d",
   "metadata": {},
   "source": [
    "# week_07"
   ]
  },
  {
   "cell_type": "markdown",
   "id": "e1dd5599-f155-4044-bb76-5292058967c6",
   "metadata": {},
   "source": [
    "## Ch.08 - Function"
   ]
  },
  {
   "cell_type": "markdown",
   "id": "2663fb25-09e9-4722-a1d1-8b679007cadd",
   "metadata": {},
   "source": [
    "### 함수\n",
    "1. 정의\n",
    "   - 특정한 작업을 수행하는 코드 뭉치\n",
    "   - 같은 코드를 반복해서 재사용해야할 때 이용\n",
    "   - 정의하기(define) -> 호출하기(call)\n",
    "   - 구조\n",
    "     *정의하기*\n",
    "     def 함수이름(매개변수1, 2, 3, ...):\n",
    "         수행문1\n",
    "         수행문2\n",
    "         ....\n",
    "         return 출력값\n",
    "         \n",
    "     *호출하기*\n",
    "     함수이름(인수1, 2, 3, ...)\n",
    "   - \"인터페이스\"를 직관적으로 설계하면 함수 내부의 구조를 알지 못해도 함수를 편리하게 사용 가능함\n",
    "   - 우리가 알고 있는 함수 y = x + 1\n",
    "     - x가 매개변수, y가 출력값의 역할\n",
    "   \n",
    "2. 이름 짓는 규칙\n",
    "   - 소문자 사용\n",
    "   - 카멜표기법 가능\n",
    "     - nameFunction - 첫글자는 소문자, 이어지는 단어는 대문자로 시작(주로 java에서 사용)\n",
    "   - 파이썬은 스네이크 표기법(언더바)을 더 선호함\n",
    "     - name_function - 글자는 모두 소문자, 단어 사이에 언더바('-')를 삽입함\n",
    "   - 동사 + 명사의 형태\n",
    "     - print_output, save_model, split_text\n",
    "   - 줄임말 쓰지 말기(calc과 같이 보편적인 줄임말은 사용 가능)\n",
    "   - 함수명은 다른 사람이 쉽게 기능을 파악할 수 있도록 간단하고 명료해야함."
   ]
  },
  {
   "cell_type": "code",
   "execution_count": 48,
   "id": "534ae9b2-1814-46c6-aaa5-681cf11d7b1f",
   "metadata": {},
   "outputs": [
    {
     "data": {
      "text/plain": [
       "'\\ndef split():\\n    ####\\n    return\\n'"
      ]
     },
     "execution_count": 48,
     "metadata": {},
     "output_type": "execute_result"
    }
   ],
   "source": [
    "#파이썬 내장 함수도 이러한 형식을 취함\n",
    "'''\n",
    "def split():\n",
    "    ####\n",
    "    return\n",
    "'''"
   ]
  },
  {
   "cell_type": "code",
   "execution_count": 49,
   "id": "d01509fc-27ad-46c3-aeb7-1231ee974011",
   "metadata": {},
   "outputs": [
    {
     "name": "stdout",
     "output_type": "stream",
     "text": [
      "quack\n"
     ]
    }
   ],
   "source": [
    "#입력과 반환값이 모두 없는 함수\n",
    "def make_a_sound(): #매개변수가 없음\n",
    "    print('quack')\n",
    "    #return None # 이 함수에서 생략된 부분\n",
    "    \n",
    "make_a_sound()"
   ]
  },
  {
   "cell_type": "code",
   "execution_count": 50,
   "id": "192df073-d761-417d-83c8-2f605247baf4",
   "metadata": {},
   "outputs": [
    {
     "name": "stdout",
     "output_type": "stream",
     "text": [
      "True\n"
     ]
    }
   ],
   "source": [
    "#입력이 없고, 반환값이 있는 함수\n",
    "def agree():\n",
    "    return True #True값을 반환\n",
    "\n",
    "if agree():\n",
    "    print('True')\n",
    "else:\n",
    "    print('False')"
   ]
  },
  {
   "cell_type": "code",
   "execution_count": 51,
   "id": "20245ead-f815-454f-a97c-d0a4ee45876f",
   "metadata": {},
   "outputs": [
    {
     "name": "stdout",
     "output_type": "stream",
     "text": [
      "hello hello\n"
     ]
    }
   ],
   "source": [
    "#입력이 있고 반환값이 없는 함수\n",
    "def echo(anything):\n",
    "    print('{0} {0}'.format(anything)) #반환 대신 출력이 존재\n",
    "\n",
    "echo('hello')"
   ]
  },
  {
   "cell_type": "code",
   "execution_count": 52,
   "id": "7f3399ac-e629-4195-b8f3-9ae420c00edb",
   "metadata": {},
   "outputs": [
    {
     "name": "stdout",
     "output_type": "stream",
     "text": [
      "hello hello\n",
      "None\n"
     ]
    }
   ],
   "source": [
    "echo = echo('hello')\n",
    "print(echo) #반환값이 없어 변수에 저장되지 않음"
   ]
  },
  {
   "cell_type": "code",
   "execution_count": 53,
   "id": "72930550-c9d9-498e-b3b9-e7d11faa911b",
   "metadata": {},
   "outputs": [
    {
     "name": "stdout",
     "output_type": "stream",
     "text": [
      "hello hello\n"
     ]
    }
   ],
   "source": [
    "#입력과 반환값이 모두 있는 함수\n",
    "def echo(anything):\n",
    "    return '{0} {0}'.format(anything)\n",
    "\n",
    "echo = echo('hello')\n",
    "print(echo)"
   ]
  },
  {
   "cell_type": "markdown",
   "id": "71f64bf7-b910-4b43-97da-b6cb4e908c4d",
   "metadata": {},
   "source": [
    "3. 인수와 매개변수\n",
    "   - 매개변수: 함수를 정의할 때 사용\n",
    "     - 인터페이스 내(함수 내부)에서만 유효한 변수\n",
    "   - 인수: 호출할 때 사용\n",
    "   - 함수 호출 시 인수에 할당된 값이 매개변수에 복제됨\n",
    "     - line(인수) = 'hello'\n",
    "     - anything(매개변수) = line #복제\n",
    "     - anything은 사라짐\n",
    "- 위치 인수\n",
    "  - positional argument\n",
    "  - 값을 순서대로 상응하는 매개변수에 복사하는 값\n",
    "- 키워드 인수\n",
    "  - keyword aurgument\n",
    "  - 매개변수에 상응하는 이름을 인수에 저장한다\n",
    "  - 위치가 달라도 됨\n",
    "- 디폴트 인수\n",
    "  - default aurgument\n",
    "  - 정의할 때 매개변수의 기본값을 설정\n",
    "  - 호출 시 인수가 없으면 기본값 적용"
   ]
  },
  {
   "cell_type": "code",
   "execution_count": 54,
   "id": "ea7870e0-57e6-4957-ad9c-0767f24906e7",
   "metadata": {},
   "outputs": [
    {
     "name": "stdout",
     "output_type": "stream",
     "text": [
      "even\n"
     ]
    }
   ],
   "source": [
    "def check_number(number):\n",
    "    #pass #나중에 작성하고 싶을 때 사용\n",
    "    if number%2 == 0:\n",
    "        return 'even'\n",
    "    else:\n",
    "        return 'odd'\n",
    "\n",
    "n = 4\n",
    "print(check_number(n))"
   ]
  },
  {
   "cell_type": "code",
   "execution_count": 55,
   "id": "5abde4ee-8ff5-4670-be66-961d7c10cedc",
   "metadata": {},
   "outputs": [
    {
     "data": {
      "text/plain": [
       "[2, 11, 4]"
      ]
     },
     "execution_count": 55,
     "metadata": {},
     "output_type": "execute_result"
    }
   ],
   "source": [
    "number #매개변수는 인터페이스 내에서만 유효. 밖에서는 사용할 수 없다."
   ]
  },
  {
   "cell_type": "code",
   "execution_count": 56,
   "id": "ee881c3f-aa40-4555-97aa-c72382c794b6",
   "metadata": {},
   "outputs": [
    {
     "name": "stdout",
     "output_type": "stream",
     "text": [
      "even\n",
      "odd\n",
      "even\n"
     ]
    }
   ],
   "source": [
    "number = [2, 11, 4] #보통은 for문과 list를 같이 사용하는 경우가 많음\n",
    "for n in number:\n",
    "    print(check_number(n))"
   ]
  },
  {
   "cell_type": "code",
   "execution_count": 57,
   "id": "a71a91fc-f335-415b-a982-3d14961e6083",
   "metadata": {},
   "outputs": [
    {
     "data": {
      "text/plain": [
       "{'wine': 'rioja', 'entree': 'cake', 'dessert': 'egg'}"
      ]
     },
     "execution_count": 57,
     "metadata": {},
     "output_type": "execute_result"
    }
   ],
   "source": [
    "#위치 인수\n",
    "#인수를 순서대로 매개변수에 복사함\n",
    "def menu(wine, entree, dessert):\n",
    "    return {'wine':wine, 'entree':entree, 'dessert':dessert}\n",
    "\n",
    "menu('rioja', 'cake', 'egg')"
   ]
  },
  {
   "cell_type": "code",
   "execution_count": 58,
   "id": "5d4251ee-81ec-4240-a291-8b16ea0420bf",
   "metadata": {},
   "outputs": [
    {
     "data": {
      "text/plain": [
       "{'wine': 'rioja', 'entree': 'egg', 'dessert': 'pancake'}"
      ]
     },
     "execution_count": 58,
     "metadata": {},
     "output_type": "execute_result"
    }
   ],
   "source": [
    "#키워드 인수\n",
    "#어떤 인수가 어떤 매개변수에 복사될 것인지 지정\n",
    "menu(entree='egg', wine='rioja', dessert='pancake')"
   ]
  },
  {
   "cell_type": "code",
   "execution_count": 59,
   "id": "037bedea-2782-4f8c-bad7-5243288688dd",
   "metadata": {},
   "outputs": [
    {
     "data": {
      "text/plain": [
       "{'wine': 'egg', 'entree': 'rioja', 'dessert': 'pancake'}"
      ]
     },
     "execution_count": 59,
     "metadata": {},
     "output_type": "execute_result"
    }
   ],
   "source": [
    "menu('egg', 'rioja', dessert='pancake') #키워드 인수와 위치 인수를 혼용할 시 키워드 인수는 가장 마지막에 위치해야함. 그렇지 않을 경우 오류 발생"
   ]
  },
  {
   "cell_type": "code",
   "execution_count": 60,
   "id": "d776af66-5089-40de-a309-724174aac89b",
   "metadata": {},
   "outputs": [
    {
     "data": {
      "text/plain": [
       "{'wine': 'rioja', 'entree': 'cake', 'dessert': 'scone'}"
      ]
     },
     "execution_count": 60,
     "metadata": {},
     "output_type": "execute_result"
    }
   ],
   "source": [
    "#디폴트 인수\n",
    "#인수가 없을 경우 미리 설정된 디폴트 값을 적용함\n",
    "#매개변수에 기본값을 정의할 때 해당 변수는 반드시 가장 마지막에 있어야함\n",
    "def menu2(wine, entree, dessert='scone'): #dessert에 값이 없을 경우 기본값인 scone을 적용\n",
    "    return {'wine':wine, 'entree':entree, 'dessert':dessert}\n",
    "\n",
    "menu2('rioja', 'cake')"
   ]
  },
  {
   "cell_type": "code",
   "execution_count": 61,
   "id": "aac6b96c-9a39-44da-bbbe-d60f624dc0a6",
   "metadata": {},
   "outputs": [
    {
     "data": {
      "text/plain": [
       "{'wine': 'rioja', 'entree': 'cake', 'dessert': 'egg'}"
      ]
     },
     "execution_count": 61,
     "metadata": {},
     "output_type": "execute_result"
    }
   ],
   "source": [
    "menu2('rioja', 'cake', 'egg') #값이 있을 때는 해당 값을 적용"
   ]
  },
  {
   "cell_type": "markdown",
   "id": "2c95f6a5-83fc-443a-bd15-98eb77b18683",
   "metadata": {},
   "source": [
    "### 연습\n",
    "- 나이 -> 연도\n",
    "  - def fx():  \n",
    "        입력값 = 나이  \n",
    "        반환값 = 출생년도    \n",
    "  - input 입력받아서 함수 사용해서 출력하기"
   ]
  },
  {
   "cell_type": "code",
   "execution_count": 63,
   "id": "bc02f5f0-fe4f-40f8-8de7-56fef6153a21",
   "metadata": {},
   "outputs": [
    {
     "name": "stdin",
     "output_type": "stream",
     "text": [
      " 21\n"
     ]
    },
    {
     "name": "stdout",
     "output_type": "stream",
     "text": [
      "2002\n"
     ]
    }
   ],
   "source": [
    "def calc_birth_year(age):\n",
    "    this_year = 2022\n",
    "    return this_year + 1 - age\n",
    "\n",
    "age = int(input())\n",
    "print(calc_birth_year(age))"
   ]
  },
  {
   "cell_type": "markdown",
   "id": "9dbd5004-b98c-465a-aac9-54235596a7dd",
   "metadata": {},
   "source": [
    "- 사각형 넓이 구하기\n",
    "  - 입력: 두 변 길이\n",
    "  - 반환: string \"xx cm\""
   ]
  },
  {
   "cell_type": "code",
   "execution_count": 47,
   "id": "4acb49d6-3f2c-477b-8beb-73fb783d121e",
   "metadata": {},
   "outputs": [
    {
     "name": "stdin",
     "output_type": "stream",
     "text": [
      " 3\n",
      " 4\n"
     ]
    },
    {
     "name": "stdout",
     "output_type": "stream",
     "text": [
      "12 cm\n"
     ]
    }
   ],
   "source": [
    "def calc_area(length, width):\n",
    "    return f'{str(length * width)} cm'\n",
    "\n",
    "length = int(input())\n",
    "width = int(input())\n",
    "\n",
    "print(calc_area(length, width))"
   ]
  },
  {
   "cell_type": "markdown",
   "id": "ef2658fa-7070-4548-8ebe-b4ba0eb301f1",
   "metadata": {},
   "source": [
    "### 함수 호출\n",
    "- 함수를 정의하면 메모리에 업로드는 되지만 실행은 되지 않음\n",
    "- 실행은 함수를 호출할 때 수행됨\n",
    "- 값을 넘기는 방식: 참조에 의한 호출(call by reference)\n",
    "- 메모리 주소가 복사되기 때문에 가변객체(ex. list)가 매개변수로 들어갈 때 주의할 것"
   ]
  },
  {
   "cell_type": "code",
   "execution_count": 67,
   "id": "f77e3a5a-ce1b-4920-b3ae-f483ba487d55",
   "metadata": {},
   "outputs": [
    {
     "name": "stdout",
     "output_type": "stream",
     "text": [
      "2\n",
      "3\n",
      "1\n",
      "4\n"
     ]
    }
   ],
   "source": [
    "#함수가 포함된 코드의 실행 순서 2-> 3-> 1-> 4\n",
    "def calc_area(length, width): #정의\n",
    "    print('1')\n",
    "    return length, width\n",
    "\n",
    "print('2')\n",
    "garo = 2\n",
    "sero = 43\n",
    "print('3')\n",
    "calc_area(garo, sero) #호출\n",
    "print('4')"
   ]
  },
  {
   "cell_type": "code",
   "execution_count": 69,
   "id": "d5505f12-27e7-4670-95e7-284dfbafd478",
   "metadata": {},
   "outputs": [
    {
     "name": "stdout",
     "output_type": "stream",
     "text": [
      "['a']\n",
      "['a', 'b']\n"
     ]
    }
   ],
   "source": [
    "def buggy(arg, result=[]):\n",
    "    result.append(arg)\n",
    "    print(result)\n",
    "    \n",
    "buggy('a')\n",
    "buggy('b')\n",
    "#가변객체 list는 함수가 다시 실행되어도 초기화되지 않음"
   ]
  },
  {
   "cell_type": "code",
   "execution_count": 72,
   "id": "3ba616dd-7849-4cf7-b8e2-f142b0af9404",
   "metadata": {},
   "outputs": [
    {
     "name": "stdout",
     "output_type": "stream",
     "text": [
      "['a']\n",
      "['b']\n"
     ]
    }
   ],
   "source": [
    "def buggy2(arg, result=[]):\n",
    "    result = [] #list를 초기화하려면 본격적으로 실행하기 전 비우는 과정이 필요\n",
    "    result.append(arg)\n",
    "    print(result)\n",
    "    \n",
    "buggy2('a')\n",
    "buggy2('b')"
   ]
  },
  {
   "cell_type": "code",
   "execution_count": 74,
   "id": "c01f4e84-cd39-4e14-921c-c039f6862105",
   "metadata": {},
   "outputs": [
    {
     "name": "stdout",
     "output_type": "stream",
     "text": [
      "[2, 3] eggs\n",
      "[0, 1] ham\n"
     ]
    }
   ],
   "source": [
    "#함수 내의 eggs와 외부의 ham은 별개의 변수\n",
    "def spam(eggs):\n",
    "    eggs.append(1)\n",
    "    eggs = [2, 3]\n",
    "    print(eggs, 'eggs')\n",
    "    \n",
    "ham = [0]\n",
    "spam(ham)\n",
    "print(ham, 'ham')"
   ]
  },
  {
   "cell_type": "code",
   "execution_count": 75,
   "id": "4f93f1df-4e4a-4877-892c-1723502092d3",
   "metadata": {},
   "outputs": [
    {
     "name": "stdout",
     "output_type": "stream",
     "text": [
      "a\n"
     ]
    }
   ],
   "source": [
    "#None\n",
    "thing = None\n",
    "if thing is None:\n",
    "    print('a')\n",
    "else:\n",
    "    print('b')"
   ]
  },
  {
   "cell_type": "code",
   "execution_count": 76,
   "id": "ce5464ca-031d-4831-94af-00e98a50582c",
   "metadata": {},
   "outputs": [
    {
     "name": "stdout",
     "output_type": "stream",
     "text": [
      "['a']\n",
      "['b']\n"
     ]
    }
   ],
   "source": [
    "#result가 None 이면 빈 리스트를, 그렇지 않을경우 result를 그대로 사용하는 함수\n",
    "def nunbuggy(arg, result=None):\n",
    "    if result is None:\n",
    "        result = []\n",
    "    result.append(arg)\n",
    "    print(result)\n",
    "\n",
    "#쌓이게 하고 싶으면 list 정의\n",
    "#lista = []\n",
    "nunbuggy('a')\n",
    "nunbuggy('b')"
   ]
  },
  {
   "cell_type": "markdown",
   "id": "88870d8e-f55f-4694-93c0-f80ddd820ff8",
   "metadata": {},
   "source": [
    "### 전역변수 지역변수\n",
    "- 지역변수: 함수 내에서만 사용 가능\n",
    "- 전역변수: 프로그램 전체에서 사용 가능"
   ]
  },
  {
   "cell_type": "code",
   "execution_count": 80,
   "id": "5d357fd3-7f28-43cd-8480-78240c4b952e",
   "metadata": {},
   "outputs": [
    {
     "name": "stdout",
     "output_type": "stream",
     "text": [
      "in london\n",
      "out paris\n"
     ]
    }
   ],
   "source": [
    "def fx():\n",
    "    city = 'london' #지역변수이기 때문에 함수 밖에서 사용 불가\n",
    "    print('in', city)\n",
    "\n",
    "city = 'paris'\n",
    "fx()\n",
    "print('out', city)"
   ]
  },
  {
   "cell_type": "code",
   "execution_count": 83,
   "id": "5c4e5335-8e0b-4718-b7f0-b22e5a36c7cb",
   "metadata": {},
   "outputs": [
    {
     "name": "stdout",
     "output_type": "stream",
     "text": [
      "in london\n",
      "out london\n"
     ]
    }
   ],
   "source": [
    "def fx2():\n",
    "    global city #city를 전역변수로 선언해주면 프로그램 전체에서 사용 가능\n",
    "    city = 'london'\n",
    "    print('in', city)\n",
    "\n",
    "city = 'paris'\n",
    "fx2()\n",
    "print('out', city)"
   ]
  },
  {
   "cell_type": "code",
   "execution_count": 82,
   "id": "5260c9e9-5805-46b9-a05b-768a47c8170b",
   "metadata": {},
   "outputs": [
    {
     "name": "stdout",
     "output_type": "stream",
     "text": [
      "london\n",
      "london\n"
     ]
    }
   ],
   "source": [
    "#docstring\n",
    "def fx3():\n",
    "    '''\n",
    "    doc string: 함수에 대한 설명\n",
    "    매개변수에 대한 설명, 타입, 함수의 의도\n",
    "    '''\n",
    "    global city\n",
    "    city = 'london'\n",
    "    print(city)\n",
    "\n",
    "city = 'paris'\n",
    "fx3()\n",
    "print(city)"
   ]
  },
  {
   "cell_type": "code",
   "execution_count": 85,
   "id": "365c9198-4fdf-4bb6-8405-3f423eb54e75",
   "metadata": {},
   "outputs": [
    {
     "name": "stdout",
     "output_type": "stream",
     "text": [
      "Help on function fx3 in module __main__:\n",
      "\n",
      "fx3()\n",
      "    doc string: 함수에 대한 설명\n",
      "    매개변수에 대한 설명, 타입, 함수의 의도\n",
      "\n"
     ]
    }
   ],
   "source": [
    "#docstring 확인\n",
    "#help(<함수명>)\n",
    "help(fx3)"
   ]
  },
  {
   "cell_type": "code",
   "execution_count": 91,
   "id": "6bbc5bb1-fee4-4816-a038-9b42cfeb951c",
   "metadata": {},
   "outputs": [
    {
     "data": {
      "text/plain": [
       "'\\n    doc string: 함수에 대한 설명\\n    매개변수에 대한 설명, 타입, 함수의 의도\\n    '"
      ]
     },
     "execution_count": 91,
     "metadata": {},
     "output_type": "execute_result"
    }
   ],
   "source": [
    "#docstring이 문자열로 반환됨(변수에 저장할 수 있음)\n",
    "fx3.__doc__"
   ]
  },
  {
   "cell_type": "code",
   "execution_count": null,
   "id": "883cdc6b-3374-4b48-8f7e-6bcdb57a902f",
   "metadata": {},
   "outputs": [],
   "source": []
  }
 ],
 "metadata": {
  "kernelspec": {
   "display_name": "Python 3 (ipykernel)",
   "language": "python",
   "name": "python3"
  },
  "language_info": {
   "codemirror_mode": {
    "name": "ipython",
    "version": 3
   },
   "file_extension": ".py",
   "mimetype": "text/x-python",
   "name": "python",
   "nbconvert_exporter": "python",
   "pygments_lexer": "ipython3",
   "version": "3.9.7"
  }
 },
 "nbformat": 4,
 "nbformat_minor": 5
}
