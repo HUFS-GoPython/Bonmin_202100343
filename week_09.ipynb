{
 "cells": [
  {
   "cell_type": "markdown",
   "id": "c7362562-0e0c-4d0f-aab8-d98f81bffadf",
   "metadata": {},
   "source": [
    "# week_09"
   ]
  },
  {
   "cell_type": "markdown",
   "id": "86e796cc-8c17-4105-b4e6-307066fbbf09",
   "metadata": {},
   "source": [
    "## Ch.08 - Dictionary"
   ]
  },
  {
   "cell_type": "markdown",
   "id": "abae70ec-b0e0-4e6f-b829-2068976d69d1",
   "metadata": {},
   "source": [
    "### DIctionary\n",
    "- 키(key) : 값(value)의 형태로 구성(영어사전의 단어 : 뜻과 유사)\n",
    "- 키, 값을 통해 정보를 탐색\n",
    "- 키, 값은 고유해야함\n",
    "- 순서가 없음 == offset 없음\n",
    "- 가변 객체(수정, 추가, 삭제 가능)\n",
    "- dict, dict()로 타입변환\n",
    "- {key1: value1, k2 : v2, ...}의 형태로 생성\n",
    "- value에는 리스트, 튜플, 딕셔너리도 들어갈 수 있음"
   ]
  },
  {
   "cell_type": "code",
   "execution_count": 1,
   "id": "aa94c06e-2b3c-4388-9c3e-1c77d7503757",
   "metadata": {},
   "outputs": [
    {
     "data": {
      "text/plain": [
       "{}"
      ]
     },
     "execution_count": 1,
     "metadata": {},
     "output_type": "execute_result"
    }
   ],
   "source": [
    "#빈 딕셔너리 생성\n",
    "empty = dict()\n",
    "empty = {}\n",
    "empty"
   ]
  },
  {
   "cell_type": "code",
   "execution_count": 2,
   "id": "606289e5-8e71-486c-be3b-0156b9a97750",
   "metadata": {},
   "outputs": [
    {
     "data": {
      "text/plain": [
       "set()"
      ]
     },
     "execution_count": 2,
     "metadata": {},
     "output_type": "execute_result"
    }
   ],
   "source": [
    "a = [1, 2, 3]\n",
    "set(a)\n",
    "a = {}\n",
    "a = set()\n",
    "a"
   ]
  },
  {
   "cell_type": "markdown",
   "id": "8a6c0b27-2e4d-4632-a942-096ff42f9ae0",
   "metadata": {},
   "source": [
    "#### ex 출석부 딕셔너리 만들기\n",
    "- 이름, 학번, 학과\n",
    "- 제임스 202201 경영학과\n",
    "- 줄리엣 202202 아랍어과\n",
    "- 로버트 202203 ELLT과"
   ]
  },
  {
   "cell_type": "code",
   "execution_count": 3,
   "id": "ea75874b-c234-4479-b354-a0963690aa64",
   "metadata": {},
   "outputs": [
    {
     "data": {
      "text/plain": [
       "{202201: ('제임스', '경영학과'), 202202: ('제임스', '경영학과'), 202203: ('제임스', '경영학과')}"
      ]
     },
     "execution_count": 3,
     "metadata": {},
     "output_type": "execute_result"
    }
   ],
   "source": [
    "#이름이나 학과보다는 중복되지 않는 학번을 key값으로 설정하는 것이 좋음\n",
    "attendance = {202201: ('제임스', '경영학과'), 202202: ('제임스', '경영학과'), 202203: ('제임스', '경영학과')}\n",
    "attendance"
   ]
  },
  {
   "cell_type": "code",
   "execution_count": 4,
   "id": "61b09d7e-075a-41dc-851b-d2002bcc2493",
   "metadata": {},
   "outputs": [
    {
     "data": {
      "text/plain": [
       "{1: 2, 3: 4, 5: 6}"
      ]
     },
     "execution_count": 4,
     "metadata": {},
     "output_type": "execute_result"
    }
   ],
   "source": [
    "#dict()\n",
    "#이중 리스트 -> 딕셔너리\n",
    "ex1 = [[1, 2], [3, 4], [5, 6]]\n",
    "dict(ex1)"
   ]
  },
  {
   "cell_type": "code",
   "execution_count": 5,
   "id": "77de02d0-b6d6-405f-adb0-50867293277f",
   "metadata": {},
   "outputs": [
    {
     "data": {
      "text/plain": [
       "{1: 2, 3: 4, 5: 6}"
      ]
     },
     "execution_count": 5,
     "metadata": {},
     "output_type": "execute_result"
    }
   ],
   "source": [
    "#튜플 =-> 딕셔너리\n",
    "ex2 = [(1, 2), (3, 4), (5, 6)]\n",
    "dict(ex2)"
   ]
  },
  {
   "cell_type": "code",
   "execution_count": 6,
   "id": "e83db3cc-dccf-4a52-9e84-2f92b7791e1c",
   "metadata": {},
   "outputs": [
    {
     "data": {
      "text/plain": [
       "{'a': 'b', 'b': 'c', 'c': 'd'}"
      ]
     },
     "execution_count": 6,
     "metadata": {},
     "output_type": "execute_result"
    }
   ],
   "source": [
    "# 문자열(2글자) -> 딕셔너리\n",
    "ex3 = ['ab', 'bc', 'cd']\n",
    "dict(ex3) #['andd', 'bcdd', 'cddd']는 불가"
   ]
  },
  {
   "cell_type": "code",
   "execution_count": 7,
   "id": "538f25cf-e28f-4f88-9c65-2676979293b6",
   "metadata": {},
   "outputs": [
    {
     "data": {
      "text/plain": [
       "{1: 5, 3: 4}"
      ]
     },
     "execution_count": 7,
     "metadata": {},
     "output_type": "execute_result"
    }
   ],
   "source": [
    "# 중복된 키(1)가 있을 경우 가장 마지막 value(5)로 출력됨\n",
    "ex2 = [(1, 2), (3, 4), (1, 5)]\n",
    "dict(ex2)"
   ]
  },
  {
   "cell_type": "markdown",
   "id": "1f8f534f-d0c8-4015-90c3-871e46a0e713",
   "metadata": {},
   "source": [
    "### 항목 조회 & 변경\n",
    "- 키로 항목을 찾아 값을 할당한다.\n",
    "- 이미 존재하는 키이면 값을 변경한다.\n",
    "- 키가 없으면 새로 생성한다."
   ]
  },
  {
   "cell_type": "code",
   "execution_count": 8,
   "id": "542c8784-c242-448b-a98b-d84fc9470116",
   "metadata": {},
   "outputs": [],
   "source": [
    "pythons = {\n",
    "    'Champman' : 'Graham',\n",
    "    'Cleese' : 'John',\n",
    "    'Idle' : 'Eric',\n",
    "    'Jones' : 'Terry',\n",
    "    'Palin' : 'Michael'\n",
    "}"
   ]
  },
  {
   "cell_type": "code",
   "execution_count": 9,
   "id": "2d60a1f7-3ecb-4870-82b4-283941c8f5b5",
   "metadata": {},
   "outputs": [
    {
     "data": {
      "text/plain": [
       "'Eric'"
      ]
     },
     "execution_count": 9,
     "metadata": {},
     "output_type": "execute_result"
    }
   ],
   "source": [
    "#key로 항목 찾기(value값 반환)\n",
    "pythons['Idle']"
   ]
  },
  {
   "cell_type": "code",
   "execution_count": 10,
   "id": "77234998-2786-4041-a0dc-0f85a1f8e54f",
   "metadata": {},
   "outputs": [],
   "source": [
    "#key로 항목을 찾아 값을 할당(변경)\n",
    "pythons['Palin'] = 'Josh'"
   ]
  },
  {
   "cell_type": "code",
   "execution_count": 11,
   "id": "647879e0-73a6-4b6a-9d6c-7a815e2456ad",
   "metadata": {},
   "outputs": [],
   "source": [
    "#새로운 key:value 쌍 생성\n",
    "pythons['Kim'] = 'Laura'"
   ]
  },
  {
   "cell_type": "code",
   "execution_count": 12,
   "id": "39a0a57d-3226-43f1-99e8-be525a64c5ad",
   "metadata": {},
   "outputs": [
    {
     "data": {
      "text/plain": [
       "True"
      ]
     },
     "execution_count": 12,
     "metadata": {},
     "output_type": "execute_result"
    }
   ],
   "source": [
    "#key가 존재하는지 확인\n",
    "#in을 사용\n",
    "'Kim' in pythons"
   ]
  },
  {
   "cell_type": "code",
   "execution_count": 13,
   "id": "8835feda-6fe1-4f58-bceb-35b0db1c3f58",
   "metadata": {},
   "outputs": [
    {
     "data": {
      "text/plain": [
       "False"
      ]
     },
     "execution_count": 13,
     "metadata": {},
     "output_type": "execute_result"
    }
   ],
   "source": [
    "#value는 확인되지 않음\n",
    "'Laura' in pythons"
   ]
  },
  {
   "cell_type": "code",
   "execution_count": 14,
   "id": "3dd00bee-45a0-4506-8598-1fc26ef60733",
   "metadata": {},
   "outputs": [
    {
     "name": "stdout",
     "output_type": "stream",
     "text": [
      "Laura\n",
      "None\n"
     ]
    }
   ],
   "source": [
    "#get()\n",
    "#key가 있을 경우 value를, 없을 경우 None을 반환하는 함수\n",
    "print(pythons.get('Kim')) # value 반환\n",
    "print(pythons.get('Lee')) # None 반환"
   ]
  },
  {
   "cell_type": "code",
   "execution_count": 15,
   "id": "63477b88-bf21-4adb-af44-7f804ea413e3",
   "metadata": {},
   "outputs": [
    {
     "data": {
      "text/plain": [
       "0"
      ]
     },
     "execution_count": 15,
     "metadata": {},
     "output_type": "execute_result"
    }
   ],
   "source": [
    "pythons.get('Choi', 0) #key가 없을 때의 반환값을 지정할 수 있음, 이 경우 0반환"
   ]
  },
  {
   "cell_type": "markdown",
   "id": "2b8a1675-4761-41d4-a120-f0583c282738",
   "metadata": {},
   "source": [
    "### keys(), values(), items()\n",
    "- .keys(): 딕셔너리의 모든 key를 반환\n",
    "- .values(): 딕셔너리의 모든 value를 반환\n",
    "- .items(): 딕셔너리의 모든 key, value 쌍을 반환"
   ]
  },
  {
   "cell_type": "code",
   "execution_count": 16,
   "id": "feb6af3d-659f-4adc-9b08-b8231ce7df5f",
   "metadata": {},
   "outputs": [
    {
     "data": {
      "text/plain": [
       "dict_keys(['Champman', 'Cleese', 'Idle', 'Jones', 'Palin', 'Kim'])"
      ]
     },
     "execution_count": 16,
     "metadata": {},
     "output_type": "execute_result"
    }
   ],
   "source": [
    "#key()\n",
    "pythons.keys()"
   ]
  },
  {
   "cell_type": "code",
   "execution_count": 17,
   "id": "8d56ed76-8f1e-4bf3-a54f-fcf56da0d0c9",
   "metadata": {},
   "outputs": [
    {
     "data": {
      "text/plain": [
       "dict_values(['Graham', 'John', 'Eric', 'Terry', 'Josh', 'Laura'])"
      ]
     },
     "execution_count": 17,
     "metadata": {},
     "output_type": "execute_result"
    }
   ],
   "source": [
    "#value()\n",
    "pythons.values()"
   ]
  },
  {
   "cell_type": "code",
   "execution_count": 18,
   "id": "a407fc15-b644-4792-a99c-0c6e20cf3669",
   "metadata": {},
   "outputs": [
    {
     "data": {
      "text/plain": [
       "dict_items([('Champman', 'Graham'), ('Cleese', 'John'), ('Idle', 'Eric'), ('Jones', 'Terry'), ('Palin', 'Josh'), ('Kim', 'Laura')])"
      ]
     },
     "execution_count": 18,
     "metadata": {},
     "output_type": "execute_result"
    }
   ],
   "source": [
    "#items()\n",
    "#순회할 때 자주 사용\n",
    "pythons.items()"
   ]
  },
  {
   "cell_type": "code",
   "execution_count": 19,
   "id": "4ca46709-c6cb-40e9-8933-434e080451cf",
   "metadata": {},
   "outputs": [
    {
     "data": {
      "text/plain": [
       "dict_keys"
      ]
     },
     "execution_count": 19,
     "metadata": {},
     "output_type": "execute_result"
    }
   ],
   "source": [
    "#리스트와 유사해보이지만 리스트는 아님\n",
    "#리스트로 형 변환 가능\n",
    "#형 변환하지 않아도 순회 가능\n",
    "type(pythons.keys()) "
   ]
  },
  {
   "cell_type": "code",
   "execution_count": 20,
   "id": "c749040d-15cf-4438-90ba-cc9355c68b34",
   "metadata": {},
   "outputs": [
    {
     "data": {
      "text/plain": [
       "['Champman', 'Cleese', 'Idle', 'Jones', 'Palin', 'Kim']"
      ]
     },
     "execution_count": 20,
     "metadata": {},
     "output_type": "execute_result"
    }
   ],
   "source": [
    "[x[0] for x in pythons.items()] #key값을 추출하는 리스트 컴프리헨션"
   ]
  },
  {
   "cell_type": "code",
   "execution_count": 21,
   "id": "623aca4b-2bbd-4c15-bf2d-e7186d483a29",
   "metadata": {},
   "outputs": [
    {
     "data": {
      "text/plain": [
       "['Graham', 'John', 'Eric', 'Terry', 'Josh', 'Laura']"
      ]
     },
     "execution_count": 21,
     "metadata": {},
     "output_type": "execute_result"
    }
   ],
   "source": [
    "[x[1] for x in pythons.items()] #value값을 추출하는 리스트 컴프리헨션"
   ]
  },
  {
   "cell_type": "code",
   "execution_count": 22,
   "id": "3af1e350-c209-446a-bccf-40a2e4a149cf",
   "metadata": {},
   "outputs": [],
   "source": [
    "#Quiz1. for loop으로 animal과 leg 쌍을 이어 딕셔너리 만들기\n",
    "animal = 'cat snake monkey ant spider'.split()\n",
    "leg = 4, 0, 2, 4, 8"
   ]
  },
  {
   "cell_type": "code",
   "execution_count": 23,
   "id": "c5aecd31-17e4-4ce8-9d5f-c7a217adcd29",
   "metadata": {},
   "outputs": [
    {
     "data": {
      "text/plain": [
       "{'cat': 4, 'snake': 0, 'monkey': 2, 'ant': 4, 'spider': 8}"
      ]
     },
     "execution_count": 23,
     "metadata": {},
     "output_type": "execute_result"
    }
   ],
   "source": [
    "animal_legs = {}\n",
    "for k, v in zip(animal, leg):\n",
    "    animal_legs[k] = v\n",
    "\n",
    "animal_legs"
   ]
  },
  {
   "cell_type": "code",
   "execution_count": 24,
   "id": "b5c8f01c-5efc-4f3a-a7b2-b57c5db6b312",
   "metadata": {},
   "outputs": [
    {
     "data": {
      "text/plain": [
       "[('Champman', 6),\n",
       " ('Cleese', 4),\n",
       " ('Idle', 4),\n",
       " ('Jones', 5),\n",
       " ('Palin', 4),\n",
       " ('Kim', 5)]"
      ]
     },
     "execution_count": 24,
     "metadata": {},
     "output_type": "execute_result"
    }
   ],
   "source": [
    "#2.Quiz2. pythons에서 성 이름 ==> 리스트 컴프리헨션 [(성 앞글자, 이름의 글자 수)]\n",
    "[(key, len(value)) for key, value in pythons.items()]"
   ]
  },
  {
   "cell_type": "markdown",
   "id": "93bddf33-29ae-46d4-93fd-3cf6d5623a29",
   "metadata": {},
   "source": [
    "### 값 수정, 삭제, 복제"
   ]
  },
  {
   "cell_type": "code",
   "execution_count": 25,
   "id": "97c8f8b1-d845-4716-9fba-dbea60610aca",
   "metadata": {},
   "outputs": [],
   "source": [
    "others = {\n",
    "    'Marx': 'Graucho',\n",
    "    'Howard': 'Moe'\n",
    "} #새로 추가할 key, value"
   ]
  },
  {
   "cell_type": "code",
   "execution_count": 26,
   "id": "2d36ddbd-525b-40e0-8028-b4a31e98f1eb",
   "metadata": {},
   "outputs": [
    {
     "data": {
      "text/plain": [
       "{'Champman': 'Graham',\n",
       " 'Cleese': 'John',\n",
       " 'Idle': 'Eric',\n",
       " 'Jones': 'Terry',\n",
       " 'Palin': 'Josh',\n",
       " 'Kim': 'Laura',\n",
       " 'Marx': 'Graucho',\n",
       " 'Howard': 'Moe'}"
      ]
     },
     "execution_count": 26,
     "metadata": {},
     "output_type": "execute_result"
    }
   ],
   "source": [
    "#update()\n",
    "#딕셔너리를 다른 딕셔너리에 병합하는 함수\n",
    "pythons.update(others)\n",
    "pythons"
   ]
  },
  {
   "cell_type": "code",
   "execution_count": 27,
   "id": "6978968d-9cf7-427d-8dc0-6195c02d1ce6",
   "metadata": {},
   "outputs": [
    {
     "data": {
      "text/plain": [
       "{'Marx': 'Graucho',\n",
       " 'Howard': 'Moe',\n",
       " 'Champman': 'Graham',\n",
       " 'Cleese': 'John',\n",
       " 'Idle': 'Eric',\n",
       " 'Jones': 'Terry',\n",
       " 'Palin': 'Josh',\n",
       " 'Kim': 'Laura'}"
      ]
     },
     "execution_count": 27,
     "metadata": {},
     "output_type": "execute_result"
    }
   ],
   "source": [
    "#다른 방법(python3부터 가능)\n",
    "{**others, **pythons}"
   ]
  },
  {
   "cell_type": "code",
   "execution_count": 28,
   "id": "834777c1-f8a3-4203-a547-816063a3fdab",
   "metadata": {},
   "outputs": [
    {
     "data": {
      "text/plain": [
       "{'Champman': 'Graham',\n",
       " 'Cleese': 'John',\n",
       " 'Idle': 'Eric',\n",
       " 'Jones': 'Terry',\n",
       " 'Palin': 'Josh',\n",
       " 'Marx': 'Graucho',\n",
       " 'Howard': 'Moe'}"
      ]
     },
     "execution_count": 28,
     "metadata": {},
     "output_type": "execute_result"
    }
   ],
   "source": [
    "#값 삭제\n",
    "#1. del\n",
    "#key를 입력하면 해당 key: value쌍을 제거\n",
    "del pythons['Kim']\n",
    "pythons"
   ]
  },
  {
   "cell_type": "code",
   "execution_count": 29,
   "id": "bb7b8846-fbff-4e5e-80a6-9939ecd28434",
   "metadata": {},
   "outputs": [
    {
     "data": {
      "text/plain": [
       "'Graucho'"
      ]
     },
     "execution_count": 29,
     "metadata": {},
     "output_type": "execute_result"
    }
   ],
   "source": [
    "#2. pop()\n",
    "#get과 유사하게 작동\n",
    "\n",
    "pythons.pop('Marx') #Marx의 value를 반환하고 삭제\n",
    "#pythons.pop('Marx', 0) # 이 경우 0을 반환"
   ]
  },
  {
   "cell_type": "code",
   "execution_count": 30,
   "id": "b57db0c3-734e-4292-b117-6a6a308b7a36",
   "metadata": {},
   "outputs": [
    {
     "data": {
      "text/plain": [
       "{'Champman': 'Graham',\n",
       " 'Cleese': 'John',\n",
       " 'Idle': 'Eric',\n",
       " 'Jones': 'Terry',\n",
       " 'Palin': 'Josh',\n",
       " 'Howard': 'Moe'}"
      ]
     },
     "execution_count": 30,
     "metadata": {},
     "output_type": "execute_result"
    }
   ],
   "source": [
    "pythons"
   ]
  },
  {
   "cell_type": "code",
   "execution_count": 31,
   "id": "7ff4b249-401a-43ad-9153-5faf96638fe2",
   "metadata": {},
   "outputs": [],
   "source": [
    "#clear()\n",
    "#모든 값을 삭제\n",
    "pythons.clear() #초기화 pythons = {}와 동일"
   ]
  },
  {
   "cell_type": "code",
   "execution_count": 32,
   "id": "b4c52fd8-5fa8-42d0-939c-b222c5509c57",
   "metadata": {},
   "outputs": [
    {
     "data": {
      "text/plain": [
       "({1: 10, 2: 3, 3: 4}, {1: 10, 2: 3, 3: 4})"
      ]
     },
     "execution_count": 32,
     "metadata": {},
     "output_type": "execute_result"
    }
   ],
   "source": [
    "#값 복제\n",
    "#1. 할당\n",
    "#같은 메모리 주소를 참조하기 때문에 한 변수에서 값이 변하면 다른 변수의 값도 변함\n",
    "a = {1:2, 2:3, 3:4}\n",
    "b = a\n",
    "a[1] = 10\n",
    "a, b"
   ]
  },
  {
   "cell_type": "code",
   "execution_count": 33,
   "id": "64cb76cb-14b1-4f54-a8f2-07b3d9669782",
   "metadata": {},
   "outputs": [
    {
     "data": {
      "text/plain": [
       "({1: 100, 2: 3, 3: 4}, {1: 10, 2: 3, 3: 4})"
      ]
     },
     "execution_count": 33,
     "metadata": {},
     "output_type": "execute_result"
    }
   ],
   "source": [
    "#2. 얕은 복사\n",
    "#copy()\n",
    "#copy()를 사용하면 두 딕셔너리의 항목들이 서로 영향을 받지 않음\n",
    "b = a.copy()\n",
    "a[1] = 100\n",
    "a, b"
   ]
  },
  {
   "cell_type": "code",
   "execution_count": 34,
   "id": "d473cb64-7e99-4687-b75d-08482a464021",
   "metadata": {},
   "outputs": [
    {
     "data": {
      "text/plain": [
       "({1: [100, 2, 2], 2: [1, 1, 1]}, {1: [100, 2, 2], 2: [1, 1, 1]})"
      ]
     },
     "execution_count": 34,
     "metadata": {},
     "output_type": "execute_result"
    }
   ],
   "source": [
    "#그러나 딕셔너리 내부의 가변객체(리스트)는 여전히 서로 영향을 받음\n",
    "a = {1:[2, 2, 2], 2:[1,1,1]}\n",
    "b = a.copy()\n",
    "a[1][0] = 100\n",
    "a, b #"
   ]
  },
  {
   "cell_type": "code",
   "execution_count": 35,
   "id": "bfd32085-05a2-4724-8a0a-b8bef45ceb69",
   "metadata": {},
   "outputs": [
    {
     "data": {
      "text/plain": [
       "({1: [9, 2, 2], 2: [1, 1, 1]}, {1: [100, 2, 2], 2: [1, 1, 1]})"
      ]
     },
     "execution_count": 35,
     "metadata": {},
     "output_type": "execute_result"
    }
   ],
   "source": [
    "#3. 깊은 복사\n",
    "#deepcopy()\n",
    "#deepcopy()를 사용하면 두 딕셔너리 내부의 가변객체도 서로 영향을 받지 않게 됨\n",
    "import copy\n",
    "b = copy.deepcopy(a)\n",
    "a[1][0] = 9\n",
    "a, b"
   ]
  },
  {
   "cell_type": "code",
   "execution_count": 36,
   "id": "0b4d4e9a-a808-4298-9569-950b2834c2ff",
   "metadata": {},
   "outputs": [
    {
     "name": "stdout",
     "output_type": "stream",
     "text": [
      "False\n",
      "True\n"
     ]
    }
   ],
   "source": [
    "#값의 비교는 같고(==) 다름(!=)만 비교 가능\n",
    "print(a == b)\n",
    "print(a != b)"
   ]
  },
  {
   "cell_type": "code",
   "execution_count": 37,
   "id": "5ddd8404-3362-4bec-9955-8c00434f10ee",
   "metadata": {},
   "outputs": [
    {
     "ename": "TypeError",
     "evalue": "'>' not supported between instances of 'dict' and 'dict'",
     "output_type": "error",
     "traceback": [
      "\u001b[1;31m---------------------------------------------------------------------------\u001b[0m",
      "\u001b[1;31mTypeError\u001b[0m                                 Traceback (most recent call last)",
      "\u001b[1;32m~\\AppData\\Local\\Temp/ipykernel_17388/4062712769.py\u001b[0m in \u001b[0;36m<module>\u001b[1;34m\u001b[0m\n\u001b[0;32m      1\u001b[0m \u001b[1;31m#다른 연산자를 사용 시 오류 발생\u001b[0m\u001b[1;33m\u001b[0m\u001b[1;33m\u001b[0m\u001b[0m\n\u001b[1;32m----> 2\u001b[1;33m \u001b[0ma\u001b[0m \u001b[1;33m>\u001b[0m \u001b[0mb\u001b[0m\u001b[1;33m\u001b[0m\u001b[1;33m\u001b[0m\u001b[0m\n\u001b[0m",
      "\u001b[1;31mTypeError\u001b[0m: '>' not supported between instances of 'dict' and 'dict'"
     ]
    }
   ],
   "source": [
    "#다른 연산자를 사용 시 오류 발생\n",
    "a > b"
   ]
  },
  {
   "cell_type": "markdown",
   "id": "bfd5b16c-88ff-4600-9c0c-95ec727e3950",
   "metadata": {},
   "source": [
    "### ex\n",
    "- 두 개의 리스트\n",
    "- 명왕성: pluto 추가하기\n",
    "- '성'으로 끝나지 않는 단어 삭제\n",
    "  del sdict['태양'] 하드코딩 x\n",
    "- sorted kor eng"
   ]
  },
  {
   "cell_type": "code",
   "execution_count": 38,
   "id": "9adf3862-d001-492a-89bd-c96c18eff230",
   "metadata": {},
   "outputs": [
    {
     "data": {
      "text/plain": [
       "{'수성': 'mercury',\n",
       " '금성': 'venus',\n",
       " '화성': 'mars',\n",
       " '목성': 'jupiter',\n",
       " '토성': 'saturn',\n",
       " '천왕성': 'uranus',\n",
       " '해왕성': 'neptune',\n",
       " '명왕성': 'pluto'}"
      ]
     },
     "execution_count": 38,
     "metadata": {},
     "output_type": "execute_result"
    }
   ],
   "source": [
    "solar_kor = '태양 수성 금성 지구 화성 목성 토성 천왕성 해왕성'.split()\n",
    "solar_eng = 'sun mercury venus earth mars jupiter saturn uranus neptune'.split()\n",
    "\n",
    "solar = {}\n",
    "for k, v in zip(solar_kor, solar_eng):\n",
    "    solar[k] = v\n",
    "\n",
    "solar['명왕성'] = 'pluto'\n",
    "\n",
    "solar = {k:v for k, v in solar.items() if k.endswith('성')}\n",
    "solar"
   ]
  },
  {
   "cell_type": "code",
   "execution_count": 39,
   "id": "2fd8ed0a-9a79-4530-be5f-3a54f26edbb2",
   "metadata": {},
   "outputs": [
    {
     "data": {
      "text/plain": [
       "([('금성', 'venus'),\n",
       "  ('명왕성', 'pluto'),\n",
       "  ('목성', 'jupiter'),\n",
       "  ('수성', 'mercury'),\n",
       "  ('천왕성', 'uranus'),\n",
       "  ('토성', 'saturn'),\n",
       "  ('해왕성', 'neptune'),\n",
       "  ('화성', 'mars')],\n",
       " [('목성', 'jupiter'),\n",
       "  ('화성', 'mars'),\n",
       "  ('수성', 'mercury'),\n",
       "  ('해왕성', 'neptune'),\n",
       "  ('명왕성', 'pluto'),\n",
       "  ('토성', 'saturn'),\n",
       "  ('천왕성', 'uranus'),\n",
       "  ('금성', 'venus')])"
      ]
     },
     "execution_count": 39,
     "metadata": {},
     "output_type": "execute_result"
    }
   ],
   "source": [
    "#sorted\n",
    "solar_kor = '태양 수성 금성 지구 화성 목성 토성 천왕성 해왕성'.split()\n",
    "solar_eng = 'sun mercury venus earth mars jupiter saturn uranus neptune'.split()\n",
    "\n",
    "solar = {}\n",
    "for k, v in zip(solar_kor, solar_eng):\n",
    "    solar[k] = v\n",
    "\n",
    "solar['명왕성'] = 'pluto'\n",
    "\n",
    "solar = {k:v for k, v in solar.items() if k.endswith('성')}\n",
    "\n",
    "kor_sorted = sorted(solar.items()) #한글(key)기준 정렬\n",
    "eng_sorted = sorted(solar.items(), key=lambda x: x[1]) #영어(value)기준 정렬\n",
    "kor_sorted, eng_sorted"
   ]
  },
  {
   "cell_type": "markdown",
   "id": "a360026f-d3bb-4f45-9d3a-a3f2bb01dd6b",
   "metadata": {},
   "source": [
    "- 보충설명\n",
    "  - 익명함수 lambda: 굳이 이름을 지정할 필요가 없거나 일회성으로 함수를 쓰려고 할 때 사용\n",
    "  - sorted에 key값을 설정할경우 key를 기준으로 정렬됨"
   ]
  },
  {
   "cell_type": "markdown",
   "id": "837f18c5-00fc-4824-9edc-6618d336094a",
   "metadata": {},
   "source": [
    "### 딕셔너리 컴프리헨션\n",
    "- 리스트 컴프리헨션과 거의 동일\n",
    "- 대괄호([]) -> 중괄호({})\n",
    "- 값은 key: value 형태로"
   ]
  },
  {
   "cell_type": "code",
   "execution_count": 40,
   "id": "b0a6f9e0-46d5-4cf4-baf4-0f3f0dfd891c",
   "metadata": {},
   "outputs": [
    {
     "data": {
      "text/plain": [
       "{'p': 2, 'a': 1, 'l': 1, 'e': 1}"
      ]
     },
     "execution_count": 40,
     "metadata": {},
     "output_type": "execute_result"
    }
   ],
   "source": [
    "letter = 'apple'\n",
    "\n",
    "{ch: letter.count(ch) for ch in set(letter)}"
   ]
  },
  {
   "cell_type": "code",
   "execution_count": 41,
   "id": "33564c6c-79f6-4ea5-9f58-64a5e4ad94cb",
   "metadata": {},
   "outputs": [
    {
     "data": {
      "text/plain": [
       "({'a': 2, 'e': 1, 'i': 1, 'o': 4, 'u': 0}, {'a': 2, 'o': 4, 'e': 1, 'i': 1})"
      ]
     },
     "execution_count": 41,
     "metadata": {},
     "output_type": "execute_result"
    }
   ],
   "source": [
    "vowels = 'aeiou'\n",
    "word = 'onomatopoeia'\n",
    "\n",
    "op1 = {v: word.count(v) for v in vowels} #1. vowels를 순회하는 방법\n",
    "op2 = {ch : word.count(ch) for ch in set(word) if ch in vowels} #2. word를 순회하는 방법\n",
    "\n",
    "op1, op2"
   ]
  },
  {
   "cell_type": "code",
   "execution_count": 43,
   "id": "c61b509b-badf-497e-bbc3-400f8f795bcd",
   "metadata": {},
   "outputs": [
    {
     "data": {
      "text/plain": [
       "{'a': 2, 'e': 1, 'i': 1, 'o': 4, 'u': 0}"
      ]
     },
     "execution_count": 43,
     "metadata": {},
     "output_type": "execute_result"
    }
   ],
   "source": [
    "#word를 순회하면서 1번과 동일하게 u를 포함시키기\n",
    "op3 = {ch : word.count(ch) for ch in set(word) and vowels}\n",
    "op3"
   ]
  },
  {
   "cell_type": "markdown",
   "id": "7765611d-1236-4034-97cc-5ccbd1fd4f07",
   "metadata": {},
   "source": [
    "## Set\n",
    "- 딕셔너리의 키만 모아놓은 형태(중복이 없음)\n",
    "- 수학의 집합 개념 ==> 교집합, 합집합, 차집합, ... 등의 연산이 가능\n",
    "- 데이터 자루와 같음\n",
    "  - 순서가 없고 인덱싱이 불가능함"
   ]
  },
  {
   "cell_type": "code",
   "execution_count": 44,
   "id": "609aed42-59a7-4a67-bea9-8aeffa232103",
   "metadata": {},
   "outputs": [
    {
     "data": {
      "text/plain": [
       "(set(), {}, dict)"
      ]
     },
     "execution_count": 44,
     "metadata": {},
     "output_type": "execute_result"
    }
   ],
   "source": [
    "#빈 set 선언\n",
    "empty1 = set()\n",
    "empty2 = {} #set도 중괄호를 사용하지만 중괄호로만 선언하면 딕셔너리로 취급됨을 주의\n",
    "empty1, empty2, type(empty2)"
   ]
  },
  {
   "cell_type": "code",
   "execution_count": 45,
   "id": "84582817-92a7-4db6-94f3-eb6d1880113c",
   "metadata": {},
   "outputs": [
    {
     "data": {
      "text/plain": [
       "set"
      ]
     },
     "execution_count": 45,
     "metadata": {},
     "output_type": "execute_result"
    }
   ],
   "source": [
    "a = {1, 2, 3} #쌍이 없는 중괄호는 set으로 인식\n",
    "type(a)"
   ]
  },
  {
   "cell_type": "code",
   "execution_count": 46,
   "id": "3c52ec80-5875-49e9-bc30-ae352dd3a818",
   "metadata": {},
   "outputs": [
    {
     "data": {
      "text/plain": [
       "{1, 2, 3}"
      ]
     },
     "execution_count": 46,
     "metadata": {},
     "output_type": "execute_result"
    }
   ],
   "source": [
    "#set()\n",
    "#타입 변환\n",
    "b = set([1, 2, 3, 3, 3, 3])\n",
    "b"
   ]
  },
  {
   "cell_type": "code",
   "execution_count": 47,
   "id": "4752dfdf-8e42-4761-908f-e322d3f343cb",
   "metadata": {},
   "outputs": [
    {
     "data": {
      "text/plain": [
       "{1, 2, 3, 4}"
      ]
     },
     "execution_count": 47,
     "metadata": {},
     "output_type": "execute_result"
    }
   ],
   "source": [
    "#값 추가\n",
    "#add()\n",
    "a.add(4)\n",
    "a"
   ]
  },
  {
   "cell_type": "code",
   "execution_count": 48,
   "id": "829ad2bb-f6b5-41eb-bf90-df6f33c03039",
   "metadata": {},
   "outputs": [
    {
     "data": {
      "text/plain": [
       "{1, 2, 3}"
      ]
     },
     "execution_count": 48,
     "metadata": {},
     "output_type": "execute_result"
    }
   ],
   "source": [
    "#삭제\n",
    "#remove()\n",
    "a.remove(4)\n",
    "a"
   ]
  },
  {
   "cell_type": "code",
   "execution_count": 49,
   "id": "76d03cc1-3139-4f6e-b6df-fdcf49d5c2ae",
   "metadata": {},
   "outputs": [
    {
     "data": {
      "text/plain": [
       "{1, 2}"
      ]
     },
     "execution_count": 49,
     "metadata": {},
     "output_type": "execute_result"
    }
   ],
   "source": [
    "#discard()\n",
    "a.discard(3)\n",
    "a"
   ]
  },
  {
   "cell_type": "code",
   "execution_count": 50,
   "id": "fb487a06-f9f3-4285-8e3b-8ea3ba17f89c",
   "metadata": {},
   "outputs": [
    {
     "ename": "KeyError",
     "evalue": "3",
     "output_type": "error",
     "traceback": [
      "\u001b[1;31m---------------------------------------------------------------------------\u001b[0m",
      "\u001b[1;31mKeyError\u001b[0m                                  Traceback (most recent call last)",
      "\u001b[1;32m~\\AppData\\Local\\Temp/ipykernel_17388/46556393.py\u001b[0m in \u001b[0;36m<module>\u001b[1;34m\u001b[0m\n\u001b[0;32m      1\u001b[0m \u001b[1;31m#remove는 없는 값을 제거하려고 하면 오류가 발생함\u001b[0m\u001b[1;33m\u001b[0m\u001b[1;33m\u001b[0m\u001b[0m\n\u001b[1;32m----> 2\u001b[1;33m \u001b[0ma\u001b[0m\u001b[1;33m.\u001b[0m\u001b[0mremove\u001b[0m\u001b[1;33m(\u001b[0m\u001b[1;36m3\u001b[0m\u001b[1;33m)\u001b[0m\u001b[1;33m\u001b[0m\u001b[1;33m\u001b[0m\u001b[0m\n\u001b[0m",
      "\u001b[1;31mKeyError\u001b[0m: 3"
     ]
    }
   ],
   "source": [
    "#remove는 없는 값을 제거하려고 하면 오류가 발생함\n",
    "a.remove(3)"
   ]
  },
  {
   "cell_type": "code",
   "execution_count": 51,
   "id": "710b9cb8-52f1-49da-a50b-f904fb0f08fb",
   "metadata": {},
   "outputs": [],
   "source": [
    "#discard는 오류가 발생하지 않음\n",
    "a.discard(3)"
   ]
  },
  {
   "cell_type": "code",
   "execution_count": 52,
   "id": "d0c586a8-4393-4877-85d5-e13d9bd98761",
   "metadata": {},
   "outputs": [],
   "source": [
    "a = {1, 2, 3}\n",
    "b = {2, 3, 4}"
   ]
  },
  {
   "cell_type": "code",
   "execution_count": 53,
   "id": "5211f9af-08ee-4738-9fc4-6cbd128f4bf1",
   "metadata": {},
   "outputs": [
    {
     "data": {
      "text/plain": [
       "({2, 3}, {2, 3})"
      ]
     },
     "execution_count": 53,
     "metadata": {},
     "output_type": "execute_result"
    }
   ],
   "source": [
    "#교집합: intersection (&)\n",
    "a.intersection(b), a & b"
   ]
  },
  {
   "cell_type": "code",
   "execution_count": 54,
   "id": "5c6eee57-6193-41b9-a42e-4e7fbe0a24eb",
   "metadata": {},
   "outputs": [
    {
     "data": {
      "text/plain": [
       "({1, 2, 3, 4}, {1, 2, 3, 4})"
      ]
     },
     "execution_count": 54,
     "metadata": {},
     "output_type": "execute_result"
    }
   ],
   "source": [
    "#합집합: union (|)\n",
    "a.union(b), a | b"
   ]
  },
  {
   "cell_type": "code",
   "execution_count": 55,
   "id": "895ab454-39b1-4784-ad3c-57485a935e76",
   "metadata": {},
   "outputs": [
    {
     "data": {
      "text/plain": [
       "({1}, {1})"
      ]
     },
     "execution_count": 55,
     "metadata": {},
     "output_type": "execute_result"
    }
   ],
   "source": [
    "#차집합: difference (-)\n",
    "a.difference(b), a - b"
   ]
  },
  {
   "cell_type": "code",
   "execution_count": 56,
   "id": "50b81277-a95a-4bb9-b219-156188ffc31a",
   "metadata": {},
   "outputs": [],
   "source": [
    "#Quiz3.\n",
    "drinks = {\n",
    "    'martini':{'vodka', 'vermouth'},\n",
    "    'black russian':{'vodka', 'kahlua'},\n",
    "    'white russian':{'cream', 'kahlua', 'vodka'},\n",
    "    'mahattan':{'rye', 'vermouth', 'bitters'},\n",
    "    'screwdriver':{'orange juice', 'vodka'}\n",
    "}\n",
    "#vodka가 있는 키 골라내기(출력)\n",
    "#보드카는 있는데 크림이나 버무스 있으면 프린트하지 않기"
   ]
  },
  {
   "cell_type": "code",
   "execution_count": 57,
   "id": "da044fe5-f320-423d-93de-1b8bf0e4e370",
   "metadata": {},
   "outputs": [
    {
     "data": {
      "text/plain": [
       "{'black russian', 'screwdriver'}"
      ]
     },
     "execution_count": 57,
     "metadata": {},
     "output_type": "execute_result"
    }
   ],
   "source": [
    "#논리 연산자 사용\n",
    "{k for k, v in drinks.items() if 'vodka' in v and not('cream' in v or 'vermouth' in v)}"
   ]
  },
  {
   "cell_type": "code",
   "execution_count": 58,
   "id": "db8781e5-e901-4b8d-8548-94e9b6d3c3ba",
   "metadata": {},
   "outputs": [
    {
     "name": "stdout",
     "output_type": "stream",
     "text": [
      "black russian\n",
      "screwdriver\n"
     ]
    }
   ],
   "source": [
    "#집합 연산 사용\n",
    "for k, v in drinks.items():\n",
    "    if 'vodka' in v and not v & {'cream', 'vermouth'}:\n",
    "        print(k)\n",
    "#컴프리헨션 {k for k in drinks.items() if 'vodka' in v and not v & {'cream', 'vermouth'}}"
   ]
  },
  {
   "cell_type": "code",
   "execution_count": 59,
   "id": "c07da3a0-b23b-4aad-9d80-f316b0f4534c",
   "metadata": {},
   "outputs": [
    {
     "data": {
      "text/plain": [
       "frozenset({1, 2, 3})"
      ]
     },
     "execution_count": 59,
     "metadata": {},
     "output_type": "execute_result"
    }
   ],
   "source": [
    "#frozenset()\n",
    "#set을 불변객체로 만드는 함수\n",
    "fs = frozenset([1, 2, 3])\n",
    "fs"
   ]
  },
  {
   "cell_type": "code",
   "execution_count": 60,
   "id": "d5a48e9b-a42d-45b3-a298-9121d3b1f423",
   "metadata": {},
   "outputs": [
    {
     "ename": "AttributeError",
     "evalue": "'frozenset' object has no attribute 'add'",
     "output_type": "error",
     "traceback": [
      "\u001b[1;31m---------------------------------------------------------------------------\u001b[0m",
      "\u001b[1;31mAttributeError\u001b[0m                            Traceback (most recent call last)",
      "\u001b[1;32m~\\AppData\\Local\\Temp/ipykernel_17388/799687133.py\u001b[0m in \u001b[0;36m<module>\u001b[1;34m\u001b[0m\n\u001b[1;32m----> 1\u001b[1;33m \u001b[0mfs\u001b[0m\u001b[1;33m.\u001b[0m\u001b[0madd\u001b[0m\u001b[1;33m(\u001b[0m\u001b[1;36m1\u001b[0m\u001b[1;33m)\u001b[0m \u001b[1;31m#값을 수정할 수 없음\u001b[0m\u001b[1;33m\u001b[0m\u001b[1;33m\u001b[0m\u001b[0m\n\u001b[0m",
      "\u001b[1;31mAttributeError\u001b[0m: 'frozenset' object has no attribute 'add'"
     ]
    }
   ],
   "source": [
    "fs.add(1) #값을 수정할 수 없음"
   ]
  }
 ],
 "metadata": {
  "kernelspec": {
   "display_name": "Python 3 (ipykernel)",
   "language": "python",
   "name": "python3"
  },
  "language_info": {
   "codemirror_mode": {
    "name": "ipython",
    "version": 3
   },
   "file_extension": ".py",
   "mimetype": "text/x-python",
   "name": "python",
   "nbconvert_exporter": "python",
   "pygments_lexer": "ipython3",
   "version": "3.9.7"
  }
 },
 "nbformat": 4,
 "nbformat_minor": 5
}
