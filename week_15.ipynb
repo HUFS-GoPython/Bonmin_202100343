{
 "cells": [
  {
   "cell_type": "markdown",
   "id": "99433ca1-6f14-4ed2-9673-28617a9ad8d5",
   "metadata": {},
   "source": [
    "# week_15"
   ]
  },
  {
   "cell_type": "markdown",
   "id": "a791e01a-5edf-41ab-bf9e-65728e320f93",
   "metadata": {},
   "source": [
    "### 파일과 디렉토리\n",
    "- 파일: 컴퓨터를 실행할 때 가장 기본이 되는 단위\n",
    "- 디렉터리: 폴더, 파일을 논리적으로 묶어놓은 단위\n",
    "  - 폴더a: 폴더b, 파일a, 파일b, 파일c, ...\n",
    "- 파일 = 파일명 + 확장자(.txt, .csv, ...)\n",
    "- 바이너리, 텍스트\n",
    "  - 바이너리: 이진정수로 이루어진 파일로 내용을 확인하기 위해서는 별도의 프로그램이 필요함\n",
    "    - 엑셀, 워드, ...\n",
    "  - 텍스트: 바이너리를 읽을 수 있는 문자로 변환한 것\n",
    "    - 메모장, python, html, ...\n",
    "    - 기준: 아스키코드, 유니코드 제정(\"인코딩\")\n",
    "    - utf-8(한국에서 주로 사용함)\n",
    "    - cp494"
   ]
  },
  {
   "cell_type": "markdown",
   "id": "9e349533-83ac-47de-9143-6a03f2014cb7",
   "metadata": {},
   "source": [
    "- f = open(파일명, 모드)\n",
    "- 모드\n",
    "  - r(read mode): 파일 불러오기 (default)\n",
    "  - w(write mode): 없으면 새로 만들고 있으면 덮어쓰기\n",
    "  - a(add/append mode): 기존 파일에 마지막에 추가\n",
    "  - x(exclusive mode): write와 유사하나 파일이 존재하지 않을 때만 작동(덮어쓰기로 인한 기존 내용이 변형되는 것을 막음)  \n",
    "  - b(binary mode): 바이너리\n",
    "  - t(text mode): 텍스트 (default)\n",
    "  - rb, rt, ...와 같은 형태로 사용"
   ]
  },
  {
   "cell_type": "code",
   "execution_count": 1,
   "id": "c3611c3c-039c-4c9b-8ab8-4fc929820142",
   "metadata": {},
   "outputs": [
    {
     "data": {
      "text/plain": [
       "<_io.TextIOWrapper name='text.txt' mode='r' encoding='cp949'>"
      ]
     },
     "execution_count": 1,
     "metadata": {},
     "output_type": "execute_result"
    }
   ],
   "source": [
    "f = open('text.txt', 'r')\n",
    "f"
   ]
  },
  {
   "cell_type": "code",
   "execution_count": 2,
   "id": "22ee4f48-8d90-4ccf-aaf1-aec468471cee",
   "metadata": {},
   "outputs": [
    {
     "data": {
      "text/plain": [
       "'Hello'"
      ]
     },
     "execution_count": 2,
     "metadata": {},
     "output_type": "execute_result"
    }
   ],
   "source": [
    "f.read(5) #앞에서부터 5글자를 읽어옴"
   ]
  },
  {
   "cell_type": "code",
   "execution_count": 3,
   "id": "c5337500-5f12-4091-b9eb-01db83184823",
   "metadata": {},
   "outputs": [
    {
     "data": {
      "text/plain": [
       "' worl'"
      ]
     },
     "execution_count": 3,
     "metadata": {},
     "output_type": "execute_result"
    }
   ],
   "source": [
    "f.read(5) #다시 사용하면 그 다음 글자를 읽어옴"
   ]
  },
  {
   "cell_type": "code",
   "execution_count": 4,
   "id": "cadbc8b6-b6a7-4e81-8cda-61edae796e08",
   "metadata": {},
   "outputs": [],
   "source": [
    "#자원 해제\n",
    "#파일이 열린 상태에서 다른 프로그램이 같은 파일을 동시에 호출할 경우 에러가 발생\n",
    "#파일은 사용한 후 항상 닫아줘야함\n",
    "f.close()"
   ]
  },
  {
   "cell_type": "code",
   "execution_count": 5,
   "id": "7603bc5d-c0d5-4716-be88-28675c09a6e8",
   "metadata": {},
   "outputs": [
    {
     "data": {
      "text/plain": [
       "['Hello world\\n', 'abcdefg\\n', 'Adv_python']"
      ]
     },
     "execution_count": 5,
     "metadata": {},
     "output_type": "execute_result"
    }
   ],
   "source": [
    "#매번 파일을 닫는 번거로움을 줄이는 방법\n",
    "#with open() as f:\n",
    "#    .... open 함수 기능이 유지되는 블록\n",
    "#    data = f.read()\n",
    "#블록을 벗어나면 자동으로 닫힘\n",
    "\n",
    "with open('text.txt', 'r') as f:\n",
    "    data = f.readlines() #파일을 닫기 전에 미리 변수에 저장\n",
    "data"
   ]
  },
  {
   "cell_type": "markdown",
   "id": "059800e7-d98d-494b-9bf0-b78d38193567",
   "metadata": {},
   "source": [
    "- read(): 파일을 하나의 문자열로 불러오기\n",
    "- readline(): 파일을 한줄씩 불러오기\n",
    "- readlines(): 파일 전체를 줄 단위로 각각 리스트에 담아 불러오기"
   ]
  },
  {
   "cell_type": "code",
   "execution_count": 6,
   "id": "6ed6334e-69ef-42c4-99b5-b05da79389a1",
   "metadata": {},
   "outputs": [
    {
     "data": {
      "text/plain": [
       "'Hello world\\nabcdefg\\nAdv_python'"
      ]
     },
     "execution_count": 6,
     "metadata": {},
     "output_type": "execute_result"
    }
   ],
   "source": [
    "#read()\n",
    "with open('text.txt', 'r') as f:\n",
    "    data = f.read()\n",
    "data"
   ]
  },
  {
   "cell_type": "code",
   "execution_count": 7,
   "id": "58535b3b-82fa-4964-8bf8-bbe3c256b8eb",
   "metadata": {},
   "outputs": [
    {
     "data": {
      "text/plain": [
       "'Hello world\\n'"
      ]
     },
     "execution_count": 7,
     "metadata": {},
     "output_type": "execute_result"
    }
   ],
   "source": [
    "#readline()\n",
    "with open('text.txt', 'r') as f:\n",
    "    data = f.readline()\n",
    "data"
   ]
  },
  {
   "cell_type": "code",
   "execution_count": 8,
   "id": "0bfb6aec-f67a-4964-91e9-bd3342bfa737",
   "metadata": {},
   "outputs": [
    {
     "data": {
      "text/plain": [
       "['Hello world\\n', 'abcdefg\\n', 'Adv_python']"
      ]
     },
     "execution_count": 8,
     "metadata": {},
     "output_type": "execute_result"
    }
   ],
   "source": [
    "#readlines()\n",
    "with open('text.txt', 'r') as f:\n",
    "    data = f.readlines()\n",
    "data"
   ]
  },
  {
   "cell_type": "code",
   "execution_count": 9,
   "id": "ae2e8ff8-a5e0-4135-93fb-e65bd834c686",
   "metadata": {},
   "outputs": [],
   "source": [
    "#write\n",
    "file = 'text2.txt'\n",
    "f = open(file, 'w', encoding='utf-8')\n",
    "\n",
    "for i in range(1, 6):\n",
    "    data = f'{i}번째 줄입니다.\\n'\n",
    "    f.write(data)\n",
    "    \n",
    "f.close()"
   ]
  },
  {
   "cell_type": "code",
   "execution_count": 10,
   "id": "803fff2b-7c5f-4f34-a00c-1bd2ef7fcc4b",
   "metadata": {},
   "outputs": [
    {
     "data": {
      "text/plain": [
       "['1번째 줄입니다.\\n', '2번째 줄입니다.\\n', '3번째 줄입니다.\\n', '4번째 줄입니다.\\n', '5번째 줄입니다.\\n']"
      ]
     },
     "execution_count": 10,
     "metadata": {},
     "output_type": "execute_result"
    }
   ],
   "source": [
    "with open(file, 'r', encoding='utf-8') as f:\n",
    "    data = f.readlines()\n",
    "data"
   ]
  },
  {
   "cell_type": "code",
   "execution_count": 11,
   "id": "66042ca5-0b21-4f2b-aa28-ca7b5299a3fd",
   "metadata": {},
   "outputs": [],
   "source": [
    "#add\n",
    "f = open(file, 'a', encoding='utf-8')\n",
    "print('a로 추가한 문장', file=f) #프린트에서도 간단하게 추가 가능\n",
    "f.close()"
   ]
  },
  {
   "cell_type": "code",
   "execution_count": 12,
   "id": "55a3d225-fec5-4704-9729-c577d6058e3d",
   "metadata": {},
   "outputs": [
    {
     "data": {
      "text/plain": [
       "['1번째 줄입니다.\\n',\n",
       " '2번째 줄입니다.\\n',\n",
       " '3번째 줄입니다.\\n',\n",
       " '4번째 줄입니다.\\n',\n",
       " '5번째 줄입니다.\\n',\n",
       " 'a로 추가한 문장\\n']"
      ]
     },
     "execution_count": 12,
     "metadata": {},
     "output_type": "execute_result"
    }
   ],
   "source": [
    "with open(file, 'r', encoding='utf-8') as f:\n",
    "    data = f.readlines()\n",
    "data"
   ]
  },
  {
   "cell_type": "code",
   "execution_count": 13,
   "id": "d552875e-9389-4d13-b970-e6853aae2b1f",
   "metadata": {},
   "outputs": [
    {
     "ename": "UnicodeDecodeError",
     "evalue": "'cp949' codec can't decode byte 0xeb in position 14: illegal multibyte sequence",
     "output_type": "error",
     "traceback": [
      "\u001b[1;31m---------------------------------------------------------------------------\u001b[0m",
      "\u001b[1;31mUnicodeDecodeError\u001b[0m                        Traceback (most recent call last)",
      "\u001b[1;32m~\\AppData\\Local\\Temp/ipykernel_8100/3725607795.py\u001b[0m in \u001b[0;36m<module>\u001b[1;34m\u001b[0m\n\u001b[0;32m      1\u001b[0m \u001b[1;32mwith\u001b[0m \u001b[0mopen\u001b[0m\u001b[1;33m(\u001b[0m\u001b[0mfile\u001b[0m\u001b[1;33m,\u001b[0m \u001b[1;34m'r'\u001b[0m\u001b[1;33m)\u001b[0m \u001b[1;32mas\u001b[0m \u001b[0mf\u001b[0m\u001b[1;33m:\u001b[0m \u001b[1;31m#인코딩을 통일하지 않은면 오류발생\u001b[0m\u001b[1;33m\u001b[0m\u001b[1;33m\u001b[0m\u001b[0m\n\u001b[1;32m----> 2\u001b[1;33m     \u001b[0mdata\u001b[0m \u001b[1;33m=\u001b[0m \u001b[0mf\u001b[0m\u001b[1;33m.\u001b[0m\u001b[0mreadlines\u001b[0m\u001b[1;33m(\u001b[0m\u001b[1;33m)\u001b[0m\u001b[1;33m\u001b[0m\u001b[1;33m\u001b[0m\u001b[0m\n\u001b[0m\u001b[0;32m      3\u001b[0m \u001b[0mdata\u001b[0m\u001b[1;33m\u001b[0m\u001b[1;33m\u001b[0m\u001b[0m\n",
      "\u001b[1;31mUnicodeDecodeError\u001b[0m: 'cp949' codec can't decode byte 0xeb in position 14: illegal multibyte sequence"
     ]
    }
   ],
   "source": [
    "with open(file, 'r') as f: #인코딩을 통일하지 않은면 오류발생\n",
    "    data = f.readlines()\n",
    "data"
   ]
  },
  {
   "cell_type": "code",
   "execution_count": 14,
   "id": "e17ee387-0adc-4f88-97dc-ad6c5bdf3cc0",
   "metadata": {},
   "outputs": [],
   "source": [
    "import os"
   ]
  },
  {
   "cell_type": "code",
   "execution_count": 15,
   "id": "29374d85-eeb4-4c56-af6b-2957754d312e",
   "metadata": {},
   "outputs": [],
   "source": [
    "os.remove(file)"
   ]
  },
  {
   "cell_type": "markdown",
   "id": "573670b0-b57e-4441-b395-e8d9452691ee",
   "metadata": {},
   "source": [
    "#### 다른 디렉토리의 파일을 가져오는 법\n",
    "- .: 현제 위치 조회\n",
    "- ..: 상위 디렉토리 조회"
   ]
  },
  {
   "cell_type": "code",
   "execution_count": 16,
   "id": "22b80212-b592-4206-9dac-2fa1932cd015",
   "metadata": {},
   "outputs": [
    {
     "ename": "FileNotFoundError",
     "evalue": "[Errno 2] No such file or directory: 'text3.txt'",
     "output_type": "error",
     "traceback": [
      "\u001b[1;31m---------------------------------------------------------------------------\u001b[0m",
      "\u001b[1;31mFileNotFoundError\u001b[0m                         Traceback (most recent call last)",
      "\u001b[1;32m~\\AppData\\Local\\Temp/ipykernel_8100/3288844291.py\u001b[0m in \u001b[0;36m<module>\u001b[1;34m\u001b[0m\n\u001b[0;32m      1\u001b[0m \u001b[0mfile\u001b[0m \u001b[1;33m=\u001b[0m \u001b[1;34m'text3.txt'\u001b[0m\u001b[1;33m\u001b[0m\u001b[1;33m\u001b[0m\u001b[0m\n\u001b[0;32m      2\u001b[0m \u001b[1;33m\u001b[0m\u001b[0m\n\u001b[1;32m----> 3\u001b[1;33m \u001b[1;32mwith\u001b[0m \u001b[0mopen\u001b[0m\u001b[1;33m(\u001b[0m\u001b[0mfile\u001b[0m\u001b[1;33m)\u001b[0m \u001b[1;32mas\u001b[0m \u001b[0mf\u001b[0m\u001b[1;33m:\u001b[0m\u001b[1;33m\u001b[0m\u001b[1;33m\u001b[0m\u001b[0m\n\u001b[0m\u001b[0;32m      4\u001b[0m     \u001b[0mf\u001b[0m\u001b[1;33m.\u001b[0m\u001b[0mread\u001b[0m\u001b[1;33m(\u001b[0m\u001b[1;33m)\u001b[0m \u001b[1;31m#같은 디렉토리에 없으면 에러가 발생함\u001b[0m\u001b[1;33m\u001b[0m\u001b[1;33m\u001b[0m\u001b[0m\n",
      "\u001b[1;31mFileNotFoundError\u001b[0m: [Errno 2] No such file or directory: 'text3.txt'"
     ]
    }
   ],
   "source": [
    "file = 'text3.txt'\n",
    "\n",
    "with open(file) as f:\n",
    "    f.read() #같은 디렉토리에 없으면 에러가 발생함"
   ]
  },
  {
   "cell_type": "code",
   "execution_count": 17,
   "id": "f22c9366-96da-4d87-8b74-bf0e15971afd",
   "metadata": {},
   "outputs": [
    {
     "data": {
      "text/plain": [
       "'text3 file'"
      ]
     },
     "execution_count": 17,
     "metadata": {},
     "output_type": "execute_result"
    }
   ],
   "source": [
    "with open('../text3.txt', 'r') as f:\n",
    "    data = f.read()\n",
    "data"
   ]
  },
  {
   "cell_type": "markdown",
   "id": "21e618ad-715b-4ed0-8457-36cc47ec55e8",
   "metadata": {},
   "source": [
    "#### 다른 디렉토리의 파일 작성(수정)하기"
   ]
  },
  {
   "cell_type": "code",
   "execution_count": 18,
   "id": "b1987612-488e-43bc-a4b6-ff0797d85dcf",
   "metadata": {},
   "outputs": [],
   "source": [
    "#mkdir()\n",
    "#디렉토리를 생성하는 기능\n",
    "os.mkdir('test_folder')"
   ]
  },
  {
   "cell_type": "code",
   "execution_count": 19,
   "id": "d382fe27-0beb-45b9-87e7-4e0680e08c6b",
   "metadata": {},
   "outputs": [
    {
     "ename": "FileExistsError",
     "evalue": "[WinError 183] 파일이 이미 있으므로 만들 수 없습니다: 'test_folder'",
     "output_type": "error",
     "traceback": [
      "\u001b[1;31m---------------------------------------------------------------------------\u001b[0m",
      "\u001b[1;31mFileExistsError\u001b[0m                           Traceback (most recent call last)",
      "\u001b[1;32m~\\AppData\\Local\\Temp/ipykernel_8100/2460878673.py\u001b[0m in \u001b[0;36m<module>\u001b[1;34m\u001b[0m\n\u001b[1;32m----> 1\u001b[1;33m \u001b[0mos\u001b[0m\u001b[1;33m.\u001b[0m\u001b[0mmkdir\u001b[0m\u001b[1;33m(\u001b[0m\u001b[1;34m'test_folder'\u001b[0m\u001b[1;33m)\u001b[0m \u001b[1;31m#이미 있는 파일명일 경우 새로 생성 불가\u001b[0m\u001b[1;33m\u001b[0m\u001b[1;33m\u001b[0m\u001b[0m\n\u001b[0m",
      "\u001b[1;31mFileExistsError\u001b[0m: [WinError 183] 파일이 이미 있으므로 만들 수 없습니다: 'test_folder'"
     ]
    }
   ],
   "source": [
    "os.mkdir('test_folder') #이미 있는 파일명일 경우 새로 생성 불가"
   ]
  },
  {
   "cell_type": "code",
   "execution_count": 20,
   "id": "9004cfa1-1a6e-4bdb-af4c-38aad0f5c53a",
   "metadata": {},
   "outputs": [],
   "source": [
    "#파일이 없을 때만 생성\n",
    "if not os.path.isdir('test_folder'): #isdir(): 디렉토리의 존재 여부를 판단\n",
    "    os.mkdir('test_folder')"
   ]
  },
  {
   "cell_type": "code",
   "execution_count": 21,
   "id": "b86996e1-2a37-4a7b-88ff-756da56472be",
   "metadata": {},
   "outputs": [],
   "source": [
    "file = './test_folder/text4.txt' #생성한 폴더로 디렉토리를 지정\n",
    "f = open(file, 'w', encoding='utf-8')\n",
    "f.write('abcd')\n",
    "f.close()"
   ]
  },
  {
   "cell_type": "code",
   "execution_count": 22,
   "id": "c354da5d-0cf3-4805-a030-c5a00b039b81",
   "metadata": {},
   "outputs": [
    {
     "data": {
      "text/plain": [
       "True"
      ]
     },
     "execution_count": 22,
     "metadata": {},
     "output_type": "execute_result"
    }
   ],
   "source": [
    "os.path.exists(file) #디렉토리가 존재하는지 확인"
   ]
  },
  {
   "cell_type": "code",
   "execution_count": 23,
   "id": "77d79c17-eeb7-458e-9505-27b127608546",
   "metadata": {},
   "outputs": [
    {
     "data": {
      "text/plain": [
       "'abcd'"
      ]
     },
     "execution_count": 23,
     "metadata": {},
     "output_type": "execute_result"
    }
   ],
   "source": [
    "with open(file, 'r', encoding='utf-8') as f:\n",
    "    data = f.read()\n",
    "data"
   ]
  },
  {
   "cell_type": "code",
   "execution_count": 24,
   "id": "10fb0dce-2fb6-410f-b4ce-685e3daa47a8",
   "metadata": {},
   "outputs": [
    {
     "ename": "OSError",
     "evalue": "[WinError 145] 디렉터리가 비어 있지 않습니다: 'test_folder'",
     "output_type": "error",
     "traceback": [
      "\u001b[1;31m---------------------------------------------------------------------------\u001b[0m",
      "\u001b[1;31mOSError\u001b[0m                                   Traceback (most recent call last)",
      "\u001b[1;32m~\\AppData\\Local\\Temp/ipykernel_8100/2860028448.py\u001b[0m in \u001b[0;36m<module>\u001b[1;34m\u001b[0m\n\u001b[0;32m      1\u001b[0m \u001b[1;31m#rmdir()\u001b[0m\u001b[1;33m\u001b[0m\u001b[1;33m\u001b[0m\u001b[0m\n\u001b[0;32m      2\u001b[0m \u001b[1;31m#디렉토리를 제거하는 기능\u001b[0m\u001b[1;33m\u001b[0m\u001b[1;33m\u001b[0m\u001b[0m\n\u001b[1;32m----> 3\u001b[1;33m \u001b[0mos\u001b[0m\u001b[1;33m.\u001b[0m\u001b[0mrmdir\u001b[0m\u001b[1;33m(\u001b[0m\u001b[1;34m'test_folder'\u001b[0m\u001b[1;33m)\u001b[0m \u001b[1;31m#디렉토리가 비어있지 않아 제거 되지 않음\u001b[0m\u001b[1;33m\u001b[0m\u001b[1;33m\u001b[0m\u001b[0m\n\u001b[0m",
      "\u001b[1;31mOSError\u001b[0m: [WinError 145] 디렉터리가 비어 있지 않습니다: 'test_folder'"
     ]
    }
   ],
   "source": [
    "#rmdir()\n",
    "#디렉토리를 제거하는 기능\n",
    "os.rmdir('test_folder') #디렉토리가 비어있지 않아 제거 되지 않음"
   ]
  },
  {
   "cell_type": "code",
   "execution_count": 25,
   "id": "c1890f07-1ffb-4e9f-a23c-bbdd6a8708bf",
   "metadata": {},
   "outputs": [],
   "source": [
    "os.remove(file) #먼저 파일을 제거하기\n",
    "os.rmdir('test_folder')"
   ]
  },
  {
   "cell_type": "code",
   "execution_count": 26,
   "id": "e038620a-e3b7-40ce-ac0a-636a07348cf2",
   "metadata": {},
   "outputs": [
    {
     "data": {
      "text/plain": [
       "False"
      ]
     },
     "execution_count": 26,
     "metadata": {},
     "output_type": "execute_result"
    }
   ],
   "source": [
    "os.path.exists(file)"
   ]
  },
  {
   "cell_type": "code",
   "execution_count": 27,
   "id": "deda12e7-f29b-4cf3-a278-dfae33ad1630",
   "metadata": {},
   "outputs": [
    {
     "name": "stdout",
     "output_type": "stream",
     "text": [
      "True\n",
      "False\n"
     ]
    }
   ],
   "source": [
    "#디렉토리가 비어있지 않아도 삭제하기\n",
    "import shutil\n",
    "\n",
    "os.mkdir('test_folder')\n",
    "file = './test_folder/text5.txt'\n",
    "f = open(file, 'w', encoding='utf-8')\n",
    "f.write('textfile')\n",
    "f.close()\n",
    "\n",
    "print(os.path.exists(file))\n",
    "\n",
    "shutil.rmtree('test_folder')\n",
    "print(os.path.isdir('test_folder')) #삭제되었음을 확인"
   ]
  },
  {
   "cell_type": "code",
   "execution_count": 28,
   "id": "26db04ce-2a85-48fd-95c2-32cf45db06eb",
   "metadata": {},
   "outputs": [
    {
     "data": {
      "text/plain": [
       "'C:\\\\Users\\\\Bon\\\\Documents\\\\adv_python\\\\Bonmin_202100343'"
      ]
     },
     "execution_count": 28,
     "metadata": {},
     "output_type": "execute_result"
    }
   ],
   "source": [
    "os.getcwd() #현재 디렉토리의 주소 확인"
   ]
  },
  {
   "cell_type": "code",
   "execution_count": 29,
   "id": "6f47c43d-e57d-4ee7-9676-8e785714dde3",
   "metadata": {},
   "outputs": [],
   "source": [
    "os.chdir('..')  #작업 디렉토리 변경(..은 상위 디렉토리로 이동)"
   ]
  },
  {
   "cell_type": "code",
   "execution_count": 30,
   "id": "81463355-7a68-4643-a907-b1432f11cd44",
   "metadata": {
    "tags": []
   },
   "outputs": [
    {
     "data": {
      "text/plain": [
       "'C:\\\\Users\\\\Bon\\\\Documents\\\\adv_python'"
      ]
     },
     "execution_count": 30,
     "metadata": {},
     "output_type": "execute_result"
    }
   ],
   "source": [
    "os.getcwd() #상위 디렉토리로 이동했음을 확인"
   ]
  },
  {
   "cell_type": "code",
   "execution_count": 31,
   "id": "e6548137-a048-4f28-9c7b-2bee8aca8ae9",
   "metadata": {
    "tags": []
   },
   "outputs": [],
   "source": [
    "os.chdir('./Bonmin_202100343')"
   ]
  },
  {
   "cell_type": "code",
   "execution_count": 32,
   "id": "c3226911-10ef-4591-96f3-077831c9a0d9",
   "metadata": {},
   "outputs": [
    {
     "data": {
      "text/plain": [
       "'C:\\\\Users\\\\Bon\\\\Documents\\\\adv_python\\\\Bonmin_202100343'"
      ]
     },
     "execution_count": 32,
     "metadata": {},
     "output_type": "execute_result"
    }
   ],
   "source": [
    "os.getcwd() #다시 원래 디렉토리로"
   ]
  },
  {
   "cell_type": "markdown",
   "id": "9dc7c79b-e16d-434b-83bb-5bdf619b13d9",
   "metadata": {},
   "source": [
    "### pickle\n",
    "- 객체를 파일로 외부에 저장, 불러들일 수 있는 라이브러리\n",
    "- 저장: pickle.dump(변수, 파일명)\n",
    "- 불러오기 : pickle.load(파일)"
   ]
  },
  {
   "cell_type": "code",
   "execution_count": 33,
   "id": "76131823-2650-4f93-934d-53e6670b3da2",
   "metadata": {},
   "outputs": [],
   "source": [
    "import pickle"
   ]
  },
  {
   "cell_type": "code",
   "execution_count": 34,
   "id": "fe34c972-799f-4706-94b8-18ce79007136",
   "metadata": {},
   "outputs": [
    {
     "data": {
      "text/plain": [
       "[0, 1, 2, 3, 4]"
      ]
     },
     "execution_count": 34,
     "metadata": {},
     "output_type": "execute_result"
    }
   ],
   "source": [
    "num = list(range(5))\n",
    "num"
   ]
  },
  {
   "cell_type": "code",
   "execution_count": 35,
   "id": "a744e125-a6f4-4900-8163-4ace17cf4dfe",
   "metadata": {},
   "outputs": [],
   "source": [
    "f = open('test.pickle', 'wb') #바이너리로 저장(열수는 없음)\n",
    "pickle.dump(num, f)\n",
    "f.close()"
   ]
  },
  {
   "cell_type": "code",
   "execution_count": 36,
   "id": "41a81654-16f1-4959-9268-86135b1da167",
   "metadata": {},
   "outputs": [
    {
     "data": {
      "text/plain": [
       "[0, 1, 2, 3, 4]"
      ]
     },
     "execution_count": 36,
     "metadata": {},
     "output_type": "execute_result"
    }
   ],
   "source": [
    "with open('test.pickle', 'rb') as f: #불러오기\n",
    "    number = pickle.load(f)\n",
    "number"
   ]
  },
  {
   "cell_type": "code",
   "execution_count": null,
   "id": "cf633468-219d-4e35-8c9d-4f4cc0a0bf10",
   "metadata": {},
   "outputs": [],
   "source": []
  }
 ],
 "metadata": {
  "kernelspec": {
   "display_name": "Python 3 (ipykernel)",
   "language": "python",
   "name": "python3"
  },
  "language_info": {
   "codemirror_mode": {
    "name": "ipython",
    "version": 3
   },
   "file_extension": ".py",
   "mimetype": "text/x-python",
   "name": "python",
   "nbconvert_exporter": "python",
   "pygments_lexer": "ipython3",
   "version": "3.9.7"
  }
 },
 "nbformat": 4,
 "nbformat_minor": 5
}
