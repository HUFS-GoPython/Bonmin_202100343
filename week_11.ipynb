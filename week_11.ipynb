{
 "cells": [
  {
   "cell_type": "markdown",
   "id": "5c02a392-a28a-470e-976a-664d320620ca",
   "metadata": {},
   "source": [
    "# Week_11"
   ]
  },
  {
   "cell_type": "markdown",
   "id": "481a88d8-ea1a-4431-9376-0ae167d7ae5e",
   "metadata": {},
   "source": [
    "## Ch.10 - Object"
   ]
  },
  {
   "cell_type": "markdown",
   "id": "61204e33-b5b8-45ba-80c9-98485df58835",
   "metadata": {
    "tags": []
   },
   "source": [
    "### 상속 | inheritance\n",
    "- 이전 클래스의 내용을 추가, 변경해야할 때 사용\n",
    "- 코드 재사용이 용이해 반복되는 코드를 줄일 수 있음\n",
    "- 기준이 되는 부모 클래스(parent, super, base 등): vehicle\n",
    "- 상속을 받는 자식 클래스(child, sub, derived): Car\n",
    "- Vehicle <- Car\n",
    "  - 부모 클래스는 자식 클래스가 구체화\n",
    "  - is-a: Car is-a-Vehicle\n",
    "  - has-a: Notebook has-a-Note"
   ]
  },
  {
   "cell_type": "code",
   "execution_count": 1,
   "id": "abf6670f-ad47-4cd2-a727-35ab25e91639",
   "metadata": {},
   "outputs": [],
   "source": [
    "class Vehicle:\n",
    "    def __init__(self, speed):\n",
    "        self.speed = speed\n",
    "        \n",
    "    def go(self):\n",
    "        print(f'{self.speed}의 속력으로 달린다.')\n",
    "        \n",
    "class Car(Vehicle):\n",
    "    pass"
   ]
  },
  {
   "cell_type": "code",
   "execution_count": 2,
   "id": "2d7da020-de65-4c84-bb05-8ea14bdc1a03",
   "metadata": {},
   "outputs": [],
   "source": [
    "car = Car('15km/h')"
   ]
  },
  {
   "cell_type": "code",
   "execution_count": 3,
   "id": "b1866d7f-2cde-4518-bd83-64c8f89928a8",
   "metadata": {},
   "outputs": [
    {
     "data": {
      "text/plain": [
       "'15km/h'"
      ]
     },
     "execution_count": 3,
     "metadata": {},
     "output_type": "execute_result"
    }
   ],
   "source": [
    "car.speed"
   ]
  },
  {
   "cell_type": "code",
   "execution_count": 4,
   "id": "07ab40cb-f7fb-4e46-8d41-cd84001eb335",
   "metadata": {},
   "outputs": [
    {
     "name": "stdout",
     "output_type": "stream",
     "text": [
      "15km/h의 속력으로 달린다.\n"
     ]
    }
   ],
   "source": [
    "car.go() #vehicle을 그대로 상속받았기 때문에 speed와 go()를 따로 정의해주지 않았음에도 실행"
   ]
  },
  {
   "cell_type": "markdown",
   "id": "def1a516-5d29-46ae-93c4-5247b3762d2a",
   "metadata": {},
   "source": [
    "### 추가, 변경\n",
    "- 속성(변수): super()"
   ]
  },
  {
   "cell_type": "code",
   "execution_count": 5,
   "id": "8eda48c3-1f16-45af-8a41-bf15160301f1",
   "metadata": {},
   "outputs": [],
   "source": [
    "#super(): 부모의 속성을 가져오는 기능\n",
    "#일부만 선택적으로 가져올 수도 있음\n",
    "class Car(Vehicle):\n",
    "    def __init__(self, speed, brand):\n",
    "        super().__init__(speed) #speed를 부모 클래스에서 가져오기\n",
    "        self.brand = brand #새로 추가한 변수"
   ]
  },
  {
   "cell_type": "code",
   "execution_count": 6,
   "id": "11b96019-5748-48e9-b340-6a19b8f4375d",
   "metadata": {},
   "outputs": [
    {
     "data": {
      "text/plain": [
       "'14km/h'"
      ]
     },
     "execution_count": 6,
     "metadata": {},
     "output_type": "execute_result"
    }
   ],
   "source": [
    "car2 = Car('14km/h', 'kia')\n",
    "car2.speed"
   ]
  },
  {
   "cell_type": "code",
   "execution_count": 7,
   "id": "5d929e27-7fb6-443a-a67a-730b5fc76519",
   "metadata": {},
   "outputs": [
    {
     "name": "stdout",
     "output_type": "stream",
     "text": [
      "14km/h의 속력으로 달린다.\n"
     ]
    }
   ],
   "source": [
    "car2.go()"
   ]
  },
  {
   "cell_type": "code",
   "execution_count": 8,
   "id": "dc822d60-99b0-4a22-b901-9d862054182b",
   "metadata": {},
   "outputs": [
    {
     "ename": "AttributeError",
     "evalue": "'Vehicle' object has no attribute 'brand'",
     "output_type": "error",
     "traceback": [
      "\u001b[1;31m---------------------------------------------------------------------------\u001b[0m",
      "\u001b[1;31mAttributeError\u001b[0m                            Traceback (most recent call last)",
      "\u001b[1;32m~\\AppData\\Local\\Temp/ipykernel_23664/479798319.py\u001b[0m in \u001b[0;36m<module>\u001b[1;34m\u001b[0m\n\u001b[0;32m      1\u001b[0m \u001b[1;31m#부모는 자식의 고유한 속성을 가지지 못함\u001b[0m\u001b[1;33m\u001b[0m\u001b[1;33m\u001b[0m\u001b[0m\n\u001b[0;32m      2\u001b[0m \u001b[0mv\u001b[0m \u001b[1;33m=\u001b[0m \u001b[0mVehicle\u001b[0m\u001b[1;33m(\u001b[0m\u001b[1;34m'15km/h'\u001b[0m\u001b[1;33m)\u001b[0m\u001b[1;33m\u001b[0m\u001b[1;33m\u001b[0m\u001b[0m\n\u001b[1;32m----> 3\u001b[1;33m \u001b[0mv\u001b[0m\u001b[1;33m.\u001b[0m\u001b[0mbrand\u001b[0m\u001b[1;33m\u001b[0m\u001b[1;33m\u001b[0m\u001b[0m\n\u001b[0m",
      "\u001b[1;31mAttributeError\u001b[0m: 'Vehicle' object has no attribute 'brand'"
     ]
    }
   ],
   "source": [
    "#부모는 자식의 고유한 속성을 가지지 못함\n",
    "v = Vehicle('15km/h')\n",
    "v.brand"
   ]
  },
  {
   "cell_type": "markdown",
   "id": "df5a8e2d-141e-4498-b62b-2ff10a1f11d3",
   "metadata": {},
   "source": [
    "- 메소드 변경: 오버라이드(override), 재정의"
   ]
  },
  {
   "cell_type": "code",
   "execution_count": 9,
   "id": "7608473d-a2f3-41db-851d-a74760120521",
   "metadata": {},
   "outputs": [
    {
     "name": "stdout",
     "output_type": "stream",
     "text": [
      "차종은 nissan\n",
      "15km/h의 속력으로 달린다.\n"
     ]
    }
   ],
   "source": [
    "class Car(Vehicle):\n",
    "    def __init__(self, speed, brand):\n",
    "        super().__init__(speed)\n",
    "        self.brand = brand\n",
    "        \n",
    "    def go(self): #override\n",
    "        print(f'차종은 {self.brand}')\n",
    "        super().go() #자식 클래스에서 오버라이드된 go()를 실행할 뿐 아니라 부모의 go()로 가져와 실행함\n",
    "        \n",
    "    def stop(self):\n",
    "        print('차가 멈춘다.')\n",
    "\n",
    "car3 = Car('15km/h', 'nissan')\n",
    "car3.go()"
   ]
  },
  {
   "cell_type": "code",
   "execution_count": 10,
   "id": "6c689412-ad07-418d-84d1-726104393872",
   "metadata": {},
   "outputs": [
    {
     "name": "stdout",
     "output_type": "stream",
     "text": [
      "차종은 nissan\n",
      "15km/h의 속력으로 달린다.\n"
     ]
    }
   ],
   "source": [
    "car3.go()"
   ]
  },
  {
   "cell_type": "code",
   "execution_count": 11,
   "id": "2fe9223d-888f-45ba-8a1a-b62ea35701c4",
   "metadata": {},
   "outputs": [
    {
     "name": "stdout",
     "output_type": "stream",
     "text": [
      "차가 멈춘다.\n"
     ]
    }
   ],
   "source": [
    "car3.stop()"
   ]
  },
  {
   "cell_type": "markdown",
   "id": "5f9aca97-c12f-44e8-8387-8eea1ba926ff",
   "metadata": {},
   "source": [
    "### 실습"
   ]
  },
  {
   "cell_type": "code",
   "execution_count": 12,
   "id": "4e4958d7-ee0e-4524-9b66-294183d5161a",
   "metadata": {},
   "outputs": [
    {
     "data": {
      "text/plain": [
       "'Dr.Tom'"
      ]
     },
     "execution_count": 12,
     "metadata": {},
     "output_type": "execute_result"
    }
   ],
   "source": [
    "class Person:\n",
    "    def __init__(self, name):\n",
    "        self.name = name\n",
    "\n",
    "class Doctor(Person):\n",
    "    def __init__(self, name):\n",
    "        super().__init__('Dr.' + name)\n",
    "\n",
    "class Male(Person):\n",
    "    def __init__(self, name):\n",
    "        super().__init__('Mr.' + name)\n",
    "\n",
    "class Female(Person):\n",
    "    def __init__(self, name):\n",
    "        super().__init__('Mrs.' + name)\n",
    "        \n",
    "'''\n",
    "Person <- Doctor/Female/Male\n",
    "'''\n",
    "\n",
    "b = Doctor('Tom')\n",
    "b.name"
   ]
  },
  {
   "cell_type": "markdown",
   "id": "536df544-9caa-4bae-a2da-bfdcf6edcd3f",
   "metadata": {},
   "source": [
    "### 다중 상속\n",
    "- method resolution order ()\n",
    "- Animal <- Horse/Donkey <- Mule(Donkey > Horse)/Hinny(Horse > Donkey)"
   ]
  },
  {
   "cell_type": "code",
   "execution_count": 13,
   "id": "0f58e307-787f-4dda-83c4-41e49616e97b",
   "metadata": {},
   "outputs": [],
   "source": [
    "class Animal:\n",
    "    def says(self):\n",
    "        return '동물이 운다.'\n",
    "    \n",
    "#---------------------------\n",
    "    \n",
    "class Horse(Animal):\n",
    "    def says(self):\n",
    "        return '히히힝'\n",
    "    \n",
    "class Donkey(Animal):\n",
    "    def says(self):\n",
    "        return '히이호'\n",
    "\n",
    "#--------------------------\n",
    "\n",
    "class Mule(Donkey, Horse):\n",
    "    pass\n",
    "\n",
    "class Hinny(Horse, Donkey):\n",
    "    pass"
   ]
  },
  {
   "cell_type": "code",
   "execution_count": 14,
   "id": "b219bc29-c793-4ce5-9f72-e0220b646f66",
   "metadata": {},
   "outputs": [
    {
     "data": {
      "text/plain": [
       "'히이호'"
      ]
     },
     "execution_count": 14,
     "metadata": {},
     "output_type": "execute_result"
    }
   ],
   "source": [
    "Mule().says() #Donkey에 더 가깝기 때문에 '히이호' 출력"
   ]
  },
  {
   "cell_type": "code",
   "execution_count": 15,
   "id": "22e39d1c-8f0a-4d5e-95e1-d4a5f8956bc5",
   "metadata": {},
   "outputs": [
    {
     "data": {
      "text/plain": [
       "'히히힝'"
      ]
     },
     "execution_count": 15,
     "metadata": {},
     "output_type": "execute_result"
    }
   ],
   "source": [
    "Hinny().says() #Horse에 더 가깝기 때문에 '히이호' 출력"
   ]
  },
  {
   "cell_type": "code",
   "execution_count": 16,
   "id": "88faa63a-5156-4907-bb58-cfece52a0170",
   "metadata": {},
   "outputs": [
    {
     "data": {
      "text/plain": [
       "[__main__.Mule, __main__.Donkey, __main__.Horse, __main__.Animal, object]"
      ]
     },
     "execution_count": 16,
     "metadata": {},
     "output_type": "execute_result"
    }
   ],
   "source": [
    "#Method Resolution Order(메소드 결정 순서): 클래스 간의 관계를 나타냄\n",
    "Mule.mro() #Mule과 가까운 관계의 클래스부터"
   ]
  },
  {
   "cell_type": "markdown",
   "id": "be3ec063-b351-411a-bf6f-e218eef11fb2",
   "metadata": {},
   "source": [
    "### 다형성, duck typing\n",
    "- 상속을 통해 받아온 형태가 같은 코드들이 각자 다른 기능을 수행하는 것\n",
    "- 수정이 필요할 때 부모 클래스만 수정하면 되기 때문에 편리함"
   ]
  },
  {
   "cell_type": "code",
   "execution_count": 17,
   "id": "8f1996ff-9326-4fd2-aa6d-3a665fefd804",
   "metadata": {},
   "outputs": [
    {
     "name": "stdout",
     "output_type": "stream",
     "text": [
      "동물이 운다.\n",
      "히히힝\n",
      "히이호\n"
     ]
    }
   ],
   "source": [
    "for animal in [Animal(), Horse(), Mule()]:\n",
    "    print(animal.says()) #같은 says()지만 각각의 기능을 수행"
   ]
  },
  {
   "cell_type": "markdown",
   "id": "05cebafc-ab9b-4a5e-bdf2-0c1bfb320087",
   "metadata": {},
   "source": [
    "### 메서드\n",
    "- 인스턴스 메서드\n",
    "  - 첫 번째 인수가 self인 메서드\n",
    "  - 객체 내부에서 생성되는 메서드\n",
    "  - 객체를 생성해야 사용 가능\n",
    "- 클래스 메서드\n",
    "  - cls와 @classmethod를 통해 구현\n",
    "  - 클래스 전체 범위에서 작용하는 메서드 => 객체마다 달라지지 않음\n",
    "  - 모든 객체가 공유하는 메소드(클래스 변수도 존재)\n",
    "  - 객체를 생성하지 않고 메서드에 접근 가능\n",
    "- 정적 메서드\n",
    "  - @staticmethod를 통해 구현\n",
    "  - self를 첫번째 인수로 가지지 않음\n",
    "  - 클래스나 인스턴스에 접근하지 않음\n",
    "  - 클래스 내에서 정의될 필요가 없어도 비슷한 유틸리티일 경우 클래스 내에 묶어두기 위해 사용함\n",
    "  - 객체를 생성하지 않고 메서드 접근 가능\n",
    "- 추상 메서드\n",
    "  - abstractmethod를 통해 구현(abc를 import해야함)\n",
    "  - 가독성을 높이기 위한 청사진의 역할(자식 클래스들이 필수적으로 가져야할 요소를 안내하는 기능)"
   ]
  },
  {
   "cell_type": "code",
   "execution_count": 18,
   "id": "3214a614-baf5-444e-a95e-e6ec80e447b4",
   "metadata": {},
   "outputs": [
    {
     "data": {
      "text/plain": [
       "'히히힝'"
      ]
     },
     "execution_count": 18,
     "metadata": {},
     "output_type": "execute_result"
    }
   ],
   "source": [
    "#인스턴스 메서드\n",
    "h = Hinny()\n",
    "h.says()"
   ]
  },
  {
   "cell_type": "code",
   "execution_count": 19,
   "id": "910d038f-8795-42b8-b09f-c50b7c8bfae2",
   "metadata": {},
   "outputs": [],
   "source": [
    "#클래스 메서드\n",
    "class A:\n",
    "    cnt = 0\n",
    "    \n",
    "    @classmethod\n",
    "    def move(cls): #self, super(), cls()\n",
    "        # print(A.cnt) => 비정상적인 표현임\n",
    "        print(cls.cnt)"
   ]
  },
  {
   "cell_type": "code",
   "execution_count": 20,
   "id": "3b38c101-33bf-4cda-8fc1-5b6ecaaa91d7",
   "metadata": {},
   "outputs": [
    {
     "name": "stdout",
     "output_type": "stream",
     "text": [
      "0\n"
     ]
    }
   ],
   "source": [
    "A().move()"
   ]
  },
  {
   "cell_type": "code",
   "execution_count": 21,
   "id": "f367e2de-c72f-4df5-82fd-ef55544115ab",
   "metadata": {},
   "outputs": [],
   "source": [
    "class B:\n",
    "    cnt = 0\n",
    "    def __init__(self):\n",
    "        B.cnt += 1 #직접 추가하거나 cls 사용 불가하기 때문에 이러한 형태로 사용해야함\n",
    "\n",
    "    @classmethod\n",
    "    def count(cls):\n",
    "        #객체가 생성될 때마다 횟수 증가해서 프린트하기\n",
    "        #cls.cnt += 1\n",
    "        print(cls.cnt)"
   ]
  },
  {
   "cell_type": "code",
   "execution_count": 22,
   "id": "5afb1f3d-0e96-40cf-bb9e-073dc6e8f1cd",
   "metadata": {},
   "outputs": [
    {
     "name": "stdout",
     "output_type": "stream",
     "text": [
      "4\n"
     ]
    }
   ],
   "source": [
    "B()\n",
    "B()\n",
    "B()\n",
    "B().count()"
   ]
  },
  {
   "cell_type": "code",
   "execution_count": 23,
   "id": "2d0dc391-602c-410c-b1d0-9dee85489cdd",
   "metadata": {},
   "outputs": [],
   "source": [
    "class Person:\n",
    "    def __init__(self, name, age):\n",
    "        self.name = name\n",
    "        self.age = age\n",
    "        \n",
    "    @classmethod\n",
    "    def tuple_object(cls, args):\n",
    "        #튜플로 인자를 받아서 객체 생성하는 메서드 만들기\n",
    "        return cls(args[0], args[1])\n",
    "\n",
    "                   \n",
    "                   \n",
    "name = 'Kim'\n",
    "age = 20\n",
    "\n",
    "p1 = Person(name, age)\n",
    "\n",
    "info = name, age\n",
    "p2 = Person.tuple_object(info) #객체 생성하지 않고 접근함(실질적으로 객체에 종속된 함수가 아님)"
   ]
  },
  {
   "cell_type": "code",
   "execution_count": 24,
   "id": "ee349393-e2ac-4100-a64f-82833006e710",
   "metadata": {},
   "outputs": [
    {
     "data": {
      "text/plain": [
       "'Kim'"
      ]
     },
     "execution_count": 24,
     "metadata": {},
     "output_type": "execute_result"
    }
   ],
   "source": [
    "p2.name"
   ]
  },
  {
   "cell_type": "code",
   "execution_count": 25,
   "id": "6e9a17d1-9a20-4aab-b2a6-31bca3666315",
   "metadata": {},
   "outputs": [
    {
     "data": {
      "text/plain": [
       "20"
      ]
     },
     "execution_count": 25,
     "metadata": {},
     "output_type": "execute_result"
    }
   ],
   "source": [
    "p2.age"
   ]
  },
  {
   "cell_type": "code",
   "execution_count": 26,
   "id": "464a6da0-f21f-48d8-a062-4b550155625b",
   "metadata": {},
   "outputs": [
    {
     "data": {
      "text/plain": [
       "'krrr'"
      ]
     },
     "execution_count": 26,
     "metadata": {},
     "output_type": "execute_result"
    }
   ],
   "source": [
    "#정적 메서드\n",
    "class Coyote:\n",
    "    \n",
    "    @staticmethod\n",
    "    def says(): #self를 가지지 않는다\n",
    "        return 'krrr'\n",
    "    \n",
    "Coyote.says()"
   ]
  },
  {
   "cell_type": "code",
   "execution_count": 27,
   "id": "a3de26dd-c7e6-4b91-9d11-6071c639cf7a",
   "metadata": {},
   "outputs": [],
   "source": [
    "from abc import *\n",
    "\n",
    "class Vehicle(metaclass=ABCMeta): #추상 클래스\n",
    "    #변수에 뭘 넣을지를 정의(가이드 기능)\n",
    "    speed = '속도'\n",
    "    \n",
    "    #자식 클래스가 오버라이드해야 하는 메서드 => 이 단계에서 구체화되지 않음\n",
    "    @abstractmethod\n",
    "    def drive(self):\n",
    "        print('교통수단에 관하여')\n",
    "        \n",
    "    def stop(self):\n",
    "        pass\n",
    "    \n",
    "    def park(self):\n",
    "        pass\n",
    "    \n",
    "class Car(Vehicle):\n",
    "    def drive(self):\n",
    "        return super().speed #추상 메서드로 이 부분이 필수적임을 정의했기 때문에 pass 불가능"
   ]
  },
  {
   "cell_type": "code",
   "execution_count": 28,
   "id": "713a12ec-9616-4383-933b-b5824b07436d",
   "metadata": {},
   "outputs": [
    {
     "data": {
      "text/plain": [
       "'속도'"
      ]
     },
     "execution_count": 28,
     "metadata": {},
     "output_type": "execute_result"
    }
   ],
   "source": [
    "a = Car() #내가 쓴거\n",
    "a.drive()"
   ]
  },
  {
   "cell_type": "markdown",
   "id": "80e7b4e0-5e45-45d8-a189-d33f09a5d43f",
   "metadata": {
    "tags": []
   },
   "source": [
    "### 매직메서드\n",
    "- __init__ : special method\n",
    "\n",
    "- object 클래스를 재정의 하는 것\n",
    "  - <__str__>\n",
    "  - <__repr__>"
   ]
  },
  {
   "cell_type": "code",
   "execution_count": 29,
   "id": "8044c52e-d436-47c8-8d0f-a2e06d4cfe39",
   "metadata": {},
   "outputs": [],
   "source": [
    "class Person:\n",
    "    def __init__(self, name):\n",
    "        self.name = name\n",
    "        \n",
    "    def __str__(self):\n",
    "        #인스턴스를 스트링으로 출력: 이름, 메모리 주소\n",
    "        #print(인스턴스) 했을 때 출력되는 값\n",
    "        return self.name\n",
    "    \n",
    "    def __repr__(self):\n",
    "        #사용자가 이해할 수 있게 객체를 출력하고 싶을 때 사용\n",
    "        return f'Person({self.name})'"
   ]
  },
  {
   "cell_type": "code",
   "execution_count": 30,
   "id": "9e6e313a-c806-4148-948e-871c48f5a5ff",
   "metadata": {},
   "outputs": [
    {
     "data": {
      "text/plain": [
       "Person(lee)"
      ]
     },
     "execution_count": 30,
     "metadata": {},
     "output_type": "execute_result"
    }
   ],
   "source": [
    "p = Person('lee')\n",
    "p"
   ]
  },
  {
   "cell_type": "code",
   "execution_count": 31,
   "id": "c9c3c5f4-52f6-4ebb-b519-a7446ff4f18d",
   "metadata": {},
   "outputs": [
    {
     "name": "stdout",
     "output_type": "stream",
     "text": [
      "lee\n"
     ]
    }
   ],
   "source": [
    "print(p.__str__())"
   ]
  },
  {
   "cell_type": "code",
   "execution_count": 32,
   "id": "12e8db62-8dd0-45ba-a13e-97a398ec1ade",
   "metadata": {},
   "outputs": [
    {
     "data": {
      "text/plain": [
       "'lee'"
      ]
     },
     "execution_count": 32,
     "metadata": {},
     "output_type": "execute_result"
    }
   ],
   "source": [
    "str(p) #str()로도 가능"
   ]
  },
  {
   "cell_type": "code",
   "execution_count": 33,
   "id": "36352bec-9e6b-45e4-8559-fd56320f290f",
   "metadata": {},
   "outputs": [
    {
     "name": "stdout",
     "output_type": "stream",
     "text": [
      "Person(lee)\n"
     ]
    }
   ],
   "source": [
    "print(p.__repr__())"
   ]
  },
  {
   "cell_type": "code",
   "execution_count": 34,
   "id": "4be042a4-9fed-452d-ae49-411d297b2365",
   "metadata": {},
   "outputs": [
    {
     "data": {
      "text/plain": [
       "'Person(lee)'"
      ]
     },
     "execution_count": 34,
     "metadata": {},
     "output_type": "execute_result"
    }
   ],
   "source": [
    "repr(p) #repr()로도 가능"
   ]
  },
  {
   "cell_type": "markdown",
   "id": "78904ea2-ab80-4971-ae60-1455b6352371",
   "metadata": {},
   "source": [
    "### namedtuple, dataclass\n",
    "- 변수만 있는 클래스 설정할 때 더 효율적으로 사용하는 수단\n",
    "- 딕셔너리 키와 같은 기능\n",
    "- 불변 객체"
   ]
  },
  {
   "cell_type": "code",
   "execution_count": 35,
   "id": "bb86ca34-3afa-488a-88cb-06660299abc0",
   "metadata": {},
   "outputs": [],
   "source": [
    "#namedtuple\n",
    "from collections import namedtuple\n",
    "\n",
    "Person = namedtuple('Person', 'name age')\n",
    "a = Person('kim', 33)"
   ]
  },
  {
   "cell_type": "code",
   "execution_count": 36,
   "id": "d90abf64-41b8-4f68-8f12-fce79fcb2b2e",
   "metadata": {},
   "outputs": [
    {
     "data": {
      "text/plain": [
       "'kim'"
      ]
     },
     "execution_count": 36,
     "metadata": {},
     "output_type": "execute_result"
    }
   ],
   "source": [
    "a.name"
   ]
  },
  {
   "cell_type": "code",
   "execution_count": 37,
   "id": "7cac3571-6738-4381-ba9f-a18624ac4017",
   "metadata": {},
   "outputs": [
    {
     "data": {
      "text/plain": [
       "33"
      ]
     },
     "execution_count": 37,
     "metadata": {},
     "output_type": "execute_result"
    }
   ],
   "source": [
    "a.age"
   ]
  },
  {
   "cell_type": "code",
   "execution_count": 38,
   "id": "186bb9ae-a422-46d3-8ee8-4badf8506025",
   "metadata": {},
   "outputs": [],
   "source": [
    "b = a._replace(name = 'lee')"
   ]
  },
  {
   "cell_type": "code",
   "execution_count": 39,
   "id": "38ef584e-774b-4794-9876-90ee428972f5",
   "metadata": {},
   "outputs": [],
   "source": [
    "#dataclass\n",
    "from dataclasses import dataclass\n",
    "\n",
    "@dataclass\n",
    "class Person:\n",
    "    name: str\n",
    "    age: int"
   ]
  },
  {
   "cell_type": "code",
   "execution_count": 40,
   "id": "72f07ada-1454-428c-aa52-0571b8cb01a1",
   "metadata": {},
   "outputs": [],
   "source": [
    "a = Person('kim', 33)"
   ]
  },
  {
   "cell_type": "code",
   "execution_count": 41,
   "id": "ad1522fe-b041-486f-b2e7-0b168be889af",
   "metadata": {},
   "outputs": [
    {
     "data": {
      "text/plain": [
       "33"
      ]
     },
     "execution_count": 41,
     "metadata": {},
     "output_type": "execute_result"
    }
   ],
   "source": [
    "a.age"
   ]
  },
  {
   "cell_type": "code",
   "execution_count": null,
   "id": "f080be42-14e3-4ed4-9fa3-9d6d91778467",
   "metadata": {},
   "outputs": [],
   "source": []
  }
 ],
 "metadata": {
  "kernelspec": {
   "display_name": "Python 3 (ipykernel)",
   "language": "python",
   "name": "python3"
  },
  "language_info": {
   "codemirror_mode": {
    "name": "ipython",
    "version": 3
   },
   "file_extension": ".py",
   "mimetype": "text/x-python",
   "name": "python",
   "nbconvert_exporter": "python",
   "pygments_lexer": "ipython3",
   "version": "3.9.7"
  }
 },
 "nbformat": 4,
 "nbformat_minor": 5
}
