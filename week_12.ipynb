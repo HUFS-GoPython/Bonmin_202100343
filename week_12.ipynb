{
 "cells": [
  {
   "cell_type": "markdown",
   "id": "8905339c-0dcd-4dd7-bb58-13a9e26d4b6d",
   "metadata": {},
   "source": [
    "# week_12"
   ]
  },
  {
   "cell_type": "markdown",
   "id": "d3665a04-477d-4cb1-b82d-608d918ae450",
   "metadata": {},
   "source": [
    "## 함수 II"
   ]
  },
  {
   "cell_type": "markdown",
   "id": "f704bea3-9191-4e6e-8f7d-7198eca50143",
   "metadata": {
    "tags": []
   },
   "source": [
    "### asterisk (stars) \n",
    "- *, **"
   ]
  },
  {
   "cell_type": "markdown",
   "id": "de5e89a2-5617-490d-992c-c702d439a1c3",
   "metadata": {},
   "source": [
    "#### *"
   ]
  },
  {
   "cell_type": "code",
   "execution_count": 1,
   "id": "cc642678-cf0e-47dd-9638-938b5593d386",
   "metadata": {},
   "outputs": [
    {
     "name": "stdout",
     "output_type": "stream",
     "text": [
      "Hello Guten Tag Bonjour\n"
     ]
    }
   ],
   "source": [
    "#인자를 튜플로 묶어서 활용하는 역할\n",
    "#다수의 인자를 입력 가능함\n",
    "def print_arg(*args): #1. 패킹(인자를 튜플로 묶음)\n",
    "    print(*args) #2. 언패킹(튜플을 다시 인자로 풀어줌)\n",
    "    \n",
    "print_arg('Hello', 'Guten Tag', 'Bonjour')"
   ]
  },
  {
   "cell_type": "code",
   "execution_count": 2,
   "id": "4563c689-2595-4654-8e72-50b43e4c63b9",
   "metadata": {},
   "outputs": [
    {
     "name": "stdout",
     "output_type": "stream",
     "text": [
      "obligatory book\n",
      "1 2 3 4\n",
      "obligatory book\n",
      "(1, 2, 3, 4)\n",
      "obligatory book\n",
      "1 2 3 4\n"
     ]
    }
   ],
   "source": [
    "def print_arg2(name, *args):\n",
    "    print('obligatory', name)\n",
    "    print(*args)\n",
    "    \n",
    "print_arg2('book', 1, 2, 3, 4)\n",
    "nums = (1, 2, 3, 4) #처음부터 튜플인 변수도 *을 이용해 언패킹할 수 있다\n",
    "x= print_arg2('book', nums)\n",
    "y= print_arg2('book', *nums)"
   ]
  },
  {
   "cell_type": "markdown",
   "id": "62eb0b63-71ca-4707-9c13-996b03f181f8",
   "metadata": {},
   "source": [
    "##### 외부에서 활용하기\n",
    "- 컬렉션 자료형(리스트, 튜플, 딕셔너리 등) 언패킹 출력 시 zip()과 함께 자주 사용함\n",
    "- 키워드 전용 인수 선언\n",
    "  - 별 뒤에 오는 매개변수들은 반드시 키워드 인수로 들어오도록 설정하는 역할\n",
    "  - karg(keyword argument)와 혼선을 빚지 않기 위함"
   ]
  },
  {
   "cell_type": "code",
   "execution_count": 3,
   "id": "798c4c77-f95c-47b2-9c97-8fa988e0dc54",
   "metadata": {},
   "outputs": [
    {
     "name": "stdout",
     "output_type": "stream",
     "text": [
      "0 1 2 3 4\n"
     ]
    }
   ],
   "source": [
    "nums = list(range(5))\n",
    "print(*nums)"
   ]
  },
  {
   "cell_type": "code",
   "execution_count": 4,
   "id": "15b80a30-3644-414f-824e-9911265075a9",
   "metadata": {},
   "outputs": [
    {
     "name": "stdout",
     "output_type": "stream",
     "text": [
      "(1, 3, 5)\n",
      "(2, 4, 6)\n"
     ]
    }
   ],
   "source": [
    "a = [\n",
    "    [1, 2],\n",
    "    [3, 4],\n",
    "    [5, 6]\n",
    "]\n",
    "\n",
    "#1, 3, 5/ 2, 4, 6와 같이 열을 순환하려면?\n",
    "\n",
    "for raw in zip(*a):\n",
    "    print(raw)"
   ]
  },
  {
   "cell_type": "code",
   "execution_count": 5,
   "id": "ac701f9a-4a50-411a-9393-86438d1d7146",
   "metadata": {},
   "outputs": [],
   "source": [
    "def print_data(data, *, start, end): # * 이후에 등장하는 변수 start와 end는 반드시 키워드 인수로 입력되어야함\n",
    "    for value in data[start:end]:\n",
    "        print(value)"
   ]
  },
  {
   "cell_type": "code",
   "execution_count": 6,
   "id": "5d4bf3c1-2ba6-4c7f-897b-a23f0637948d",
   "metadata": {},
   "outputs": [
    {
     "name": "stdout",
     "output_type": "stream",
     "text": [
      "1\n",
      "2\n"
     ]
    }
   ],
   "source": [
    "print_data(nums, start=1, end=3)"
   ]
  },
  {
   "cell_type": "code",
   "execution_count": 7,
   "id": "94e149f7-9354-4225-9327-326d3a54daf0",
   "metadata": {},
   "outputs": [
    {
     "ename": "TypeError",
     "evalue": "print_data() takes 1 positional argument but 3 were given",
     "output_type": "error",
     "traceback": [
      "\u001b[1;31m---------------------------------------------------------------------------\u001b[0m",
      "\u001b[1;31mTypeError\u001b[0m                                 Traceback (most recent call last)",
      "\u001b[1;32m~\\AppData\\Local\\Temp/ipykernel_22220/3543442604.py\u001b[0m in \u001b[0;36m<module>\u001b[1;34m\u001b[0m\n\u001b[1;32m----> 1\u001b[1;33m \u001b[0mprint_data\u001b[0m\u001b[1;33m(\u001b[0m\u001b[0mnums\u001b[0m\u001b[1;33m,\u001b[0m \u001b[1;36m1\u001b[0m\u001b[1;33m,\u001b[0m \u001b[1;36m3\u001b[0m\u001b[1;33m)\u001b[0m \u001b[1;31m#그렇지 않을 경우 오류 발생\u001b[0m\u001b[1;33m\u001b[0m\u001b[1;33m\u001b[0m\u001b[0m\n\u001b[0m",
      "\u001b[1;31mTypeError\u001b[0m: print_data() takes 1 positional argument but 3 were given"
     ]
    }
   ],
   "source": [
    "print_data(nums, 1, 3) #그렇지 않을 경우 오류 발생"
   ]
  },
  {
   "cell_type": "markdown",
   "id": "135bf45e-6b96-478d-862f-13a88e94c2ca",
   "metadata": {},
   "source": [
    "#### **"
   ]
  },
  {
   "cell_type": "code",
   "execution_count": 8,
   "id": "c61c7c68-f7b9-4102-ae04-30e4e58b4aa6",
   "metadata": {},
   "outputs": [
    {
     "name": "stdout",
     "output_type": "stream",
     "text": [
      "{'wine': 'vodka', 'dessert': 'cake'}\n"
     ]
    }
   ],
   "source": [
    "#인자를 튜플로 묶어서 활용하는 역할\n",
    "#언패킹 기능은 없음\n",
    "def print_kargs1(**kargs):\n",
    "    print(kargs)\n",
    "    \n",
    "print_kargs1(wine='vodka', dessert='cake')"
   ]
  },
  {
   "cell_type": "code",
   "execution_count": 9,
   "id": "006544e9-fbc9-456f-85e7-3fb702c2196b",
   "metadata": {},
   "outputs": [
    {
     "name": "stdout",
     "output_type": "stream",
     "text": [
      "merlot is semi-sweet\n"
     ]
    }
   ],
   "source": [
    "#key, value값만 이용하기\n",
    "def print_kargs2(**kargs):\n",
    "    #value값 찾기\n",
    "    print(kargs['wine'], 'is semi-sweet')\n",
    "    #get(key, default) 키 값 찾기\n",
    "    \n",
    "print_kargs2(wine='merlot', dessert='cookies')"
   ]
  },
  {
   "cell_type": "code",
   "execution_count": 10,
   "id": "5ae3f42c-3894-4e0a-802a-0432ff4bb485",
   "metadata": {},
   "outputs": [
    {
     "name": "stdout",
     "output_type": "stream",
     "text": [
      "{'wine': 'merlot', 'dessert': 'scone'}\n",
      "{'wine': 'cabernet', 'dessert': 'scone'}\n",
      "{'wine': 'crianza', 'dessert': 'scone'}\n"
     ]
    }
   ],
   "source": [
    "wine_list = 'merlot cabernet crianza'.split()\n",
    "for wine in wine_list:\n",
    "    print_kargs1(wine=wine, dessert='scone')"
   ]
  },
  {
   "cell_type": "code",
   "execution_count": 11,
   "id": "66a3ffd4-c385-4416-817f-888ce6471b24",
   "metadata": {},
   "outputs": [
    {
     "name": "stdout",
     "output_type": "stream",
     "text": [
      "15\n",
      "1 2\n",
      "{'frist': 1, 'second': 2}\n",
      "(3, 4, 5)\n"
     ]
    }
   ],
   "source": [
    "def print_both(one, two, *args, **kargs):\n",
    "    print(one + two + sum(args))\n",
    "    print(one, two) #첫번째, 두번째 인수에는 순서대로 1, 2\n",
    "    print(kargs) #딕셔너리 형태로 받을 수 있는 마지막 두 인수는 kargs로\n",
    "    print(args) #그 사이 나머지는 args로 들어감\n",
    "    \n",
    "print_both(1, 2, 3, 4, 5, frist=1, second=2) #first, second-> one, two로 바꾸면 혼선 일어나서 오류"
   ]
  },
  {
   "cell_type": "markdown",
   "id": "03b3fad2-d48f-4e88-b719-7436d61cfdc6",
   "metadata": {},
   "source": [
    "python 3.5부터 **을 딕셔너리 결합에 사용 가능"
   ]
  },
  {
   "cell_type": "code",
   "execution_count": 12,
   "id": "55f59e93-e299-41fe-9882-2e30b5dda63c",
   "metadata": {},
   "outputs": [
    {
     "data": {
      "text/plain": [
       "{1: 'one', 2: 'three', 3: 'four'}"
      ]
     },
     "execution_count": 12,
     "metadata": {},
     "output_type": "execute_result"
    }
   ],
   "source": [
    "a = {1: 'one', 2: 'two'}\n",
    "b = {2: 'three', 3: 'four'}\n",
    "result = {**a, **b} #key값에 2가 두 개 존재하기 때문에 마지막 2의 value인 three가 value가 됨\n",
    "result"
   ]
  },
  {
   "cell_type": "markdown",
   "id": "9ff26e20-eea9-47ed-8135-5c1693c85e68",
   "metadata": {},
   "source": [
    "### 일급객체\n",
    "- first class object / first class citizen\n",
    "- 함수도 객체\n",
    "- 함수의 인자로 전달 가능\n",
    "- 반환값이 될 수 있음\n",
    "- 수정, 할당 가능"
   ]
  },
  {
   "cell_type": "code",
   "execution_count": 13,
   "id": "4eaff1d1-9989-49af-bbdf-ee0da8d90bae",
   "metadata": {},
   "outputs": [
    {
     "name": "stdout",
     "output_type": "stream",
     "text": [
      "1\n"
     ]
    }
   ],
   "source": [
    "def answer():\n",
    "    print(1)\n",
    "    \n",
    "def run_something(func): #함수 또한 객체이므로 다른 함수의 인자가 될 수 있음(파이썬에서만 가능)\n",
    "    func()\n",
    "    \n",
    "run_something(answer)"
   ]
  },
  {
   "cell_type": "code",
   "execution_count": 14,
   "id": "21f89c6f-d45b-4b2d-ac49-23a149a8b971",
   "metadata": {},
   "outputs": [
    {
     "name": "stdout",
     "output_type": "stream",
     "text": [
      "1\n"
     ]
    }
   ],
   "source": [
    "def answer():\n",
    "    print(1)\n",
    "    \n",
    "def run_something(func):\n",
    "    return func #반환값이 될 수도 있음\n",
    "\n",
    "run_something(answer)() #반환된 함수가 실행됨"
   ]
  },
  {
   "cell_type": "code",
   "execution_count": 15,
   "id": "3eb0aed7-7924-477d-8aa0-5e68a47db387",
   "metadata": {},
   "outputs": [
    {
     "data": {
      "text/plain": [
       "15"
      ]
     },
     "execution_count": 15,
     "metadata": {},
     "output_type": "execute_result"
    }
   ],
   "source": [
    "def sum_args(*args):\n",
    "    return sum(args)\n",
    "\n",
    "def run_with_positional_args(func, *args):\n",
    "    return func(*args)\n",
    "\n",
    "run_with_positional_args(sum_args, 1, 2, 3, 4, 5)"
   ]
  },
  {
   "cell_type": "code",
   "execution_count": 16,
   "id": "e576cb1a-6922-4349-8cb0-7f5bc9eadf92",
   "metadata": {},
   "outputs": [
    {
     "data": {
      "text/plain": [
       "[1, 3, 5, 9]"
      ]
     },
     "execution_count": 16,
     "metadata": {},
     "output_type": "execute_result"
    }
   ],
   "source": [
    "#가변 객체가 인자로 입력될 때, 초기화하지 않으면 변수의 값이 변경될 수 있음\n",
    "\n",
    "def func(num_list):\n",
    "    #변할 수 있음을 문서화하여 명시하거나 변하지 않도록 조치를 취해야함\n",
    "    sum_num = sum(num_list)\n",
    "    num_list.append(sum_num)\n",
    "    \n",
    "a = [1, 3, 5]\n",
    "func(a)\n",
    "a"
   ]
  },
  {
   "cell_type": "code",
   "execution_count": 17,
   "id": "4f92d54f-ecf6-4d1b-b486-5c37031b4bed",
   "metadata": {},
   "outputs": [
    {
     "data": {
      "text/plain": [
       "[1, 3, 5, 9, 18]"
      ]
     },
     "execution_count": 17,
     "metadata": {},
     "output_type": "execute_result"
    }
   ],
   "source": [
    "func(a)\n",
    "a #다시 실행하면 값이 변경됨"
   ]
  },
  {
   "cell_type": "markdown",
   "id": "186d7a91-b095-46be-85cc-ae38b04b5e42",
   "metadata": {},
   "source": [
    "### 익명함수 (람다)\n",
    "- lambda\n",
    "- 이름이 없는 함수 (def, return같은 예약어 사용 x)\n",
    "- 단순한 형태의 함수가 필요할 때\n",
    "- 주로 일회성으로 사용\n",
    "  - 직관성과 재활용성이 떨어지기 때문에 잦은 사용은 권장되지 않음\n",
    "- lambda x: <x에 대한 코드>"
   ]
  },
  {
   "cell_type": "code",
   "execution_count": 18,
   "id": "cbd66fa9-7c54-4de6-a958-f53b7988d325",
   "metadata": {},
   "outputs": [
    {
     "data": {
      "text/plain": [
       "('ok', 'ok')"
      ]
     },
     "execution_count": 18,
     "metadata": {},
     "output_type": "execute_result"
    }
   ],
   "source": [
    "def f(x):\n",
    "    return x.lower() #익명함수 lambda x: x.lower()를 일반적인 함수로 표현했을 경우\n",
    "\n",
    "f2 = lambda x: x.lower() #익명함수 형태\n",
    "f('OK'), f2('OK')"
   ]
  },
  {
   "cell_type": "code",
   "execution_count": 19,
   "id": "7736c494-ca93-40f1-8758-36b1b93e62b7",
   "metadata": {},
   "outputs": [
    {
     "data": {
      "text/plain": [
       "'ok'"
      ]
     },
     "execution_count": 19,
     "metadata": {},
     "output_type": "execute_result"
    }
   ],
   "source": [
    "(lambda x: x.lower())('OK') #괄호 안에 작성하면 특별한 변수에 저장하지 않고 바로 실행 가능함"
   ]
  },
  {
   "cell_type": "code",
   "execution_count": 20,
   "id": "679489aa-814b-42db-ad17-11adef9d5cb4",
   "metadata": {},
   "outputs": [
    {
     "data": {
      "text/plain": [
       "12"
      ]
     },
     "execution_count": 20,
     "metadata": {},
     "output_type": "execute_result"
    }
   ],
   "source": [
    "#함수 내에서 연산자와 다른 메소드 등을 사용할 수 있음\n",
    "f3 = lambda x, y: x * y\n",
    "f3(3, 4)"
   ]
  },
  {
   "cell_type": "code",
   "execution_count": 21,
   "id": "d4439c0a-ed4d-4278-93ac-9145c175bbb6",
   "metadata": {},
   "outputs": [
    {
     "data": {
      "text/plain": [
       "'Abc!'"
      ]
     },
     "execution_count": 21,
     "metadata": {},
     "output_type": "execute_result"
    }
   ],
   "source": [
    "#abc -> Abc!\n",
    "(lambda x: x.capitalize() + '!')('abc')"
   ]
  },
  {
   "cell_type": "code",
   "execution_count": null,
   "id": "aebb20a8-b5e4-4d48-97cb-7a0331589ac1",
   "metadata": {},
   "outputs": [],
   "source": []
  }
 ],
 "metadata": {
  "kernelspec": {
   "display_name": "Python 3 (ipykernel)",
   "language": "python",
   "name": "python3"
  },
  "language_info": {
   "codemirror_mode": {
    "name": "ipython",
    "version": 3
   },
   "file_extension": ".py",
   "mimetype": "text/x-python",
   "name": "python",
   "nbconvert_exporter": "python",
   "pygments_lexer": "ipython3",
   "version": "3.9.7"
  }
 },
 "nbformat": 4,
 "nbformat_minor": 5
}
